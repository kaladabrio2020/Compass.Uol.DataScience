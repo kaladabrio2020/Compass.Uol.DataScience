{
 "cells": [
  {
   "cell_type": "code",
   "execution_count": 15,
   "metadata": {},
   "outputs": [],
   "source": [
    "from pyspark.ml.regression import LinearRegression, RandomForestRegressor\n",
    "from pyspark.ml.evaluation import RegressionEvaluator\n",
    "from pyspark.ml.feature    import VectorAssembler\n",
    "from pyspark.sql.session   import SparkSession\n",
    "from pyspark.sql           import functions as f"
   ]
  },
  {
   "cell_type": "code",
   "execution_count": 7,
   "metadata": {},
   "outputs": [
    {
     "data": {
      "text/html": [
       "\n",
       "            <div>\n",
       "                <p><b>SparkSession - in-memory</b></p>\n",
       "                \n",
       "        <div>\n",
       "            <p><b>SparkContext</b></p>\n",
       "\n",
       "            <p><a href=\"http://192.168.3.11:4041\">Spark UI</a></p>\n",
       "\n",
       "            <dl>\n",
       "              <dt>Version</dt>\n",
       "                <dd><code>v3.5.1</code></dd>\n",
       "              <dt>Master</dt>\n",
       "                <dd><code>local[*]</code></dd>\n",
       "              <dt>AppName</dt>\n",
       "                <dd><code>ML</code></dd>\n",
       "            </dl>\n",
       "        </div>\n",
       "        \n",
       "            </div>\n",
       "        "
      ],
      "text/plain": [
       "<pyspark.sql.session.SparkSession at 0x7fbe6ff89b90>"
      ]
     },
     "execution_count": 7,
     "metadata": {},
     "output_type": "execute_result"
    }
   ],
   "source": [
    "spark = SparkSession.builder.appName('ML').getOrCreate()\n",
    "spark"
   ]
  },
  {
   "cell_type": "code",
   "execution_count": 47,
   "metadata": {},
   "outputs": [],
   "source": [
    "params = dict(\n",
    "    delimiter = ';',\n",
    "    header    = 'True',\n",
    "    inferschema='True'\n",
    ")\n",
    "carros = spark\\\n",
    "            .read.format('csv')\\\n",
    "            .options(**params).load('datasets/Carros.csv')"
   ]
  },
  {
   "cell_type": "code",
   "execution_count": 48,
   "metadata": {},
   "outputs": [
    {
     "name": "stdout",
     "output_type": "stream",
     "text": [
      "root\n",
      " |-- Consumo: integer (nullable = true)\n",
      " |-- Cilindros: integer (nullable = true)\n",
      " |-- Cilindradas: integer (nullable = true)\n",
      " |-- RelEixoTraseiro: integer (nullable = true)\n",
      " |-- Peso: integer (nullable = true)\n",
      " |-- Tempo: integer (nullable = true)\n",
      " |-- TipoMotor: integer (nullable = true)\n",
      " |-- Transmissao: integer (nullable = true)\n",
      " |-- Marchas: integer (nullable = true)\n",
      " |-- Carburadors: integer (nullable = true)\n",
      " |-- HP: integer (nullable = true)\n",
      "\n"
     ]
    }
   ],
   "source": [
    "carros.printSchema()"
   ]
  },
  {
   "cell_type": "code",
   "execution_count": 49,
   "metadata": {},
   "outputs": [
    {
     "name": "stdout",
     "output_type": "stream",
     "text": [
      "+-------+-----------------+------------------+-----------------+------------------+------------------+-----------------+------------------+-------------------+------------------+------------------+-----------------+\n",
      "|summary|          Consumo|         Cilindros|      Cilindradas|   RelEixoTraseiro|              Peso|            Tempo|         TipoMotor|        Transmissao|           Marchas|       Carburadors|               HP|\n",
      "+-------+-----------------+------------------+-----------------+------------------+------------------+-----------------+------------------+-------------------+------------------+------------------+-----------------+\n",
      "|  count|               32|                32|               32|                32|                32|               32|                32|                 32|                32|                32|               32|\n",
      "|   mean|         177.5625|            6.1875|        796.34375|         318.03125|        1257.78125|         969.8125|            0.4375|            0.40625|            3.6875|            2.8125|         146.6875|\n",
      "| stddev|84.01303182321794|1.7859216469465444|794.5358803232033|122.42482469504664|1534.3700763668455|832.5501220017696|0.5040161287741853|0.49899091723584604|0.7378040652569471|1.6151999776318522|68.56286848932059|\n",
      "|    min|               15|                 4|               79|                 3|                22|               18|                 0|                  0|                 3|                 1|               52|\n",
      "|    max|              339|                 8|             2758|               493|              5424|             2022|                 1|                  1|                 5|                 8|              335|\n",
      "+-------+-----------------+------------------+-----------------+------------------+------------------+-----------------+------------------+-------------------+------------------+------------------+-----------------+\n",
      "\n"
     ]
    }
   ],
   "source": [
    "carros.describe().show()"
   ]
  },
  {
   "cell_type": "code",
   "execution_count": 50,
   "metadata": {},
   "outputs": [
    {
     "name": "stdout",
     "output_type": "stream",
     "text": [
      "+-------+---------+-----------+---------------+----+-----+---------+-----------+-------+-----------+---+\n",
      "|Consumo|Cilindros|Cilindradas|RelEixoTraseiro|Peso|Tempo|TipoMotor|Transmissao|Marchas|Carburadors| HP|\n",
      "+-------+---------+-----------+---------------+----+-----+---------+-----------+-------+-----------+---+\n",
      "|     21|        6|        160|             39| 262| 1646|        0|          1|      4|          4|110|\n",
      "|     21|        6|        160|             39|2875| 1702|        0|          1|      4|          4|110|\n",
      "|    228|        4|        108|            385| 232| 1861|        1|          1|      4|          1| 93|\n",
      "+-------+---------+-----------+---------------+----+-----+---------+-----------+-------+-----------+---+\n",
      "only showing top 3 rows\n",
      "\n"
     ]
    }
   ],
   "source": [
    "carros.show(3)"
   ]
  },
  {
   "cell_type": "code",
   "execution_count": 51,
   "metadata": {},
   "outputs": [
    {
     "name": "stdout",
     "output_type": "stream",
     "text": [
      "+-------+---------+-----------+---------------+-----+-----+---------+-----------+-------+-----------+----+\n",
      "|Consumo|Cilindros|Cilindradas|RelEixoTraseiro| Peso|Tempo|TipoMotor|Transmissao|Marchas|Carburadors|  HP|\n",
      "+-------+---------+-----------+---------------+-----+-----+---------+-----------+-------+-----------+----+\n",
      "|   4467|       18|      17771|           7011|39204|29143|        1|          1|     12|         24|3180|\n",
      "+-------+---------+-----------+---------------+-----+-----+---------+-----------+-------+-----------+----+\n",
      "\n"
     ]
    }
   ],
   "source": [
    "carros.select(\n",
    "    [f.sum_distinct(f.col(i)).alias(i) for i in carros.columns]\n",
    "    ).show()"
   ]
  },
  {
   "cell_type": "code",
   "execution_count": 52,
   "metadata": {},
   "outputs": [
    {
     "data": {
      "text/plain": [
       "VectorAssembler_c744669575d9"
      ]
     },
     "execution_count": 52,
     "metadata": {},
     "output_type": "execute_result"
    }
   ],
   "source": [
    "encoder = VectorAssembler(\n",
    "    inputCols=[('Consumo'),('Cilindros'),('Cilindradas')], \n",
    "    outputCol='caracteristicas'\n",
    ")\n",
    "encoder"
   ]
  },
  {
   "cell_type": "code",
   "execution_count": 53,
   "metadata": {},
   "outputs": [],
   "source": [
    "carros = carros.select(['Consumo','Cilindros','Cilindradas','HP'])"
   ]
  },
  {
   "cell_type": "code",
   "execution_count": 54,
   "metadata": {},
   "outputs": [],
   "source": [
    "carros = encoder.transform(carros)"
   ]
  },
  {
   "cell_type": "code",
   "execution_count": 55,
   "metadata": {},
   "outputs": [
    {
     "name": "stdout",
     "output_type": "stream",
     "text": [
      "+-------+---------+-----------+---+------------------+\n",
      "|Consumo|Cilindros|Cilindradas| HP|   caracteristicas|\n",
      "+-------+---------+-----------+---+------------------+\n",
      "|     21|        6|        160|110|  [21.0,6.0,160.0]|\n",
      "|     21|        6|        160|110|  [21.0,6.0,160.0]|\n",
      "|    228|        4|        108| 93| [228.0,4.0,108.0]|\n",
      "|    214|        6|        258|110| [214.0,6.0,258.0]|\n",
      "|    187|        8|        360|175| [187.0,8.0,360.0]|\n",
      "|    181|        6|        225|105| [181.0,6.0,225.0]|\n",
      "|    143|        8|        360|245| [143.0,8.0,360.0]|\n",
      "|    244|        4|       1467| 62|[244.0,4.0,1467.0]|\n",
      "|    228|        4|       1408| 95|[228.0,4.0,1408.0]|\n",
      "|    192|        6|       1676|123|[192.0,6.0,1676.0]|\n",
      "|    178|        6|       1676|123|[178.0,6.0,1676.0]|\n",
      "|    164|        8|       2758|180|[164.0,8.0,2758.0]|\n",
      "|    173|        8|       2758|180|[173.0,8.0,2758.0]|\n",
      "|    152|        8|       2758|180|[152.0,8.0,2758.0]|\n",
      "|    104|        8|        472|205| [104.0,8.0,472.0]|\n",
      "|    104|        8|        460|215| [104.0,8.0,460.0]|\n",
      "|    147|        8|        440|230| [147.0,8.0,440.0]|\n",
      "|    324|        4|        787| 66| [324.0,4.0,787.0]|\n",
      "|    304|        4|        757| 52| [304.0,4.0,757.0]|\n",
      "|    339|        4|        711| 65| [339.0,4.0,711.0]|\n",
      "+-------+---------+-----------+---+------------------+\n",
      "only showing top 20 rows\n",
      "\n"
     ]
    }
   ],
   "source": [
    "carros.show()"
   ]
  },
  {
   "cell_type": "code",
   "execution_count": 56,
   "metadata": {},
   "outputs": [],
   "source": [
    "train, test = carros.randomSplit(weights=[0.75, 0.25], seed=42)"
   ]
  },
  {
   "cell_type": "code",
   "execution_count": 60,
   "metadata": {},
   "outputs": [
    {
     "data": {
      "text/plain": [
       "LinearRegression_b9ca3404a07e"
      ]
     },
     "execution_count": 60,
     "metadata": {},
     "output_type": "execute_result"
    }
   ],
   "source": [
    "reg = LinearRegression(\n",
    "    featuresCol='caracteristicas',\n",
    "    labelCol='HP'\n",
    "    )\n",
    "reg"
   ]
  },
  {
   "cell_type": "code",
   "execution_count": 65,
   "metadata": {},
   "outputs": [
    {
     "name": "stderr",
     "output_type": "stream",
     "text": [
      "24/05/10 18:28:20 WARN Instrumentation: [bd1fca83] regParam is zero, which might cause numerical instability and overfitting.\n"
     ]
    }
   ],
   "source": [
    "model = reg.fit(dataset=train)"
   ]
  },
  {
   "cell_type": "code",
   "execution_count": 67,
   "metadata": {},
   "outputs": [],
   "source": [
    "pred = model.transform(test)"
   ]
  },
  {
   "cell_type": "code",
   "execution_count": 69,
   "metadata": {},
   "outputs": [
    {
     "name": "stdout",
     "output_type": "stream",
     "text": [
      "+-------+---------+-----------+---+------------------+------------------+\n",
      "|Consumo|Cilindros|Cilindradas| HP|   caracteristicas|        prediction|\n",
      "+-------+---------+-----------+---+------------------+------------------+\n",
      "|     21|        6|        160|110|  [21.0,6.0,160.0]| 176.6769761803343|\n",
      "|    133|        8|        350|245| [133.0,8.0,350.0]| 216.0600490024798|\n",
      "|    147|        8|        440|230| [147.0,8.0,440.0]| 212.5232856856811|\n",
      "|    152|        8|        304|150| [152.0,8.0,304.0]|213.25582934964052|\n",
      "|    164|        8|       2758|180|[164.0,8.0,2758.0]|182.01360055097877|\n",
      "|    192|        8|        400|175| [192.0,8.0,400.0]| 205.0633823107468|\n",
      "|    215|        4|       1201| 97|[215.0,4.0,1201.0]| 68.72757990618165|\n",
      "|    304|        4|        951|113| [304.0,4.0,951.0]| 56.00181462650449|\n",
      "|    324|        4|        787| 66| [324.0,4.0,787.0]|54.421801264423046|\n",
      "+-------+---------+-----------+---+------------------+------------------+\n",
      "\n"
     ]
    }
   ],
   "source": [
    "pred.show()"
   ]
  }
 ],
 "metadata": {
  "kernelspec": {
   "display_name": "venvGlobal",
   "language": "python",
   "name": "python3"
  },
  "language_info": {
   "codemirror_mode": {
    "name": "ipython",
    "version": 3
   },
   "file_extension": ".py",
   "mimetype": "text/x-python",
   "name": "python",
   "nbconvert_exporter": "python",
   "pygments_lexer": "ipython3",
   "version": "3.11.9"
  }
 },
 "nbformat": 4,
 "nbformat_minor": 2
}
