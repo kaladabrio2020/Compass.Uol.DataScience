{
 "cells": [
  {
   "cell_type": "code",
   "execution_count": 31,
   "metadata": {},
   "outputs": [],
   "source": [
    "import numpy as np\n",
    "import pandas as pd\n",
    "from   sklearn.metrics import accuracy_score\n",
    "import matplotlib.pyplot as plt\n",
    "import tensorflow as tf\n",
    "import keras"
   ]
  },
  {
   "cell_type": "code",
   "execution_count": 3,
   "metadata": {},
   "outputs": [
    {
     "data": {
      "text/plain": [
       "'2.15.0'"
      ]
     },
     "execution_count": 3,
     "metadata": {},
     "output_type": "execute_result"
    }
   ],
   "source": [
    "tf.__version__"
   ]
  },
  {
   "cell_type": "code",
   "execution_count": 4,
   "metadata": {},
   "outputs": [],
   "source": [
    "fashionMnist = keras.datasets.fashion_mnist\n",
    "( xtrainFull, ytrainFull ), ( xtestFull, ytestFull ) = fashionMnist.load_data()"
   ]
  },
  {
   "cell_type": "code",
   "execution_count": 5,
   "metadata": {},
   "outputs": [],
   "source": [
    "xtestV, xtrain = xtrainFull[:5000]/255.0 , xtrainFull[5000:]/255.0\n",
    "ytestV, ytrain = ytrainFull[:5000] , ytrainFull[5000:]"
   ]
  },
  {
   "cell_type": "code",
   "execution_count": 6,
   "metadata": {},
   "outputs": [],
   "source": [
    "classNames = ['TShirt','trouser','pullover','Dress','Coat','Sandal','Shirt','Sneaker','Bag','AnkleBoot'],"
   ]
  },
  {
   "cell_type": "code",
   "execution_count": 7,
   "metadata": {},
   "outputs": [
    {
     "name": "stdout",
     "output_type": "stream",
     "text": [
      "WARNING:tensorflow:From c:\\Users\\mateu\\Documents\\venvGlobal\\Lib\\site-packages\\keras\\src\\backend.py:873: The name tf.get_default_graph is deprecated. Please use tf.compat.v1.get_default_graph instead.\n",
      "\n"
     ]
    }
   ],
   "source": [
    "model = keras.Sequential(\n",
    "    [\n",
    "        keras.layers.Flatten(input_shape=[28, 28]),\n",
    "        keras.layers.Dense(300,activation='relu'),\n",
    "        keras.layers.Dense(100,activation='relu'),\n",
    "        keras.layers.Dense(10,activation='softmax')\n",
    "    ]\n",
    ")"
   ]
  },
  {
   "cell_type": "code",
   "execution_count": null,
   "metadata": {},
   "outputs": [],
   "source": [
    "keras.utils.plot_model(\n",
    "    model, to_file='img/Mlp1.png', show_shapes=False, show_dtype=True,\n",
    "    show_layer_names=True, rankdir='TB', expand_nested=False, dpi=96,\n",
    "    layer_range=None, show_layer_activations=True, show_trainable=False\n",
    ")"
   ]
  },
  {
   "cell_type": "code",
   "execution_count": 8,
   "metadata": {},
   "outputs": [
    {
     "name": "stdout",
     "output_type": "stream",
     "text": [
      "Model: \"sequential\"\n",
      "_________________________________________________________________\n",
      " Layer (type)                Output Shape              Param #   \n",
      "=================================================================\n",
      " flatten (Flatten)           (None, 784)               0         \n",
      "                                                                 \n",
      " dense (Dense)               (None, 300)               235500    \n",
      "                                                                 \n",
      " dense_1 (Dense)             (None, 100)               30100     \n",
      "                                                                 \n",
      " dense_2 (Dense)             (None, 10)                1010      \n",
      "                                                                 \n",
      "=================================================================\n",
      "Total params: 266610 (1.02 MB)\n",
      "Trainable params: 266610 (1.02 MB)\n",
      "Non-trainable params: 0 (0.00 Byte)\n",
      "_________________________________________________________________\n"
     ]
    }
   ],
   "source": [
    "model.summary()"
   ]
  },
  {
   "cell_type": "markdown",
   "metadata": {},
   "source": [
    "Vendo o peso e vies de cada camada"
   ]
  },
  {
   "cell_type": "code",
   "execution_count": 9,
   "metadata": {},
   "outputs": [],
   "source": [
    "peso, vies = model.layers[1].get_weights()"
   ]
  },
  {
   "cell_type": "code",
   "execution_count": 10,
   "metadata": {},
   "outputs": [
    {
     "data": {
      "text/plain": [
       "((784, 300), (300,))"
      ]
     },
     "execution_count": 10,
     "metadata": {},
     "output_type": "execute_result"
    }
   ],
   "source": [
    "peso.shape,vies.shape"
   ]
  },
  {
   "cell_type": "code",
   "execution_count": 11,
   "metadata": {},
   "outputs": [],
   "source": [
    "model.compile(\n",
    "    optimizer=keras.optimizers.SGD(learning_rate=0.01),\n",
    "    loss     =keras.losses.sparse_categorical_crossentropy,\n",
    "    metrics  =[keras.metrics.sparse_categorical_accuracy]\n",
    ")"
   ]
  },
  {
   "cell_type": "code",
   "execution_count": 12,
   "metadata": {},
   "outputs": [
    {
     "name": "stdout",
     "output_type": "stream",
     "text": [
      "Epoch 1/30\n",
      "WARNING:tensorflow:From c:\\Users\\mateu\\Documents\\venvGlobal\\Lib\\site-packages\\keras\\src\\utils\\tf_utils.py:492: The name tf.ragged.RaggedTensorValue is deprecated. Please use tf.compat.v1.ragged.RaggedTensorValue instead.\n",
      "\n",
      "WARNING:tensorflow:From c:\\Users\\mateu\\Documents\\venvGlobal\\Lib\\site-packages\\keras\\src\\engine\\base_layer_utils.py:384: The name tf.executing_eagerly_outside_functions is deprecated. Please use tf.compat.v1.executing_eagerly_outside_functions instead.\n",
      "\n",
      "1719/1719 [==============================] - 7s 4ms/step - loss: 0.7295 - sparse_categorical_accuracy: 0.7627 - val_loss: 0.5289 - val_sparse_categorical_accuracy: 0.8178\n",
      "Epoch 2/30\n",
      "1719/1719 [==============================] - 6s 3ms/step - loss: 0.4914 - sparse_categorical_accuracy: 0.8299 - val_loss: 0.4554 - val_sparse_categorical_accuracy: 0.8496\n",
      "Epoch 3/30\n",
      "1719/1719 [==============================] - 6s 4ms/step - loss: 0.4454 - sparse_categorical_accuracy: 0.8456 - val_loss: 0.4880 - val_sparse_categorical_accuracy: 0.8194\n",
      "Epoch 4/30\n",
      "1719/1719 [==============================] - 7s 4ms/step - loss: 0.4193 - sparse_categorical_accuracy: 0.8535 - val_loss: 0.4202 - val_sparse_categorical_accuracy: 0.8554\n",
      "Epoch 5/30\n",
      "1719/1719 [==============================] - 6s 4ms/step - loss: 0.3973 - sparse_categorical_accuracy: 0.8607 - val_loss: 0.4027 - val_sparse_categorical_accuracy: 0.8616\n",
      "Epoch 6/30\n",
      "1719/1719 [==============================] - 6s 4ms/step - loss: 0.3824 - sparse_categorical_accuracy: 0.8659 - val_loss: 0.3694 - val_sparse_categorical_accuracy: 0.8710\n",
      "Epoch 7/30\n",
      "1719/1719 [==============================] - 6s 4ms/step - loss: 0.3698 - sparse_categorical_accuracy: 0.8698 - val_loss: 0.3724 - val_sparse_categorical_accuracy: 0.8728\n",
      "Epoch 8/30\n",
      "1719/1719 [==============================] - 6s 3ms/step - loss: 0.3581 - sparse_categorical_accuracy: 0.8736 - val_loss: 0.3646 - val_sparse_categorical_accuracy: 0.8752\n",
      "Epoch 9/30\n",
      "1719/1719 [==============================] - 6s 4ms/step - loss: 0.3474 - sparse_categorical_accuracy: 0.8773 - val_loss: 0.3571 - val_sparse_categorical_accuracy: 0.8786\n",
      "Epoch 10/30\n",
      "1719/1719 [==============================] - 6s 4ms/step - loss: 0.3377 - sparse_categorical_accuracy: 0.8812 - val_loss: 0.3458 - val_sparse_categorical_accuracy: 0.8814\n",
      "Epoch 11/30\n",
      "1719/1719 [==============================] - 6s 4ms/step - loss: 0.3288 - sparse_categorical_accuracy: 0.8830 - val_loss: 0.3460 - val_sparse_categorical_accuracy: 0.8808\n",
      "Epoch 12/30\n",
      "1719/1719 [==============================] - 6s 4ms/step - loss: 0.3220 - sparse_categorical_accuracy: 0.8856 - val_loss: 0.3449 - val_sparse_categorical_accuracy: 0.8790\n",
      "Epoch 13/30\n",
      "1719/1719 [==============================] - 6s 4ms/step - loss: 0.3132 - sparse_categorical_accuracy: 0.8887 - val_loss: 0.3407 - val_sparse_categorical_accuracy: 0.8810\n",
      "Epoch 14/30\n",
      "1719/1719 [==============================] - 6s 4ms/step - loss: 0.3070 - sparse_categorical_accuracy: 0.8894 - val_loss: 0.3320 - val_sparse_categorical_accuracy: 0.8826\n",
      "Epoch 15/30\n",
      "1719/1719 [==============================] - 6s 4ms/step - loss: 0.3013 - sparse_categorical_accuracy: 0.8924 - val_loss: 0.3244 - val_sparse_categorical_accuracy: 0.8840\n",
      "Epoch 16/30\n",
      "1719/1719 [==============================] - 6s 4ms/step - loss: 0.2942 - sparse_categorical_accuracy: 0.8950 - val_loss: 0.3204 - val_sparse_categorical_accuracy: 0.8866\n",
      "Epoch 17/30\n",
      "1719/1719 [==============================] - 6s 4ms/step - loss: 0.2887 - sparse_categorical_accuracy: 0.8973 - val_loss: 0.3111 - val_sparse_categorical_accuracy: 0.8894\n",
      "Epoch 18/30\n",
      "1719/1719 [==============================] - 6s 4ms/step - loss: 0.2833 - sparse_categorical_accuracy: 0.8978 - val_loss: 0.3227 - val_sparse_categorical_accuracy: 0.8858\n",
      "Epoch 19/30\n",
      "1719/1719 [==============================] - 5s 3ms/step - loss: 0.2775 - sparse_categorical_accuracy: 0.8993 - val_loss: 0.3280 - val_sparse_categorical_accuracy: 0.8856\n",
      "Epoch 20/30\n",
      "1719/1719 [==============================] - 5s 3ms/step - loss: 0.2727 - sparse_categorical_accuracy: 0.9019 - val_loss: 0.3341 - val_sparse_categorical_accuracy: 0.8832\n",
      "Epoch 21/30\n",
      "1719/1719 [==============================] - 5s 3ms/step - loss: 0.2674 - sparse_categorical_accuracy: 0.9037 - val_loss: 0.3277 - val_sparse_categorical_accuracy: 0.8848\n",
      "Epoch 22/30\n",
      "1719/1719 [==============================] - 5s 3ms/step - loss: 0.2632 - sparse_categorical_accuracy: 0.9051 - val_loss: 0.3519 - val_sparse_categorical_accuracy: 0.8750\n",
      "Epoch 23/30\n",
      "1719/1719 [==============================] - 5s 3ms/step - loss: 0.2587 - sparse_categorical_accuracy: 0.9081 - val_loss: 0.3104 - val_sparse_categorical_accuracy: 0.8896\n",
      "Epoch 24/30\n",
      "1719/1719 [==============================] - 5s 3ms/step - loss: 0.2537 - sparse_categorical_accuracy: 0.9086 - val_loss: 0.3115 - val_sparse_categorical_accuracy: 0.8888\n",
      "Epoch 25/30\n",
      "1719/1719 [==============================] - 5s 3ms/step - loss: 0.2495 - sparse_categorical_accuracy: 0.9097 - val_loss: 0.3083 - val_sparse_categorical_accuracy: 0.8908\n",
      "Epoch 26/30\n",
      "1719/1719 [==============================] - 5s 3ms/step - loss: 0.2455 - sparse_categorical_accuracy: 0.9117 - val_loss: 0.3126 - val_sparse_categorical_accuracy: 0.8920\n",
      "Epoch 27/30\n",
      "1719/1719 [==============================] - 5s 3ms/step - loss: 0.2415 - sparse_categorical_accuracy: 0.9141 - val_loss: 0.3010 - val_sparse_categorical_accuracy: 0.8894\n",
      "Epoch 28/30\n",
      "1719/1719 [==============================] - 5s 3ms/step - loss: 0.2369 - sparse_categorical_accuracy: 0.9142 - val_loss: 0.3208 - val_sparse_categorical_accuracy: 0.8894\n",
      "Epoch 29/30\n",
      "1719/1719 [==============================] - 5s 3ms/step - loss: 0.2339 - sparse_categorical_accuracy: 0.9165 - val_loss: 0.2986 - val_sparse_categorical_accuracy: 0.8958\n",
      "Epoch 30/30\n",
      "1719/1719 [==============================] - 5s 3ms/step - loss: 0.2293 - sparse_categorical_accuracy: 0.9172 - val_loss: 0.3063 - val_sparse_categorical_accuracy: 0.8882\n"
     ]
    }
   ],
   "source": [
    "history  = model.fit(xtrain, ytrain, epochs=30, validation_data=(xtestV,ytestV))"
   ]
  },
  {
   "cell_type": "code",
   "execution_count": 13,
   "metadata": {},
   "outputs": [
    {
     "data": {
      "image/png": "[encoded data removed]",
      "text/plain": [
       "<Figure size 800x500 with 1 Axes>"
      ]
     },
     "metadata": {},
     "output_type": "display_data"
    }
   ],
   "source": [
    "pd.DataFrame(history.history).plot(figsize=(8,5))\n",
    "plt.grid(True)\n",
    "plt.gca().set_ylim(-0.1,1)\n",
    "plt.show()"
   ]
  },
  {
   "cell_type": "code",
   "execution_count": 14,
   "metadata": {},
   "outputs": [
    {
     "name": "stdout",
     "output_type": "stream",
     "text": [
      "313/313 [==============================] - 2s 4ms/step - loss: 67.6323 - sparse_categorical_accuracy: 0.8406\n"
     ]
    },
    {
     "data": {
      "text/plain": [
       "[67.6323471069336, 0.8406000137329102]"
      ]
     },
     "execution_count": 14,
     "metadata": {},
     "output_type": "execute_result"
    }
   ],
   "source": [
    "model.evaluate(xtestFull,ytestFull)"
   ]
  },
  {
   "cell_type": "code",
   "execution_count": 32,
   "metadata": {},
   "outputs": [
    {
     "name": "stdout",
     "output_type": "stream",
     "text": [
      "157/157 [==============================] - 0s 2ms/step\n"
     ]
    },
    {
     "data": {
      "text/plain": [
       "0.8962"
      ]
     },
     "execution_count": 32,
     "metadata": {},
     "output_type": "execute_result"
    }
   ],
   "source": [
    "x = np.argmax(model.predict(xtestV), axis=-1)\n",
    "\n",
    "accuracy_score(ytestV,x)"
   ]
  },
  {
   "cell_type": "code",
   "execution_count": 15,
   "metadata": {},
   "outputs": [
    {
     "data": {
      "text/plain": [
       "(178, 13)"
      ]
     },
     "execution_count": 15,
     "metadata": {},
     "output_type": "execute_result"
    }
   ],
   "source": [
    "from sklearn.datasets import load_wine\n",
    "data = load_wine(return_X_y=True)\n",
    "data[0].shape"
   ]
  },
  {
   "cell_type": "markdown",
   "metadata": {},
   "source": [
    "# Regressão"
   ]
  },
  {
   "cell_type": "code",
   "execution_count": 34,
   "metadata": {},
   "outputs": [],
   "source": [
    "from sklearn.datasets import fetch_california_housing\n",
    "from sklearn.preprocessing import StandardScaler\n",
    "from sklearn.model_selection import train_test_split"
   ]
  },
  {
   "cell_type": "code",
   "execution_count": 35,
   "metadata": {},
   "outputs": [],
   "source": [
    "X, y = fetch_california_housing(return_X_y=True)"
   ]
  },
  {
   "cell_type": "code",
   "execution_count": 37,
   "metadata": {},
   "outputs": [
    {
     "data": {
      "text/plain": [
       "(20640, 8)"
      ]
     },
     "execution_count": 37,
     "metadata": {},
     "output_type": "execute_result"
    }
   ],
   "source": [
    "X.shape"
   ]
  },
  {
   "cell_type": "code",
   "execution_count": 42,
   "metadata": {},
   "outputs": [],
   "source": [
    "xtrainF, xtestF, ytrainF, ytestF = train_test_split(X, y, random_state=42 ,test_size=0.25)\n",
    "\n",
    "xtrain, xvalid , ytrain , yvalid = train_test_split(xtrainF, ytrainF, random_state=42, test_size=0.25)"
   ]
  },
  {
   "cell_type": "code",
   "execution_count": 44,
   "metadata": {},
   "outputs": [],
   "source": [
    "xtrain = StandardScaler().fit_transform(xtrain)\n",
    "xvalid = StandardScaler().fit_transform(xvalid)\n",
    "xtestF = StandardScaler().fit_transform(xtestF)"
   ]
  },
  {
   "cell_type": "code",
   "execution_count": 84,
   "metadata": {},
   "outputs": [],
   "source": [
    "model = keras.models.Sequential(\n",
    "    layers=[\n",
    "        keras.layers.Dense(30, activation='relu', input_shape=(8,)),\n",
    "        keras.layers.Dense(1)\n",
    "    ]\n",
    ")"
   ]
  },
  {
   "cell_type": "code",
   "execution_count": 85,
   "metadata": {},
   "outputs": [
    {
     "name": "stdout",
     "output_type": "stream",
     "text": [
      "Model: \"sequential_10\"\n",
      "_________________________________________________________________\n",
      " Layer (type)                Output Shape              Param #   \n",
      "=================================================================\n",
      " dense_26 (Dense)            (None, 30)                270       \n",
      "                                                                 \n",
      " dense_27 (Dense)            (None, 1)                 31        \n",
      "                                                                 \n",
      "=================================================================\n",
      "Total params: 301 (1.18 KB)\n",
      "Trainable params: 301 (1.18 KB)\n",
      "Non-trainable params: 0 (0.00 Byte)\n",
      "_________________________________________________________________\n"
     ]
    }
   ],
   "source": [
    "model.summary()"
   ]
  },
  {
   "cell_type": "code",
   "execution_count": 86,
   "metadata": {},
   "outputs": [
    {
     "name": "stdout",
     "output_type": "stream",
     "text": [
      "Epoch 1/20\n",
      "363/363 [==============================] - 2s 3ms/step - loss: 0.8882 - val_loss: 0.5627\n",
      "Epoch 2/20\n",
      "363/363 [==============================] - 1s 2ms/step - loss: 0.5146 - val_loss: 0.5220\n",
      "Epoch 3/20\n",
      "363/363 [==============================] - 1s 2ms/step - loss: 0.4822 - val_loss: 0.5076\n",
      "Epoch 4/20\n",
      "363/363 [==============================] - 1s 2ms/step - loss: 0.4663 - val_loss: 0.4976\n",
      "Epoch 5/20\n",
      "363/363 [==============================] - 1s 2ms/step - loss: 0.4557 - val_loss: 0.4874\n",
      "Epoch 6/20\n",
      "363/363 [==============================] - 1s 2ms/step - loss: 0.4483 - val_loss: 0.4803\n",
      "Epoch 7/20\n",
      "363/363 [==============================] - 1s 2ms/step - loss: 0.4423 - val_loss: 0.4750\n",
      "Epoch 8/20\n",
      "363/363 [==============================] - 1s 2ms/step - loss: 0.4387 - val_loss: 0.4686\n",
      "Epoch 9/20\n",
      "363/363 [==============================] - 1s 3ms/step - loss: 0.4349 - val_loss: 0.4680\n",
      "Epoch 10/20\n",
      "363/363 [==============================] - 1s 2ms/step - loss: 0.4318 - val_loss: 0.4612\n",
      "Epoch 11/20\n",
      "363/363 [==============================] - 1s 2ms/step - loss: 0.4291 - val_loss: 0.4611\n",
      "Epoch 12/20\n",
      "363/363 [==============================] - 1s 2ms/step - loss: 0.4269 - val_loss: 0.4562\n",
      "Epoch 13/20\n",
      "363/363 [==============================] - 1s 2ms/step - loss: 0.4251 - val_loss: 0.4563\n",
      "Epoch 14/20\n",
      "363/363 [==============================] - 1s 2ms/step - loss: 0.4239 - val_loss: 0.4543\n",
      "Epoch 15/20\n",
      "363/363 [==============================] - 1s 2ms/step - loss: 0.4230 - val_loss: 0.4513\n",
      "Epoch 16/20\n",
      "363/363 [==============================] - 1s 2ms/step - loss: 0.4212 - val_loss: 0.4530\n",
      "Epoch 17/20\n",
      "363/363 [==============================] - 1s 2ms/step - loss: 0.4205 - val_loss: 0.4526\n",
      "Epoch 18/20\n",
      "363/363 [==============================] - 1s 2ms/step - loss: 0.4192 - val_loss: 0.4547\n",
      "Epoch 19/20\n",
      "363/363 [==============================] - 1s 2ms/step - loss: 0.4184 - val_loss: 0.4492\n",
      "Epoch 20/20\n",
      "363/363 [==============================] - 1s 3ms/step - loss: 0.4169 - val_loss: 0.4572\n"
     ]
    }
   ],
   "source": [
    "model.compile( \n",
    "    optimizer = keras.optimizers.SGD(),\n",
    "    loss      = keras.losses.mean_absolute_error )\n",
    "history = model.fit( xtrain, ytrain, epochs=20, validation_data=(xvalid,yvalid))"
   ]
  },
  {
   "cell_type": "code",
   "execution_count": 87,
   "metadata": {},
   "outputs": [
    {
     "data": {
      "image/png": "[encoded data removed]",
      "text/plain": [
       "<Figure size 800x500 with 1 Axes>"
      ]
     },
     "metadata": {},
     "output_type": "display_data"
    }
   ],
   "source": [
    "pd.DataFrame(history.history).plot(figsize=(8,5))\n",
    "plt.grid(True)\n",
    "plt.gca().set_ylim(-0.1,1)\n",
    "plt.show()"
   ]
  }
 ],
 "metadata": {
  "kernelspec": {
   "display_name": "venvGlobal",
   "language": "python",
   "name": "python3"
  },
  "language_info": {
   "codemirror_mode": {
    "name": "ipython",
    "version": 3
   },
   "file_extension": ".py",
   "mimetype": "text/x-python",
   "name": "python",
   "nbconvert_exporter": "python",
   "pygments_lexer": "ipython3",
   "version": "3.11.8"
  }
 },
 "nbformat": 4,
 "nbformat_minor": 2
}
