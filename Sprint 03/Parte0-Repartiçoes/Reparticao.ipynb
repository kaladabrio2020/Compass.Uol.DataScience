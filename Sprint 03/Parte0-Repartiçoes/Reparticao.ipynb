{
 "cells": [
  {
   "cell_type": "code",
   "execution_count": 1,
   "metadata": {},
   "outputs": [],
   "source": [
    "from pyspark.sql import SparkSession"
   ]
  },
  {
   "cell_type": "code",
   "execution_count": 2,
   "metadata": {},
   "outputs": [
    {
     "name": "stderr",
     "output_type": "stream",
     "text": [
      "Setting default log level to \"WARN\".\n",
      "To adjust logging level use sc.setLogLevel(newLevel). For SparkR, use setLogLevel(newLevel).\n",
      "24/06/24 12:06:24 WARN NativeCodeLoader: Unable to load native-hadoop library for your platform... using builtin-java classes where applicable\n"
     ]
    }
   ],
   "source": [
    "spark = SparkSession.builder.appName('Particao').getOrCreate()"
   ]
  },
  {
   "cell_type": "code",
   "execution_count": 3,
   "metadata": {},
   "outputs": [
    {
     "data": {
      "text/html": [
       "\n",
       "            <div>\n",
       "                <p><b>SparkSession - in-memory</b></p>\n",
       "                \n",
       "        <div>\n",
       "            <p><b>SparkContext</b></p>\n",
       "\n",
       "            <p><a href=\"http://192.168.3.13:4040\">Spark UI</a></p>\n",
       "\n",
       "            <dl>\n",
       "              <dt>Version</dt>\n",
       "                <dd><code>v3.5.1</code></dd>\n",
       "              <dt>Master</dt>\n",
       "                <dd><code>local[*]</code></dd>\n",
       "              <dt>AppName</dt>\n",
       "                <dd><code>Particao</code></dd>\n",
       "            </dl>\n",
       "        </div>\n",
       "        \n",
       "            </div>\n",
       "        "
      ],
      "text/plain": [
       "<pyspark.sql.session.SparkSession at 0x7f4818b127d0>"
      ]
     },
     "execution_count": 3,
     "metadata": {},
     "output_type": "execute_result"
    }
   ],
   "source": [
    "spark"
   ]
  },
  {
   "cell_type": "code",
   "execution_count": 4,
   "metadata": {},
   "outputs": [
    {
     "name": "stderr",
     "output_type": "stream",
     "text": [
      "                                                                                \r"
     ]
    }
   ],
   "source": [
    "params = dict(\n",
    "    delimiter =',', header='True', inferschema='True'\n",
    ")\n",
    "data= spark.read.format('csv').options(**params).load('datasets/iris.csv')"
   ]
  },
  {
   "cell_type": "code",
   "execution_count": 5,
   "metadata": {},
   "outputs": [
    {
     "name": "stdout",
     "output_type": "stream",
     "text": [
      "+-----------+----------+-----------+----------+-----------+\n",
      "|sepallength|sepalwidth|petallength|petalwidth|      class|\n",
      "+-----------+----------+-----------+----------+-----------+\n",
      "|        5.1|       3.5|        1.4|       0.2|Iris-setosa|\n",
      "|        4.9|       3.0|        1.4|       0.2|Iris-setosa|\n",
      "|        4.7|       3.2|        1.3|       0.2|Iris-setosa|\n",
      "|        4.6|       3.1|        1.5|       0.2|Iris-setosa|\n",
      "|        5.0|       3.6|        1.4|       0.2|Iris-setosa|\n",
      "|        5.4|       3.9|        1.7|       0.4|Iris-setosa|\n",
      "|        4.6|       3.4|        1.4|       0.3|Iris-setosa|\n",
      "|        5.0|       3.4|        1.5|       0.2|Iris-setosa|\n",
      "|        4.4|       2.9|        1.4|       0.2|Iris-setosa|\n",
      "|        4.9|       3.1|        1.5|       0.1|Iris-setosa|\n",
      "|        5.4|       3.7|        1.5|       0.2|Iris-setosa|\n",
      "|        4.8|       3.4|        1.6|       0.2|Iris-setosa|\n",
      "|        4.8|       3.0|        1.4|       0.1|Iris-setosa|\n",
      "|        4.3|       3.0|        1.1|       0.1|Iris-setosa|\n",
      "|        5.8|       4.0|        1.2|       0.2|Iris-setosa|\n",
      "|        5.7|       4.4|        1.5|       0.4|Iris-setosa|\n",
      "|        5.4|       3.9|        1.3|       0.4|Iris-setosa|\n",
      "|        5.1|       3.5|        1.4|       0.3|Iris-setosa|\n",
      "|        5.7|       3.8|        1.7|       0.3|Iris-setosa|\n",
      "|        5.1|       3.8|        1.5|       0.3|Iris-setosa|\n",
      "+-----------+----------+-----------+----------+-----------+\n",
      "only showing top 20 rows\n",
      "\n"
     ]
    }
   ],
   "source": [
    "data.show()"
   ]
  },
  {
   "cell_type": "code",
   "execution_count": 6,
   "metadata": {},
   "outputs": [],
   "source": [
    "data = data.repartition(10)"
   ]
  },
  {
   "cell_type": "code",
   "execution_count": 7,
   "metadata": {},
   "outputs": [
    {
     "data": {
      "text/plain": [
       "10"
      ]
     },
     "execution_count": 7,
     "metadata": {},
     "output_type": "execute_result"
    }
   ],
   "source": [
    "data.rdd.getNumPartitions()"
   ]
  },
  {
   "cell_type": "code",
   "execution_count": 8,
   "metadata": {},
   "outputs": [
    {
     "data": {
      "text/plain": [
       "150"
      ]
     },
     "execution_count": 8,
     "metadata": {},
     "output_type": "execute_result"
    }
   ],
   "source": [
    "data.count()"
   ]
  },
  {
   "cell_type": "code",
   "execution_count": 9,
   "metadata": {},
   "outputs": [
    {
     "name": "stdout",
     "output_type": "stream",
     "text": [
      "+-----------+----------+-----------+----------+---------------+\n",
      "|sepallength|sepalwidth|petallength|petalwidth|          class|\n",
      "+-----------+----------+-----------+----------+---------------+\n",
      "|        6.0|       2.7|        5.1|       1.6|Iris-versicolor|\n",
      "|        5.8|       4.0|        1.2|       0.2|    Iris-setosa|\n",
      "|        6.3|       2.3|        4.4|       1.3|Iris-versicolor|\n",
      "|        4.9|       3.1|        1.5|       0.1|    Iris-setosa|\n",
      "|        6.7|       3.1|        4.7|       1.5|Iris-versicolor|\n",
      "|        6.1|       2.6|        5.6|       1.4| Iris-virginica|\n",
      "|        4.9|       2.4|        3.3|       1.0|Iris-versicolor|\n",
      "|        4.6|       3.6|        1.0|       0.2|    Iris-setosa|\n",
      "|        5.5|       2.3|        4.0|       1.3|Iris-versicolor|\n",
      "|        5.8|       2.8|        5.1|       2.4| Iris-virginica|\n",
      "|        5.0|       3.3|        1.4|       0.2|    Iris-setosa|\n",
      "|        5.4|       3.4|        1.7|       0.2|    Iris-setosa|\n",
      "|        5.5|       2.4|        3.8|       1.1|Iris-versicolor|\n",
      "|        6.8|       3.2|        5.9|       2.3| Iris-virginica|\n",
      "|        7.2|       3.2|        6.0|       1.8| Iris-virginica|\n",
      "|        6.2|       3.4|        5.4|       2.3| Iris-virginica|\n",
      "|        6.3|       2.5|        4.9|       1.5|Iris-versicolor|\n",
      "|        6.3|       2.5|        5.0|       1.9| Iris-virginica|\n",
      "|        6.4|       2.7|        5.3|       1.9| Iris-virginica|\n",
      "|        6.4|       3.2|        4.5|       1.5|Iris-versicolor|\n",
      "+-----------+----------+-----------+----------+---------------+\n",
      "only showing top 20 rows\n",
      "\n"
     ]
    }
   ],
   "source": [
    "data.distinct().show()"
   ]
  }
 ],
 "metadata": {
  "kernelspec": {
   "display_name": "venvGlobal",
   "language": "python",
   "name": "python3"
  },
  "language_info": {
   "codemirror_mode": {
    "name": "ipython",
    "version": 3
   },
   "file_extension": ".py",
   "mimetype": "text/x-python",
   "name": "python",
   "nbconvert_exporter": "python",
   "pygments_lexer": "ipython3",
   "version": "3.11.8"
  }
 },
 "nbformat": 4,
 "nbformat_minor": 2
}
