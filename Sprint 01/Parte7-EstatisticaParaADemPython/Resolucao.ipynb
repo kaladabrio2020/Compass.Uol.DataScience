{
 "cells": [
  {
   "cell_type": "code",
   "execution_count": 10,
   "metadata": {},
   "outputs": [],
   "source": [
    "import numpy as np\n",
    "import pandas as pd \n",
    "import matplotlib.pyplot as plt\n",
    "from   scipy import stats\n",
    "\n",
    "regModel = lambda x, intercepto_, coef_: intercepto_ + coef_* x"
   ]
  },
  {
   "cell_type": "markdown",
   "metadata": {},
   "source": [
    "## 10.2 \n",
    "Metodos de regressão foram usados para analisar dados provenientes de um estudo de investigação da relação entre temperatura (x) da superficie da estrada e a deflaxão (y) do pavimento. Um sumario das quantidade é\n",
    "* n = 20\n",
    "* $\\sum{y_i}$ = 12.75\n",
    "* $\\sum{y_i²}$ = 8.86\n",
    "* $\\sum{x_i}$ = 1.478\n",
    "* $\\sum{x²_i}$ = 143.215\n",
    "* $\\sum{x_iy_i}$ = 1083.67"
   ]
  },
  {
   "cell_type": "markdown",
   "metadata": {},
   "source": [
    "a. Calcule as estimativas de mininos quadrados da inclinação e da interseçao. Faça um grafico da linha da regressão."
   ]
  },
  {
   "cell_type": "code",
   "execution_count": 11,
   "metadata": {},
   "outputs": [],
   "source": [
    "xi = 1.1478\n",
    "yi = 12.75\n",
    "xi_2 = 143.215 \n",
    "yi_2 = 8.86\n",
    "xiyi = 1083.67\n",
    "n = 20"
   ]
  },
  {
   "cell_type": "code",
   "execution_count": 12,
   "metadata": {},
   "outputs": [
    {
     "data": {
      "text/plain": [
       "(47.31027668124386, -2.0776367787365855)"
      ]
     },
     "execution_count": 12,
     "metadata": {},
     "output_type": "execute_result"
    }
   ],
   "source": [
    "coef_       = (xiyi - ((xi*yi)/n))/ (n*xi - ((xi)**2)/n)\n",
    "intercepto_ = yi/n - coef_*(xi/n)\n",
    "coef_, intercepto_"
   ]
  },
  {
   "cell_type": "code",
   "execution_count": 13,
   "metadata": {},
   "outputs": [
    {
     "data": {
      "image/png": "[encoded data removed]",
      "text/plain": [
       "<Figure size 640x480 with 1 Axes>"
      ]
     },
     "metadata": {},
     "output_type": "display_data"
    }
   ],
   "source": [
    "l = [i for i in range(0,100)]\n",
    "plt.plot(l, [regMoldel(i,intercepto_, coef_) for i in l])\n",
    "plt.show()"
   ]
  },
  {
   "cell_type": "markdown",
   "metadata": {},
   "source": [
    "b. Use a equação da linha ajustada para prever que valor da deflação doo pavimento seria observado quanto a temperatura da superficie fosse 85F"
   ]
  },
  {
   "cell_type": "code",
   "execution_count": 14,
   "metadata": {},
   "outputs": [
    {
     "data": {
      "text/plain": [
       "4019.295881126992"
      ]
     },
     "execution_count": 14,
     "metadata": {},
     "output_type": "execute_result"
    }
   ],
   "source": [
    "regModel(85, intercepto_, coef_ )"
   ]
  },
  {
   "cell_type": "markdown",
   "metadata": {},
   "source": [
    "d. Que mudança na deflação média do pavimento seria esperada para uma mudança de 1F temperatura da superficie."
   ]
  },
  {
   "cell_type": "code",
   "execution_count": 15,
   "metadata": {},
   "outputs": [
    {
     "data": {
      "text/plain": [
       "45.23263990250728"
      ]
     },
     "execution_count": 15,
     "metadata": {},
     "output_type": "execute_result"
    }
   ],
   "source": [
    "regModel(1, intercepto_, coef_)"
   ]
  },
  {
   "cell_type": "markdown",
   "metadata": {},
   "source": [
    "## 10.3\n",
    "Considere o modelo de regressão desenvolvido no exercicio 10.2"
   ]
  },
  {
   "cell_type": "markdown",
   "metadata": {},
   "source": [
    "a. Suponha que a temperatura fosse medida em Celsius em ver de F. Escreva o novo modelo de regressão que resulta. $C = (F-32)/1.8$"
   ]
  },
  {
   "cell_type": "markdown",
   "metadata": {},
   "source": [
    "## 10.4"
   ]
  },
  {
   "cell_type": "code",
   "execution_count": 9,
   "metadata": {},
   "outputs": [
    {
     "data": {
      "text/html": [
       "<div>\n",
       "<style scoped>\n",
       "    .dataframe tbody tr th:only-of-type {\n",
       "        vertical-align: middle;\n",
       "    }\n",
       "\n",
       "    .dataframe tbody tr th {\n",
       "        vertical-align: top;\n",
       "    }\n",
       "\n",
       "    .dataframe thead th {\n",
       "        text-align: right;\n",
       "    }\n",
       "</style>\n",
       "<table border=\"1\" class=\"dataframe\">\n",
       "  <thead>\n",
       "    <tr style=\"text-align: right;\">\n",
       "      <th></th>\n",
       "      <th>y</th>\n",
       "      <th>x</th>\n",
       "    </tr>\n",
       "  </thead>\n",
       "  <tbody>\n",
       "    <tr>\n",
       "      <th>0</th>\n",
       "      <td>10.0</td>\n",
       "      <td>2205.0</td>\n",
       "    </tr>\n",
       "    <tr>\n",
       "      <th>1</th>\n",
       "      <td>11.0</td>\n",
       "      <td>2096.0</td>\n",
       "    </tr>\n",
       "    <tr>\n",
       "      <th>2</th>\n",
       "      <td>11.0</td>\n",
       "      <td>1847.0</td>\n",
       "    </tr>\n",
       "  </tbody>\n",
       "</table>\n",
       "</div>"
      ],
      "text/plain": [
       "      y       x\n",
       "0  10.0  2205.0\n",
       "1  11.0  2096.0\n",
       "2  11.0  1847.0"
      ]
     },
     "execution_count": 9,
     "metadata": {},
     "output_type": "execute_result"
    }
   ],
   "source": [
    "df1 = pd.read_csv('RegressaoExercicios Dados/Ex10_04.txt', sep='\\t')\n",
    "df1.head(3)"
   ]
  },
  {
   "cell_type": "markdown",
   "metadata": {},
   "source": [
    "a. Calcule as estimativas de mininos quadrados da inclinação e da interseção. Faça o grafico do modelo de regressão"
   ]
  },
  {
   "cell_type": "markdown",
   "metadata": {},
   "source": [
    "$\\beta_1 = \\frac{S_{XY}}{S{XX}}$ \\\n",
    "$\\beta_0 = \\bar{Y} - \\beta_1 \\cdot \\bar{X}$ "
   ]
  },
  {
   "cell_type": "code",
   "execution_count": 15,
   "metadata": {},
   "outputs": [],
   "source": [
    "def Estimativa(x,y):\n",
    "    coef_       = np.sum( (x-np.mean(x) )*(y-np.mean(y)) )/ np.sum( (x-np.mean(x))**2 ) \n",
    "    intercepto_ = np.mean(y) - coef_*np.mean(x)\n",
    "    return coef_, intercepto_"
   ]
  },
  {
   "cell_type": "code",
   "execution_count": 16,
   "metadata": {},
   "outputs": [],
   "source": [
    "coef_, intercepto_ = Estimativa(df1.x, df1.y)"
   ]
  },
  {
   "cell_type": "code",
   "execution_count": 19,
   "metadata": {},
   "outputs": [
    {
     "name": "stdout",
     "output_type": "stream",
     "text": [
      "Coeficiente angular|Inclinação : -0.007025100276006444\n",
      "Coeficiente linear|Intercepto  : 21.788250882413028\n"
     ]
    }
   ],
   "source": [
    "print('Coeficiente angular|Inclinação :',coef_)\n",
    "print('Coeficiente linear|Intercepto  :',intercepto_)"
   ]
  },
  {
   "cell_type": "code",
   "execution_count": 22,
   "metadata": {},
   "outputs": [],
   "source": [
    "model = lambda x: intercepto_ + coef_* x"
   ]
  },
  {
   "cell_type": "code",
   "execution_count": 24,
   "metadata": {},
   "outputs": [
    {
     "data": {
      "text/plain": [
       "[<matplotlib.lines.Line2D at 0x7ff5c0935890>]"
      ]
     },
     "execution_count": 24,
     "metadata": {},
     "output_type": "execute_result"
    },
    {
     "data": {
      "image/png": "[encoded data removed]",
      "text/plain": [
       "<Figure size 640x480 with 1 Axes>"
      ]
     },
     "metadata": {},
     "output_type": "display_data"
    }
   ],
   "source": [
    "plt.scatter(df1.x , df1.y)\n",
    "plt.plot(df1.x , model(df1.x), c='r')"
   ]
  },
  {
   "cell_type": "markdown",
   "metadata": {},
   "source": [
    "b. Encontre uma estimativa do número médio de jogos ganhos se os oponentes puderem estar limitados a conquistar 1800 jardas."
   ]
  },
  {
   "cell_type": "code",
   "execution_count": 29,
   "metadata": {},
   "outputs": [
    {
     "data": {
      "text/plain": [
       "9.14307038560143"
      ]
     },
     "execution_count": 29,
     "metadata": {},
     "output_type": "execute_result"
    }
   ],
   "source": [
    "model(1800)"
   ]
  }
 ],
 "metadata": {
  "kernelspec": {
   "display_name": "Python 3 (ipykernel)",
   "language": "python",
   "name": "python3"
  },
  "language_info": {
   "codemirror_mode": {
    "name": "ipython",
    "version": 3
   },
   "file_extension": ".py",
   "mimetype": "text/x-python",
   "name": "python",
   "nbconvert_exporter": "python",
   "pygments_lexer": "ipython3",
   "version": "3.11.8"
  }
 },
 "nbformat": 4,
 "nbformat_minor": 4
}
