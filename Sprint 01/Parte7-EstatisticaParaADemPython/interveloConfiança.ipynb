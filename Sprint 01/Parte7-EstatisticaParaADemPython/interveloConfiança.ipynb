{
 "cells": [
  {
   "cell_type": "code",
   "execution_count": 2,
   "metadata": {},
   "outputs": [],
   "source": [
    "import numpy  as np\n",
    "import pandas as pd\n",
    "from scipy    import stats \n",
    "import seaborn as sea\n",
    "import matplotlib.pyplot as plt\n",
    "from   statsmodels.stats import diagnostic"
   ]
  },
  {
   "cell_type": "code",
   "execution_count": 3,
   "metadata": {},
   "outputs": [],
   "source": [
    "data = pd.read_csv('exams.csv')"
   ]
  },
  {
   "cell_type": "code",
   "execution_count": 4,
   "metadata": {},
   "outputs": [
    {
     "data": {
      "text/plain": [
       "(1000,)"
      ]
     },
     "execution_count": 4,
     "metadata": {},
     "output_type": "execute_result"
    }
   ],
   "source": [
    "reading = data['reading score'].values\n",
    "reading.shape"
   ]
  },
  {
   "cell_type": "markdown",
   "metadata": {},
   "source": [
    "### Intervalo de confiança"
   ]
  },
  {
   "cell_type": "markdown",
   "metadata": {},
   "source": [
    "$\\alpha = (1-nivelDeConfianca)/2$ \n",
    "\n",
    "$Z_{critico} = Z(\\alpha,n-1)$ \n",
    "\n",
    "margem de erro = $Z_c \\cdot \\frac{\\sigma}{\\sqrt{n}}$\n",
    "\n",
    "t = $\\frac{\\bar{X} - \\mu}{\\frac{S}{\\sqrt{n}}}$"
   ]
  },
  {
   "cell_type": "markdown",
   "metadata": {},
   "source": [
    "1."
   ]
  },
  {
   "cell_type": "code",
   "execution_count": 5,
   "metadata": {},
   "outputs": [
    {
     "data": {
      "text/plain": [
       "array([78, 87, 92, 72, 74, 52, 39, 76, 74, 87, 85, 80, 69, 69, 93, 65, 54,\n",
       "       44, 78, 75, 65, 81, 60, 70, 68, 61, 55, 86, 51, 76, 72, 98, 55, 78,\n",
       "       52, 63, 91, 57, 46, 71])"
      ]
     },
     "execution_count": 5,
     "metadata": {},
     "output_type": "execute_result"
    }
   ],
   "source": [
    "random  = np.random.RandomState(seed=42)\n",
    "amostra = random.choice(reading, size=40)\n",
    "amostra"
   ]
  },
  {
   "cell_type": "code",
   "execution_count": 6,
   "metadata": {},
   "outputs": [],
   "source": [
    "tam = len(amostra)"
   ]
  },
  {
   "cell_type": "markdown",
   "metadata": {},
   "source": [
    "nivel de confianção de 95%"
   ]
  },
  {
   "cell_type": "code",
   "execution_count": 7,
   "metadata": {},
   "outputs": [],
   "source": [
    "nConf = 95/100\n",
    "alpha = (1-nConf)/2\n",
    "\n",
    "tcritico = abs(stats.t.ppf(alpha,tam-1))"
   ]
  },
  {
   "cell_type": "code",
   "execution_count": 8,
   "metadata": {},
   "outputs": [
    {
     "data": {
      "text/plain": [
       "4.587701715762118"
      ]
     },
     "execution_count": 8,
     "metadata": {},
     "output_type": "execute_result"
    }
   ],
   "source": [
    "E = tcritico * (np.std(amostra)/np.sqrt(tam))\n",
    "E"
   ]
  },
  {
   "cell_type": "code",
   "execution_count": 9,
   "metadata": {},
   "outputs": [
    {
     "name": "stdout",
     "output_type": "stream",
     "text": [
      "\n",
      "65.38729828423787 < mu <74.56270171576212\n",
      "\n",
      "mu = 69.002\n"
     ]
    }
   ],
   "source": [
    "R = f'''\n",
    "{np.mean(amostra) - E} < mu <{np.mean(amostra) + E}\n",
    "'''\n",
    "print(R)\n",
    "print('mu =', np.mean(reading))"
   ]
  },
  {
   "cell_type": "markdown",
   "metadata": {},
   "source": [
    "Nivel de confiança de 50%"
   ]
  },
  {
   "cell_type": "code",
   "execution_count": 10,
   "metadata": {},
   "outputs": [
    {
     "data": {
      "text/plain": [
       "2.7044592674331502"
      ]
     },
     "execution_count": 10,
     "metadata": {},
     "output_type": "execute_result"
    }
   ],
   "source": [
    "nConf = 99/100\n",
    "alpha = (1 - nConf)/2\n",
    "\n",
    "tc = -1*stats.t.ppf(alpha , tam)\n",
    "tc"
   ]
  },
  {
   "cell_type": "code",
   "execution_count": 11,
   "metadata": {},
   "outputs": [
    {
     "data": {
      "text/plain": [
       "6.134032812146739"
      ]
     },
     "execution_count": 11,
     "metadata": {},
     "output_type": "execute_result"
    }
   ],
   "source": [
    "E = tc * (np.std(amostra)/np.sqrt(tam))\n",
    "E"
   ]
  },
  {
   "cell_type": "code",
   "execution_count": 12,
   "metadata": {},
   "outputs": [
    {
     "name": "stdout",
     "output_type": "stream",
     "text": [
      "\n",
      "63.84096718785325 < mu <76.10903281214674\n",
      "\n",
      "mu = 69.002\n"
     ]
    }
   ],
   "source": [
    "R = f'''\n",
    "{np.mean(amostra) - E} < mu <{np.mean(amostra) + E}\n",
    "'''\n",
    "print(R)\n",
    "print('mu =', np.mean(reading))"
   ]
  },
  {
   "cell_type": "code",
   "execution_count": 13,
   "metadata": {},
   "outputs": [
    {
     "data": {
      "text/plain": [
       "True"
      ]
     },
     "execution_count": 13,
     "metadata": {},
     "output_type": "execute_result"
    }
   ],
   "source": [
    "(np.mean(amostra) - E)< np.mean(reading)"
   ]
  },
  {
   "cell_type": "code",
   "execution_count": 14,
   "metadata": {},
   "outputs": [
    {
     "data": {
      "text/plain": [
       "<Axes: ylabel='Count'>"
      ]
     },
     "execution_count": 14,
     "metadata": {},
     "output_type": "execute_result"
    },
    {
     "data": {
      "image/png": "[encoded data removed]",
      "text/plain": [
       "<Figure size 640x480 with 1 Axes>"
      ]
     },
     "metadata": {},
     "output_type": "display_data"
    }
   ],
   "source": [
    "sea.histplot(reading, kde=True)"
   ]
  },
  {
   "cell_type": "code",
   "execution_count": 15,
   "metadata": {},
   "outputs": [
    {
     "data": {
      "image/png": "[encoded data removed]",
      "text/plain": [
       "<Figure size 640x480 with 1 Axes>"
      ]
     },
     "metadata": {},
     "output_type": "display_data"
    }
   ],
   "source": [
    "stats.probplot(x=reading, dist='norm', plot=plt)\n",
    "plt.show()"
   ]
  },
  {
   "cell_type": "code",
   "execution_count": 16,
   "metadata": {},
   "outputs": [
    {
     "data": {
      "text/plain": [
       "<Axes: >"
      ]
     },
     "execution_count": 16,
     "metadata": {},
     "output_type": "execute_result"
    },
    {
     "data": {
      "image/png": "[encoded data removed]",
      "text/plain": [
       "<Figure size 640x480 with 1 Axes>"
      ]
     },
     "metadata": {},
     "output_type": "display_data"
    }
   ],
   "source": [
    "sea.boxenplot(reading, orient='h')"
   ]
  },
  {
   "cell_type": "code",
   "execution_count": 17,
   "metadata": {},
   "outputs": [
    {
     "data": {
      "text/plain": [
       "(0.036995518412346495, 0.004039757192379477)"
      ]
     },
     "execution_count": 17,
     "metadata": {},
     "output_type": "execute_result"
    }
   ],
   "source": [
    "diagnostic.lilliefors(reading)"
   ]
  },
  {
   "cell_type": "markdown",
   "metadata": {},
   "source": [
    "### Intervalo de confiança de desvio padrão\n",
    "\n",
    "$\\alpha(\\chi_r) = \\frac{1-nivelDeConfianca}{2}$ \\\n",
    "$\\alpha(\\chi_r) = \\frac{1+nivelDeConfianca}{2}$\n"
   ]
  },
  {
   "cell_type": "code",
   "execution_count": 66,
   "metadata": {},
   "outputs": [
    {
     "data": {
      "text/plain": [
       "array([78, 87, 92, 72, 74, 52, 39, 76, 74, 87, 85, 80, 69, 69, 93, 65, 54,\n",
       "       44, 78, 75, 65, 81, 60, 70, 68, 61, 55, 86, 51, 76])"
      ]
     },
     "execution_count": 66,
     "metadata": {},
     "output_type": "execute_result"
    }
   ],
   "source": [
    "random  = np.random.RandomState(seed=42)\n",
    "amostra = random.choice(reading, size=30)\n",
    "amostra"
   ]
  },
  {
   "cell_type": "code",
   "execution_count": 69,
   "metadata": {},
   "outputs": [
    {
     "data": {
      "text/plain": [
       "186.18222222222224"
      ]
     },
     "execution_count": 69,
     "metadata": {},
     "output_type": "execute_result"
    }
   ],
   "source": [
    "tam = len(amostra)\n",
    "S = np.var(amostra)\n",
    "S"
   ]
  },
  {
   "cell_type": "markdown",
   "metadata": {},
   "source": [
    "nivel de confiança de 95%"
   ]
  },
  {
   "cell_type": "code",
   "execution_count": 128,
   "metadata": {},
   "outputs": [
    {
     "name": "stdout",
     "output_type": "stream",
     "text": [
      "0.0050000000000000044 0.995\n"
     ]
    },
    {
     "data": {
      "text/plain": [
       "(12.461335948002569, 50.993376268499446)"
      ]
     },
     "execution_count": 128,
     "metadata": {},
     "output_type": "execute_result"
    }
   ],
   "source": [
    "\n",
    "alpha_R = ( 1 - (99/100))/2\n",
    "alpha_L = ( 1 + (99/100))/2\n",
    "print(alpha_R, alpha_L)\n",
    "\n",
    "Chi_R = stats.chi2.ppf(alpha_R, tam-1)\n",
    "Chi_L = stats.chi2.ppf(alpha_L, tam-1)\n",
    "Chi_R, Chi_L"
   ]
  },
  {
   "cell_type": "code",
   "execution_count": 129,
   "metadata": {},
   "outputs": [],
   "source": [
    "sup = ((tam - 1)*(S))/(Chi_R) \n",
    "inf = ((tam - 1)*(S))/(Chi_L)"
   ]
  },
  {
   "cell_type": "code",
   "execution_count": 130,
   "metadata": {},
   "outputs": [
    {
     "name": "stdout",
     "output_type": "stream",
     "text": [
      "\n",
      "10.11093309701299 < \\sigma < 20.4534144344215\n",
      "\n",
      "14.729901425332079\n"
     ]
    }
   ],
   "source": [
    "R = F'''\n",
    "{np.sqrt(inf)} < \\sigma < { np.sqrt(sup) }\n",
    "'''\n",
    "print(R)\n",
    "print(np.std(reading))"
   ]
  }
 ],
 "metadata": {
  "kernelspec": {
   "display_name": "venvGlobal",
   "language": "python",
   "name": "python3"
  },
  "language_info": {
   "codemirror_mode": {
    "name": "ipython",
    "version": 3
   },
   "file_extension": ".py",
   "mimetype": "text/x-python",
   "name": "python",
   "nbconvert_exporter": "python",
   "pygments_lexer": "ipython3",
   "version": "3.11.8"
  }
 },
 "nbformat": 4,
 "nbformat_minor": 2
}
