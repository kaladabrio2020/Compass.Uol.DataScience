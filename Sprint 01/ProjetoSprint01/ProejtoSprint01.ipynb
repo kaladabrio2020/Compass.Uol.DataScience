{
 "cells": [
  {
   "cell_type": "code",
   "execution_count": 1,
   "metadata": {},
   "outputs": [],
   "source": [
    "import pandas    as pd\n",
    "import seaborn   as sea \n",
    "import matplotlib.pyplot as plt\n",
    "from pyspark.sql       import SparkSession, conf\n",
    "from pyspark.sql       import functions as f\n",
    "from pyspark.sql.types import *\n",
    "\n"
   ]
  },
  {
   "cell_type": "code",
   "execution_count": 2,
   "metadata": {},
   "outputs": [
    {
     "name": "stderr",
     "output_type": "stream",
     "text": [
      "Setting default log level to \"WARN\".\n",
      "To adjust logging level use sc.setLogLevel(newLevel). For SparkR, use setLogLevel(newLevel).\n",
      "24/04/01 17:21:46 WARN NativeCodeLoader: Unable to load native-hadoop library for your platform... using builtin-java classes where applicable\n",
      "24/04/01 17:21:48 WARN Utils: Service 'SparkUI' could not bind on port 4040. Attempting port 4041.\n"
     ]
    },
    {
     "data": {
      "text/html": [
       "\n",
       "        <div>\n",
       "            <p><b>SparkContext</b></p>\n",
       "\n",
       "            <p><a href=\"http://fedorahome:4041\">Spark UI</a></p>\n",
       "\n",
       "            <dl>\n",
       "              <dt>Version</dt>\n",
       "                <dd><code>v3.5.1</code></dd>\n",
       "              <dt>Master</dt>\n",
       "                <dd><code>local[*]</code></dd>\n",
       "              <dt>AppName</dt>\n",
       "                <dd><code>ProjetoSprint01</code></dd>\n",
       "            </dl>\n",
       "        </div>\n",
       "        "
      ],
      "text/plain": [
       "<SparkContext master=local[*] appName=ProjetoSprint01>"
      ]
     },
     "execution_count": 2,
     "metadata": {},
     "output_type": "execute_result"
    }
   ],
   "source": [
    "spark = SparkSession.builder\\\n",
    "    .appName('ProjetoSprint01')\\\n",
    "    .getOrCreate()\n",
    "spark.sparkContext"
   ]
  },
  {
   "cell_type": "markdown",
   "metadata": {},
   "source": [
    "### Carregando dados usando pyspark\n",
    "> Defini o tipo do Schema(com o `StructType`) para alguns Conj. dados pois estavam tipando errado o schema, por exemplo, **`geolocation_zip_code_prefix`** que seus atributos são do tipo string contedo só numero de caracteres, mas estavam sendo colocados como do tipo `integer`."
   ]
  },
  {
   "cell_type": "code",
   "execution_count": 3,
   "metadata": {},
   "outputs": [
    {
     "name": "stderr",
     "output_type": "stream",
     "text": [
      "                                                                                \r"
     ]
    }
   ],
   "source": [
    "# olist_customers_dataset\n",
    "\n",
    "customers     = spark.read.format('csv')\\\n",
    "    .option('header','True').option('delimiter',',').option('inferschema','False')\\\n",
    "        .load('dataset/olist_customers_dataset.csv')\n",
    "\n",
    "\n",
    "geolocation   = spark.read.format('csv')\\\n",
    "    .option('header','True').option('delimiter',',').option('inferschema','False')\\\n",
    "        .load('dataset/olist_geolocation_dataset.csv')\n",
    "\n",
    "# olist_order_payments_dataset\n",
    "payments      = spark.read.format('csv')\\\n",
    "    .option('header','True').option('delimiter',',').option('inferschema','True')\\\n",
    "        .load('dataset/olist_order_payments_dataset.csv')\n",
    "\n",
    "# olist_orders_dataset\n",
    "orders        = spark.read.format('csv')\\\n",
    "    .option('header','True').option('delimiter',',').option('inferschema','True')\\\n",
    "        .load('dataset/olist_orders_dataset.csv')\n",
    "\n",
    "# olist_order_items_dataset\n",
    "order_items   = spark.read.format('csv')\\\n",
    "    .option('header','True').option('delimiter',',').option('inferschema','True')\\\n",
    "        .load('dataset/olist_order_items_dataset.csv')\n",
    "\n",
    "# olist_order_reviews_dataset\n",
    "order_reviews = spark.read.format('csv')\\\n",
    "    .option('header','True').option('delimiter',',').option('inferschema','True')\\\n",
    "        .load('dataset/olist_order_reviews_dataset.csv')\n",
    "\n",
    "# olist_products_dataset\n",
    "order_product = spark.read.format('csv')\\\n",
    "    .option('header','True').option('delimiter',',').option('inferschema','True')\\\n",
    "        .load('dataset/olist_products_dataset.csv')\n",
    "\n",
    "# olist_sellers_dataset\n",
    "sellers      = spark.read.format('csv')\\\n",
    "    .option('header','True').option('delimiter',',').option('inferschema','False')\\\n",
    "        .load('dataset/olist_sellers_dataset.csv')\n",
    "\n",
    "# product_category_dataset\n",
    "product_cat  = spark.read.format('csv')\\\n",
    "    .option('header','True').option('delimiter',',').option('inferschema','True')\\\n",
    "        .load('dataset/product_category_name_translation.csv')"
   ]
  },
  {
   "cell_type": "markdown",
   "metadata": {},
   "source": [
    "Criando uma visão temporaria , pois usarei o sql do spark para fazer as questões e melhor de entender oq estou fazendo"
   ]
  },
  {
   "cell_type": "code",
   "execution_count": 4,
   "metadata": {},
   "outputs": [],
   "source": [
    "customers.createOrReplaceTempView('customers')\n",
    "geolocation.createOrReplaceTempView('geolocation')\n",
    "orders.createOrReplaceTempView('orders')\n",
    "order_items.createOrReplaceTempView('order_items')\n",
    "order_product.createOrReplaceTempView('order_product')\n",
    "order_reviews.createOrReplaceTempView('order_reviews')\n",
    "payments.createOrReplaceTempView('payments')\n",
    "sellers.createOrReplaceTempView('sellers')\n",
    "product_cat.createOrReplaceTempView('product_cat')"
   ]
  },
  {
   "cell_type": "markdown",
   "metadata": {},
   "source": [
    "## Analise"
   ]
  },
  {
   "cell_type": "markdown",
   "metadata": {},
   "source": [
    "Verificação de dados Nulos, fazerei uma função que recebe como parametros string(`nome do conj. dados`) e data(`conj. de dados em si`) ele irá me printar quantidade de valores nulos por coluna "
   ]
  },
  {
   "cell_type": "code",
   "execution_count": 5,
   "metadata": {},
   "outputs": [],
   "source": [
    "def VerificaValoresNulos(string, data):\n",
    "    selecao = data.select(\n",
    "        [ f.count( f.when(f.isnull(col), col)).alias(col)  for col in data.columns ]\n",
    "    ).toPandas().T\n",
    "    selecao.columns = ['Quantidade de valores Nulos']\n",
    "    print(f'Para o conjuto de dados {string.title()} , com {data.count()} linhas')\n",
    "    display(selecao)"
   ]
  },
  {
   "cell_type": "markdown",
   "metadata": {},
   "source": [
    "# Order"
   ]
  },
  {
   "cell_type": "code",
   "execution_count": 2,
   "metadata": {},
   "outputs": [
    {
     "ename": "NameError",
     "evalue": "name 'VerificaValoresNulos' is not defined",
     "output_type": "error",
     "traceback": [
      "\u001b[0;31m---------------------------------------------------------------------------\u001b[0m",
      "\u001b[0;31mNameError\u001b[0m                                 Traceback (most recent call last)",
      "Cell \u001b[0;32mIn[2], line 1\u001b[0m\n\u001b[0;32m----> 1\u001b[0m \u001b[43mVerificaValoresNulos\u001b[49m(\u001b[38;5;124m'\u001b[39m\u001b[38;5;124morders\u001b[39m\u001b[38;5;124m'\u001b[39m, orders)\n",
      "\u001b[0;31mNameError\u001b[0m: name 'VerificaValoresNulos' is not defined"
     ]
    }
   ],
   "source": [
    "VerificaValoresNulos('orders', orders)"
   ]
  },
  {
   "cell_type": "code",
   "execution_count": null,
   "metadata": {},
   "outputs": [
    {
     "data": {
      "text/plain": [
       "order_id                         1\n",
       "customer_id                      1\n",
       "order_status                     1\n",
       "order_purchase_timestamp         1\n",
       "order_approved_at                2\n",
       "order_delivered_carrier_date     2\n",
       "order_delivered_customer_date    2\n",
       "order_estimated_delivery_date    1\n",
       "dtype: int64"
      ]
     },
     "execution_count": 42,
     "metadata": {},
     "output_type": "execute_result"
    }
   ],
   "source": [
    "orders.toPandas().isna().nunique()"
   ]
  },
  {
   "cell_type": "code",
   "execution_count": null,
   "metadata": {},
   "outputs": [
    {
     "name": "stdout",
     "output_type": "stream",
     "text": [
      "+-----------+-----+-------+\n",
      "|     Status|count|      %|\n",
      "+-----------+-----+-------+\n",
      "|  delivered|96478|97.0203|\n",
      "|    shipped| 1107| 1.1132|\n",
      "|   canceled|  625| 0.6285|\n",
      "|unavailable|  609| 0.6124|\n",
      "|   invoiced|  314| 0.3158|\n",
      "| processing|  301| 0.3027|\n",
      "|    created|    5|  0.005|\n",
      "|   approved|    2|  0.002|\n",
      "+-----------+-----+-------+\n",
      "\n"
     ]
    }
   ],
   "source": [
    "groupOrderStatus = orders\\\n",
    "    .groupBy(f.col('order_status').alias('Status'))\\\n",
    "        .count()\\\n",
    "    .orderBy(f.desc('count'))\\\n",
    "    .withColumn(\n",
    "        '%', f.round( (( f.col('count')/orders.count() )*100) ,4)\n",
    "        )\n",
    "\n",
    "groupOrderStatus.show()"
   ]
  },
  {
   "cell_type": "code",
   "execution_count": null,
   "metadata": {},
   "outputs": [
    {
     "data": {
      "text/plain": [
       "99441"
      ]
     },
     "execution_count": 33,
     "metadata": {},
     "output_type": "execute_result"
    }
   ],
   "source": [
    "orders.count()"
   ]
  }
 ],
 "metadata": {
  "kernelspec": {
   "display_name": "venvGlobal",
   "language": "python",
   "name": "python3"
  },
  "language_info": {
   "codemirror_mode": {
    "name": "ipython",
    "version": 3
   },
   "file_extension": ".py",
   "mimetype": "text/x-python",
   "name": "python",
   "nbconvert_exporter": "python",
   "pygments_lexer": "ipython3",
   "version": "3.11.8"
  }
 },
 "nbformat": 4,
 "nbformat_minor": 2
}
