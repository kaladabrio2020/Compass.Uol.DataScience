{
 "cells": [
  {
   "cell_type": "code",
   "execution_count": 50,
   "metadata": {},
   "outputs": [],
   "source": [
    "import pandas as np\n",
    "import seaborn as sea \n",
    "import matplotlib.pyplot as plt\n",
    "from pyspark.sql import SparkSession, dataframe\n",
    "from pyspark.sql import functions as f"
   ]
  },
  {
   "cell_type": "markdown",
   "metadata": {},
   "source": [
    "### Data & AI - PB Fast Learning - Ciência de Dados - 1/3"
   ]
  },
  {
   "cell_type": "markdown",
   "metadata": {},
   "source": [
    "<div align=\"center\">\n",
    "    <img src='img/hierarquia.webp' width=\"590px\"/>\n",
    "</div>"
   ]
  },
  {
   "cell_type": "markdown",
   "metadata": {},
   "source": [
    "&nbsp;"
   ]
  },
  {
   "cell_type": "markdown",
   "metadata": {},
   "source": [
    "Criando Seção no spark"
   ]
  },
  {
   "cell_type": "code",
   "execution_count": 3,
   "metadata": {},
   "outputs": [
    {
     "name": "stderr",
     "output_type": "stream",
     "text": [
      "Setting default log level to \"WARN\".\n",
      "To adjust logging level use sc.setLogLevel(newLevel). For SparkR, use setLogLevel(newLevel).\n",
      "24/03/26 20:09:15 WARN NativeCodeLoader: Unable to load native-hadoop library for your platform... using builtin-java classes where applicable\n"
     ]
    }
   ],
   "source": [
    "spark = SparkSession.builder.master('local')\\\n",
    "    .appName('ProjetoSprint01')\\\n",
    "    .getOrCreate()\n",
    "print(end='')"
   ]
  },
  {
   "cell_type": "code",
   "execution_count": 4,
   "metadata": {},
   "outputs": [
    {
     "data": {
      "text/html": [
       "\n",
       "        <div>\n",
       "            <p><b>SparkContext</b></p>\n",
       "\n",
       "            <p><a href=\"http://fedorahome:4040\">Spark UI</a></p>\n",
       "\n",
       "            <dl>\n",
       "              <dt>Version</dt>\n",
       "                <dd><code>v3.5.1</code></dd>\n",
       "              <dt>Master</dt>\n",
       "                <dd><code>local</code></dd>\n",
       "              <dt>AppName</dt>\n",
       "                <dd><code>ProjetoSprint01</code></dd>\n",
       "            </dl>\n",
       "        </div>\n",
       "        "
      ],
      "text/plain": [
       "<SparkContext master=local appName=ProjetoSprint01>"
      ]
     },
     "execution_count": 4,
     "metadata": {},
     "output_type": "execute_result"
    }
   ],
   "source": [
    "spark.sparkContext"
   ]
  },
  {
   "cell_type": "markdown",
   "metadata": {},
   "source": [
    "Carregando dados"
   ]
  },
  {
   "cell_type": "code",
   "execution_count": 86,
   "metadata": {},
   "outputs": [
    {
     "name": "stderr",
     "output_type": "stream",
     "text": [
      "                                                                                \r"
     ]
    }
   ],
   "source": [
    "# olist_customers_dataset\n",
    "customers     = spark.read.format('csv')\\\n",
    "    .option('header','True').option('delimiter',',').option('inferschema','True')\\\n",
    "        .load('dataset/olist_customers_dataset.csv')\n",
    "\n",
    "# olist_geolocation_dataset\n",
    "geolocation   = spark.read.format('csv')\\\n",
    "    .option('header','True').option('delimiter',',').option('inferschema','True')\\\n",
    "        .load('dataset/olist_geolocation_dataset.csv')\n",
    "\n",
    "# olist_order_payments_dataset\n",
    "payments      = spark.read.format('csv')\\\n",
    "    .option('header','True').option('delimiter',',').option('inferschema','True')\\\n",
    "        .load('dataset/olist_order_payments_dataset.csv')\n",
    "\n",
    "# olist_orders_dataset\n",
    "orders        = spark.read.format('csv')\\\n",
    "    .option('header','True').option('delimiter',',').option('inferschema','True')\\\n",
    "        .load('dataset/olist_orders_dataset.csv')\n",
    "\n",
    "# olist_order_items_dataset\n",
    "order_items   = spark.read.format('csv')\\\n",
    "    .option('header','True').option('delimiter',',').option('inferschema','True')\\\n",
    "        .load('dataset/olist_order_items_dataset.csv')\n",
    "\n",
    "# olist_order_reviews_dataset\n",
    "order_reviews = spark.read.format('csv')\\\n",
    "    .option('header','True').option('delimiter',',').option('inferschema','True')\\\n",
    "        .load('dataset/olist_order_reviews_dataset.csv')\n",
    "\n",
    "# olist_products_dataset\n",
    "order_product = spark.read.format('csv')\\\n",
    "    .option('header','True').option('delimiter',',').option('inferschema','True')\\\n",
    "        .load('dataset/olist_products_dataset.csv')\n",
    "\n",
    "# olist_sellers_dataset\n",
    "sellers      = spark.read.format('csv')\\\n",
    "    .option('header','True').option('delimiter',',').option('inferschema','True')\\\n",
    "        .load('dataset/olist_sellers_dataset.csv')\n",
    "\n",
    "# product_category_dataset\n",
    "product_cat  = spark.read.format('csv')\\\n",
    "    .option('header','True').option('delimiter',',').option('inferschema','True')\\\n",
    "        .load('dataset/product_category_name_translation.csv')\n",
    "\n",
    "print(end='')"
   ]
  },
  {
   "cell_type": "code",
   "execution_count": 88,
   "metadata": {},
   "outputs": [],
   "source": [
    "customers.createOrReplaceTempView('customers')\n",
    "geolocation.createOrReplaceTempView('geolocation')\n",
    "orders.createOrReplaceTempView('orders')\n",
    "order_items.createOrReplaceTempView('order_items')\n",
    "order_product.createOrReplaceTempView('order_product')\n",
    "order_reviews.createOrReplaceTempView('order_reviews')\n",
    "payments.createOrReplaceTempView('payments')\n",
    "sellers.createOrReplaceTempView('sellers')\n",
    "product_cat.createOrReplaceTempView('product_cat')"
   ]
  },
  {
   "cell_type": "markdown",
   "metadata": {},
   "source": [
    "&nbsp;"
   ]
  },
  {
   "cell_type": "markdown",
   "metadata": {},
   "source": [
    "&nbsp;"
   ]
  },
  {
   "cell_type": "markdown",
   "metadata": {},
   "source": [
    "##### Quais são categorias com maior e menor receita dos ultimos 12 meses?"
   ]
  },
  {
   "cell_type": "code",
   "execution_count": 89,
   "metadata": {},
   "outputs": [
    {
     "data": {
      "text/html": [
       "<div>\n",
       "<style scoped>\n",
       "    .dataframe tbody tr th:only-of-type {\n",
       "        vertical-align: middle;\n",
       "    }\n",
       "\n",
       "    .dataframe tbody tr th {\n",
       "        vertical-align: top;\n",
       "    }\n",
       "\n",
       "    .dataframe thead th {\n",
       "        text-align: right;\n",
       "    }\n",
       "</style>\n",
       "<table border=\"1\" class=\"dataframe\">\n",
       "  <thead>\n",
       "    <tr style=\"text-align: right;\">\n",
       "      <th></th>\n",
       "      <th>min(order_purchase_timestamp)</th>\n",
       "      <th>max(order_purchase_timestamp)</th>\n",
       "    </tr>\n",
       "  </thead>\n",
       "  <tbody>\n",
       "    <tr>\n",
       "      <th>0</th>\n",
       "      <td>2016-09-04 21:15:19</td>\n",
       "      <td>2018-10-17 17:30:18</td>\n",
       "    </tr>\n",
       "  </tbody>\n",
       "</table>\n",
       "</div>"
      ],
      "text/plain": [
       "  min(order_purchase_timestamp) max(order_purchase_timestamp)\n",
       "0           2016-09-04 21:15:19           2018-10-17 17:30:18"
      ]
     },
     "execution_count": 89,
     "metadata": {},
     "output_type": "execute_result"
    }
   ],
   "source": [
    "query = '''\n",
    "select min(order_purchase_timestamp), max(order_purchase_timestamp)  from orders;\n",
    "'''\n",
    "spark.sql(query).toPandas()"
   ]
  },
  {
   "cell_type": "markdown",
   "metadata": {},
   "source": [
    "> O data vão de 2016 a 2019"
   ]
  },
  {
   "cell_type": "code",
   "execution_count": 93,
   "metadata": {},
   "outputs": [],
   "source": [
    "query = '''\n",
    "select product_category_name, SUM(payment_value) as receita from order_items as o_i\n",
    "    inner join order_product as o_p on \n",
    "        o_p.product_id = o_i.product_id\n",
    "    inner join orders as or on\n",
    "        or.order_id = o_i.order_id\n",
    "    inner join payments as pay on \n",
    "        pay.order_id = or.order_id\n",
    "    where order_status != 'canceled' and\n",
    "        order_purchase_timestamp >= '2017-09-03 01:00:00' and\n",
    "        order_purchase_timestamp <= '2018-09-03 09:06:57'\n",
    "    \n",
    "    group by product_category_name\n",
    "    order by receita desc;\n",
    "'''\n",
    "data = spark.sql(query).toPandas()"
   ]
  },
  {
   "cell_type": "code",
   "execution_count": 123,
   "metadata": {},
   "outputs": [
    {
     "name": "stderr",
     "output_type": "stream",
     "text": [
      "/tmp/ipykernel_4678/2921210958.py:2: FutureWarning: \n",
      "\n",
      "Passing `palette` without assigning `hue` is deprecated and will be removed in v0.14.0. Assign the `y` variable to `hue` and set `legend=False` for the same effect.\n",
      "\n",
      "  sea.barplot(\n"
     ]
    },
    {
     "data": {
      "image/png": "[encoded data removed]",
      "text/plain": [
       "<Figure size 640x480 with 1 Axes>"
      ]
     },
     "metadata": {},
     "output_type": "display_data"
    }
   ],
   "source": [
    "color = sea.color_palette(n_colors=10)\n",
    "sea.barplot(\n",
    "    data=data.iloc[0:10,:],\n",
    "    y   ='product_category_name',\n",
    "    x   ='receita',\n",
    "    palette=color\n",
    ")\n",
    "plt.show()\n"
   ]
  }
 ],
 "metadata": {
  "kernelspec": {
   "display_name": "venvGlobal",
   "language": "python",
   "name": "python3"
  },
  "language_info": {
   "codemirror_mode": {
    "name": "ipython",
    "version": 3
   },
   "file_extension": ".py",
   "mimetype": "text/x-python",
   "name": "python",
   "nbconvert_exporter": "python",
   "pygments_lexer": "ipython3",
   "version": "3.11.8"
  }
 },
 "nbformat": 4,
 "nbformat_minor": 2
}
