{
 "cells": [
  {
   "cell_type": "code",
   "execution_count": 0,
   "metadata": {
    "application/vnd.databricks.v1+cell": {
     "cellMetadata": {
      "byteLimit": 2048000,
      "rowLimit": 10000
     },
     "inputWidgets": {},
     "nuid": "98828a67-fa5c-453d-a9bf-ef58267428eb",
     "showTitle": false,
     "title": ""
    }
   },
   "outputs": [],
   "source": [
    "import pyspark\n",
    "from   pyspark.sql import SparkSession ,dataframe\n",
    "from   pyspark.sql import functions as f"
   ]
  },
  {
   "cell_type": "code",
   "execution_count": 0,
   "metadata": {
    "application/vnd.databricks.v1+cell": {
     "cellMetadata": {
      "byteLimit": 2048000,
      "rowLimit": 10000
     },
     "inputWidgets": {},
     "nuid": "f14fff98-0c0d-422e-b2f1-fd4afa7abf87",
     "showTitle": false,
     "title": ""
    }
   },
   "outputs": [],
   "source": [
    "data:dataframe = (\n",
    "    spark.read\n",
    "    .format(\"csv\")\n",
    "    .option('header',\"True\")\n",
    "    .option('inferschema','True')\n",
    "    .option(\"delimiter\",';')\n",
    "    .load('/FileStore/tables/arquivo_geral-2.csv')\n",
    ")\n",
    "data = data.withColumnRenamed('data','datasD')\n",
    "\n",
    "data.createOrReplaceTempView('tabela')"
   ]
  },
  {
   "cell_type": "code",
   "execution_count": 0,
   "metadata": {
    "application/vnd.databricks.v1+cell": {
     "cellMetadata": {
      "byteLimit": 2048000,
      "implicitDf": true,
      "rowLimit": 10000
     },
     "inputWidgets": {},
     "nuid": "a6dbf9e1-76e4-477d-ba83-b4895b2552cf",
     "showTitle": false,
     "title": ""
    }
   },
   "outputs": [
    {
     "output_type": "display_data",
     "data": {
      "text/html": [
       "<style scoped>\n",
       "  .table-result-container {\n",
       "    max-height: 300px;\n",
       "    overflow: auto;\n",
       "  }\n",
       "  table, th, td {\n",
       "    border: 1px solid black;\n",
       "    border-collapse: collapse;\n",
       "  }\n",
       "  th, td {\n",
       "    padding: 5px;\n",
       "  }\n",
       "  th {\n",
       "    text-align: left;\n",
       "  }\n",
       "</style><div class='table-result-container'><table class='table-result'><thead style='background-color: white'><tr><th>regiao</th><th>estado</th><th>datasD</th><th>casosNovos</th><th>casosAcumulados</th><th>obitosNovos</th><th>obitosAcumulados</th></tr></thead><tbody><tr><td>Norte</td><td>RO</td><td>2020-01-30</td><td>0</td><td>0</td><td>0</td><td>0</td></tr><tr><td>Norte</td><td>RO</td><td>2020-01-31</td><td>0</td><td>0</td><td>0</td><td>0</td></tr><tr><td>Norte</td><td>RO</td><td>2020-02-01</td><td>0</td><td>0</td><td>0</td><td>0</td></tr><tr><td>Norte</td><td>RO</td><td>2020-02-02</td><td>0</td><td>0</td><td>0</td><td>0</td></tr><tr><td>Norte</td><td>RO</td><td>2020-02-03</td><td>0</td><td>0</td><td>0</td><td>0</td></tr></tbody></table></div>"
      ]
     },
     "metadata": {
      "application/vnd.databricks.v1+output": {
       "addedWidgets": {},
       "aggData": [],
       "aggError": "",
       "aggOverflow": false,
       "aggSchema": [],
       "aggSeriesLimitReached": false,
       "aggType": "",
       "arguments": {},
       "columnCustomDisplayInfos": {},
       "data": [
        [
         "Norte",
         "RO",
         "2020-01-30",
         0,
         0,
         0,
         0
        ],
        [
         "Norte",
         "RO",
         "2020-01-31",
         0,
         0,
         0,
         0
        ],
        [
         "Norte",
         "RO",
         "2020-02-01",
         0,
         0,
         0,
         0
        ],
        [
         "Norte",
         "RO",
         "2020-02-02",
         0,
         0,
         0,
         0
        ],
        [
         "Norte",
         "RO",
         "2020-02-03",
         0,
         0,
         0,
         0
        ]
       ],
       "datasetInfos": [],
       "dbfsResultPath": null,
       "isJsonSchema": true,
       "metadata": {},
       "overflow": false,
       "plotOptions": {
        "customPlotOptions": {},
        "displayType": "table",
        "pivotAggregation": null,
        "pivotColumns": null,
        "xColumns": null,
        "yColumns": null
       },
       "removedWidgets": [],
       "schema": [
        {
         "metadata": "{}",
         "name": "regiao",
         "type": "\"string\""
        },
        {
         "metadata": "{}",
         "name": "estado",
         "type": "\"string\""
        },
        {
         "metadata": "{\"__detected_date_formats\":\"yyyy-M-d\"}",
         "name": "datasD",
         "type": "\"date\""
        },
        {
         "metadata": "{}",
         "name": "casosNovos",
         "type": "\"integer\""
        },
        {
         "metadata": "{}",
         "name": "casosAcumulados",
         "type": "\"integer\""
        },
        {
         "metadata": "{}",
         "name": "obitosNovos",
         "type": "\"integer\""
        },
        {
         "metadata": "{}",
         "name": "obitosAcumulados",
         "type": "\"integer\""
        }
       ],
       "type": "table"
      }
     },
     "output_type": "display_data"
    }
   ],
   "source": [
    "%sql\n",
    "select * from tabela limit 5;"
   ]
  },
  {
   "cell_type": "code",
   "execution_count": 0,
   "metadata": {
    "application/vnd.databricks.v1+cell": {
     "cellMetadata": {
      "byteLimit": 2048000,
      "implicitDf": true,
      "rowLimit": 10000
     },
     "inputWidgets": {},
     "nuid": "d77f0247-af43-47df-9f96-ffe9e448a786",
     "showTitle": false,
     "title": ""
    }
   },
   "outputs": [
    {
     "output_type": "display_data",
     "data": {
      "text/html": [
       "<style scoped>\n",
       "  .table-result-container {\n",
       "    max-height: 300px;\n",
       "    overflow: auto;\n",
       "  }\n",
       "  table, th, td {\n",
       "    border: 1px solid black;\n",
       "    border-collapse: collapse;\n",
       "  }\n",
       "  th, td {\n",
       "    padding: 5px;\n",
       "  }\n",
       "  th {\n",
       "    text-align: left;\n",
       "  }\n",
       "</style><div class='table-result-container'><table class='table-result'><thead style='background-color: white'><tr><th>regiao</th><th>nova</th></tr></thead><tbody><tr><td>Nordeste</td><td>252</td></tr><tr><td>Sul</td><td>84</td></tr><tr><td>Sudeste</td><td>112</td></tr><tr><td>Centro-Oeste</td><td>112</td></tr><tr><td>Norte</td><td>196</td></tr></tbody></table></div>"
      ]
     },
     "metadata": {
      "application/vnd.databricks.v1+output": {
       "addedWidgets": {},
       "aggData": [],
       "aggError": "",
       "aggOverflow": false,
       "aggSchema": [],
       "aggSeriesLimitReached": false,
       "aggType": "",
       "arguments": {},
       "columnCustomDisplayInfos": {},
       "data": [
        [
         "Nordeste",
         252
        ],
        [
         "Sul",
         84
        ],
        [
         "Sudeste",
         112
        ],
        [
         "Centro-Oeste",
         112
        ],
        [
         "Norte",
         196
        ]
       ],
       "datasetInfos": [],
       "dbfsResultPath": null,
       "isJsonSchema": true,
       "metadata": {},
       "overflow": false,
       "plotOptions": {
        "customPlotOptions": {},
        "displayType": "table",
        "pivotAggregation": null,
        "pivotColumns": null,
        "xColumns": null,
        "yColumns": null
       },
       "removedWidgets": [],
       "schema": [
        {
         "metadata": "{}",
         "name": "regiao",
         "type": "\"string\""
        },
        {
         "metadata": "{}",
         "name": "nova",
         "type": "\"long\""
        }
       ],
       "type": "table"
      }
     },
     "output_type": "display_data"
    }
   ],
   "source": [
    "%sql\n",
    "select p.regiao, count(p.obitosNovos) as nova from tabela as p\n",
    "where p.datasD >= '2020-02-01' and p.datasD <= '2020-02-28'\n",
    "group by p.regiao \n",
    "having nova >= 10;"
   ]
  },
  {
   "cell_type": "code",
   "execution_count": 0,
   "metadata": {
    "application/vnd.databricks.v1+cell": {
     "cellMetadata": {
      "byteLimit": 2048000,
      "implicitDf": true,
      "rowLimit": 10000
     },
     "inputWidgets": {},
     "nuid": "e9c20f56-65fd-4296-9a29-47285cc8e816",
     "showTitle": false,
     "title": ""
    }
   },
   "outputs": [
    {
     "output_type": "display_data",
     "data": {
      "text/html": [
       "<style scoped>\n",
       "  .table-result-container {\n",
       "    max-height: 300px;\n",
       "    overflow: auto;\n",
       "  }\n",
       "  table, th, td {\n",
       "    border: 1px solid black;\n",
       "    border-collapse: collapse;\n",
       "  }\n",
       "  th, td {\n",
       "    padding: 5px;\n",
       "  }\n",
       "  th {\n",
       "    text-align: left;\n",
       "  }\n",
       "</style><div class='table-result-container'><table class='table-result'><thead style='background-color: white'><tr><th>estado</th><th>devioPadraoCasosNovos</th><th>media_casosNovos</th></tr></thead><tbody><tr><td>SP</td><td>114.18250209778526</td><td>38.983333333333334</td></tr><tr><td>RJ</td><td>22.591283754911213</td><td>11.8</td></tr><tr><td>CE</td><td>13.502667658588992</td><td>6.5</td></tr><tr><td>DF</td><td>11.047611394058187</td><td>5.533333333333333</td></tr><tr><td>MG</td><td>10.772362104512384</td><td>4.583333333333333</td></tr><tr><td>RS</td><td>9.71521027741877</td><td>4.566666666666666</td></tr><tr><td>SC</td><td>8.850596073003086</td><td>3.65</td></tr><tr><td>BA</td><td>8.013600726899831</td><td>3.55</td></tr><tr><td>AM</td><td>7.00675622298661</td><td>2.9166666666666665</td></tr><tr><td>PR</td><td>5.8959672131492615</td><td>2.9833333333333334</td></tr><tr><td>RN</td><td>4.054571250156898</td><td>1.3666666666666667</td></tr><tr><td>PE</td><td>3.3315390651128314</td><td>1.45</td></tr><tr><td>ES</td><td>3.247945895850619</td><td>1.4</td></tr><tr><td>GO</td><td>2.272098012527425</td><td>1.0833333333333333</td></tr><tr><td>AC</td><td>1.94239062907856</td><td>0.7</td></tr><tr><td>MS</td><td>1.7736298125213181</td><td>0.8</td></tr><tr><td>PA</td><td>1.7317245902559608</td><td>0.5333333333333333</td></tr><tr><td>MA</td><td>1.610260181805209</td><td>0.5166666666666667</td></tr><tr><td>MT</td><td>1.252680741269707</td><td>0.4166666666666667</td></tr><tr><td>RR</td><td>1.0061954971729268</td><td>0.26666666666666666</td></tr><tr><td>SE</td><td>0.9827610131865975</td><td>0.31666666666666665</td></tr><tr><td>PB</td><td>0.903696114115064</td><td>0.2833333333333333</td></tr><tr><td>AL</td><td>0.7876160124393407</td><td>0.3</td></tr><tr><td>PI</td><td>0.7657941485582803</td><td>0.3</td></tr><tr><td>AP</td><td>0.6422066478409215</td><td>0.16666666666666666</td></tr><tr><td>TO</td><td>0.5365194379932872</td><td>0.18333333333333332</td></tr><tr><td>RO</td><td>0.4681976500881039</td><td>0.13333333333333333</td></tr></tbody></table></div>"
      ]
     },
     "metadata": {
      "application/vnd.databricks.v1+output": {
       "addedWidgets": {},
       "aggData": [],
       "aggError": "",
       "aggOverflow": false,
       "aggSchema": [],
       "aggSeriesLimitReached": false,
       "aggType": "",
       "arguments": {},
       "columnCustomDisplayInfos": {},
       "data": [
        [
         "SP",
         114.18250209778526,
         38.983333333333334
        ],
        [
         "RJ",
         22.591283754911213,
         11.8
        ],
        [
         "CE",
         13.502667658588992,
         6.5
        ],
        [
         "DF",
         11.047611394058187,
         5.533333333333333
        ],
        [
         "MG",
         10.772362104512384,
         4.583333333333333
        ],
        [
         "RS",
         9.71521027741877,
         4.566666666666666
        ],
        [
         "SC",
         8.850596073003086,
         3.65
        ],
        [
         "BA",
         8.013600726899831,
         3.55
        ],
        [
         "AM",
         7.00675622298661,
         2.9166666666666665
        ],
        [
         "PR",
         5.8959672131492615,
         2.9833333333333334
        ],
        [
         "RN",
         4.054571250156898,
         1.3666666666666667
        ],
        [
         "PE",
         3.3315390651128314,
         1.45
        ],
        [
         "ES",
         3.247945895850619,
         1.4
        ],
        [
         "GO",
         2.272098012527425,
         1.0833333333333333
        ],
        [
         "AC",
         1.94239062907856,
         0.7
        ],
        [
         "MS",
         1.7736298125213181,
         0.8
        ],
        [
         "PA",
         1.7317245902559608,
         0.5333333333333333
        ],
        [
         "MA",
         1.610260181805209,
         0.5166666666666667
        ],
        [
         "MT",
         1.252680741269707,
         0.4166666666666667
        ],
        [
         "RR",
         1.0061954971729268,
         0.26666666666666666
        ],
        [
         "SE",
         0.9827610131865975,
         0.31666666666666665
        ],
        [
         "PB",
         0.903696114115064,
         0.2833333333333333
        ],
        [
         "AL",
         0.7876160124393407,
         0.3
        ],
        [
         "PI",
         0.7657941485582803,
         0.3
        ],
        [
         "AP",
         0.6422066478409215,
         0.16666666666666666
        ],
        [
         "TO",
         0.5365194379932872,
         0.18333333333333332
        ],
        [
         "RO",
         0.4681976500881039,
         0.13333333333333333
        ]
       ],
       "datasetInfos": [],
       "dbfsResultPath": null,
       "isJsonSchema": true,
       "metadata": {},
       "overflow": false,
       "plotOptions": {
        "customPlotOptions": {},
        "displayType": "table",
        "pivotAggregation": null,
        "pivotColumns": null,
        "xColumns": null,
        "yColumns": null
       },
       "removedWidgets": [],
       "schema": [
        {
         "metadata": "{}",
         "name": "estado",
         "type": "\"string\""
        },
        {
         "metadata": "{}",
         "name": "devioPadraoCasosNovos",
         "type": "\"double\""
        },
        {
         "metadata": "{}",
         "name": "media_casosNovos",
         "type": "\"double\""
        }
       ],
       "type": "table"
      }
     },
     "output_type": "display_data"
    }
   ],
   "source": [
    "%sql\n",
    "select t.estado, std(t.casosNovos) as devioPadraoCasosNovos , mean(t.casosNovos) as media_casosNovos from tabela as t\n",
    "where t.datasD >= '2020-02-01' and t.datasD <= '2020-03-31'\n",
    "group by t.estado\n",
    "order by devioPadraoCasosNovos desc;"
   ]
  },
  {
   "cell_type": "code",
   "execution_count": 0,
   "metadata": {
    "application/vnd.databricks.v1+cell": {
     "cellMetadata": {
      "byteLimit": 2048000,
      "implicitDf": true,
      "rowLimit": 10000
     },
     "inputWidgets": {},
     "nuid": "bf1e383c-56f3-4f90-97ec-f5c8721f140d",
     "showTitle": false,
     "title": ""
    }
   },
   "outputs": [
    {
     "output_type": "display_data",
     "data": {
      "text/html": [
       "<style scoped>\n",
       "  .table-result-container {\n",
       "    max-height: 300px;\n",
       "    overflow: auto;\n",
       "  }\n",
       "  table, th, td {\n",
       "    border: 1px solid black;\n",
       "    border-collapse: collapse;\n",
       "  }\n",
       "  th, td {\n",
       "    padding: 5px;\n",
       "  }\n",
       "  th {\n",
       "    text-align: left;\n",
       "  }\n",
       "</style><div class='table-result-container'><table class='table-result'><thead style='background-color: white'><tr><th>regiao</th><th>estado</th><th>datasD</th><th>casosNovos</th><th>casosAcumulados</th><th>obitosNovos</th><th>obitosAcumulados</th></tr></thead><tbody><tr><td>Nordeste</td><td>CE</td><td>2020-01-30</td><td>0</td><td>0</td><td>0</td><td>0</td></tr><tr><td>Nordeste</td><td>CE</td><td>2020-01-31</td><td>0</td><td>0</td><td>0</td><td>0</td></tr><tr><td>Nordeste</td><td>CE</td><td>2020-02-01</td><td>0</td><td>0</td><td>0</td><td>0</td></tr><tr><td>Nordeste</td><td>CE</td><td>2020-02-02</td><td>0</td><td>0</td><td>0</td><td>0</td></tr><tr><td>Nordeste</td><td>CE</td><td>2020-02-03</td><td>0</td><td>0</td><td>0</td><td>0</td></tr><tr><td>Nordeste</td><td>CE</td><td>2020-02-04</td><td>0</td><td>0</td><td>0</td><td>0</td></tr><tr><td>Nordeste</td><td>CE</td><td>2020-02-05</td><td>0</td><td>0</td><td>0</td><td>0</td></tr><tr><td>Nordeste</td><td>CE</td><td>2020-02-06</td><td>0</td><td>0</td><td>0</td><td>0</td></tr><tr><td>Nordeste</td><td>CE</td><td>2020-02-07</td><td>0</td><td>0</td><td>0</td><td>0</td></tr><tr><td>Nordeste</td><td>CE</td><td>2020-02-08</td><td>0</td><td>0</td><td>0</td><td>0</td></tr><tr><td>Nordeste</td><td>CE</td><td>2020-02-09</td><td>0</td><td>0</td><td>0</td><td>0</td></tr><tr><td>Nordeste</td><td>CE</td><td>2020-02-10</td><td>0</td><td>0</td><td>0</td><td>0</td></tr><tr><td>Nordeste</td><td>CE</td><td>2020-02-11</td><td>0</td><td>0</td><td>0</td><td>0</td></tr><tr><td>Nordeste</td><td>CE</td><td>2020-02-12</td><td>0</td><td>0</td><td>0</td><td>0</td></tr><tr><td>Nordeste</td><td>CE</td><td>2020-02-13</td><td>0</td><td>0</td><td>0</td><td>0</td></tr><tr><td>Nordeste</td><td>CE</td><td>2020-02-14</td><td>0</td><td>0</td><td>0</td><td>0</td></tr><tr><td>Nordeste</td><td>CE</td><td>2020-02-15</td><td>0</td><td>0</td><td>0</td><td>0</td></tr><tr><td>Nordeste</td><td>CE</td><td>2020-02-16</td><td>0</td><td>0</td><td>0</td><td>0</td></tr><tr><td>Nordeste</td><td>CE</td><td>2020-02-17</td><td>0</td><td>0</td><td>0</td><td>0</td></tr><tr><td>Nordeste</td><td>CE</td><td>2020-02-18</td><td>0</td><td>0</td><td>0</td><td>0</td></tr><tr><td>Nordeste</td><td>CE</td><td>2020-02-19</td><td>0</td><td>0</td><td>0</td><td>0</td></tr><tr><td>Nordeste</td><td>CE</td><td>2020-02-20</td><td>0</td><td>0</td><td>0</td><td>0</td></tr><tr><td>Nordeste</td><td>CE</td><td>2020-02-21</td><td>0</td><td>0</td><td>0</td><td>0</td></tr><tr><td>Nordeste</td><td>CE</td><td>2020-02-22</td><td>0</td><td>0</td><td>0</td><td>0</td></tr><tr><td>Nordeste</td><td>CE</td><td>2020-02-23</td><td>0</td><td>0</td><td>0</td><td>0</td></tr><tr><td>Nordeste</td><td>CE</td><td>2020-02-24</td><td>0</td><td>0</td><td>0</td><td>0</td></tr><tr><td>Nordeste</td><td>CE</td><td>2020-02-25</td><td>0</td><td>0</td><td>0</td><td>0</td></tr><tr><td>Nordeste</td><td>CE</td><td>2020-02-26</td><td>0</td><td>0</td><td>0</td><td>0</td></tr><tr><td>Nordeste</td><td>CE</td><td>2020-02-27</td><td>0</td><td>0</td><td>0</td><td>0</td></tr><tr><td>Nordeste</td><td>CE</td><td>2020-02-28</td><td>0</td><td>0</td><td>0</td><td>0</td></tr><tr><td>Nordeste</td><td>CE</td><td>2020-02-29</td><td>0</td><td>0</td><td>0</td><td>0</td></tr><tr><td>Nordeste</td><td>CE</td><td>2020-03-01</td><td>0</td><td>0</td><td>0</td><td>0</td></tr><tr><td>Nordeste</td><td>CE</td><td>2020-03-02</td><td>0</td><td>0</td><td>0</td><td>0</td></tr><tr><td>Nordeste</td><td>CE</td><td>2020-03-03</td><td>0</td><td>0</td><td>0</td><td>0</td></tr><tr><td>Nordeste</td><td>CE</td><td>2020-03-04</td><td>0</td><td>0</td><td>0</td><td>0</td></tr><tr><td>Nordeste</td><td>CE</td><td>2020-03-05</td><td>0</td><td>0</td><td>0</td><td>0</td></tr><tr><td>Nordeste</td><td>CE</td><td>2020-03-06</td><td>0</td><td>0</td><td>0</td><td>0</td></tr><tr><td>Nordeste</td><td>CE</td><td>2020-03-07</td><td>0</td><td>0</td><td>0</td><td>0</td></tr><tr><td>Nordeste</td><td>CE</td><td>2020-03-08</td><td>0</td><td>0</td><td>0</td><td>0</td></tr><tr><td>Nordeste</td><td>CE</td><td>2020-03-09</td><td>0</td><td>0</td><td>0</td><td>0</td></tr><tr><td>Nordeste</td><td>CE</td><td>2020-03-10</td><td>0</td><td>0</td><td>0</td><td>0</td></tr><tr><td>Nordeste</td><td>CE</td><td>2020-03-11</td><td>0</td><td>0</td><td>0</td><td>0</td></tr><tr><td>Nordeste</td><td>CE</td><td>2020-03-12</td><td>0</td><td>0</td><td>0</td><td>0</td></tr><tr><td>Nordeste</td><td>CE</td><td>2020-03-13</td><td>0</td><td>0</td><td>0</td><td>0</td></tr><tr><td>Nordeste</td><td>CE</td><td>2020-03-14</td><td>0</td><td>0</td><td>0</td><td>0</td></tr><tr><td>Nordeste</td><td>CE</td><td>2020-03-15</td><td>0</td><td>0</td><td>0</td><td>0</td></tr><tr><td>Nordeste</td><td>CE</td><td>2020-03-16</td><td>0</td><td>0</td><td>0</td><td>0</td></tr><tr><td>Nordeste</td><td>CE</td><td>2020-03-17</td><td>5</td><td>5</td><td>0</td><td>0</td></tr><tr><td>Nordeste</td><td>CE</td><td>2020-03-18</td><td>4</td><td>9</td><td>0</td><td>0</td></tr><tr><td>Nordeste</td><td>CE</td><td>2020-03-19</td><td>11</td><td>20</td><td>0</td><td>0</td></tr><tr><td>Nordeste</td><td>CE</td><td>2020-03-20</td><td>35</td><td>55</td><td>0</td><td>0</td></tr><tr><td>Nordeste</td><td>CE</td><td>2020-03-21</td><td>13</td><td>68</td><td>0</td><td>0</td></tr><tr><td>Nordeste</td><td>CE</td><td>2020-03-22</td><td>44</td><td>112</td><td>0</td><td>0</td></tr><tr><td>Nordeste</td><td>CE</td><td>2020-03-23</td><td>51</td><td>163</td><td>0</td><td>0</td></tr><tr><td>Nordeste</td><td>CE</td><td>2020-03-24</td><td>19</td><td>182</td><td>0</td><td>0</td></tr><tr><td>Nordeste</td><td>CE</td><td>2020-03-25</td><td>18</td><td>200</td><td>0</td><td>0</td></tr><tr><td>Nordeste</td><td>CE</td><td>2020-03-26</td><td>35</td><td>235</td><td>3</td><td>3</td></tr><tr><td>Nordeste</td><td>CE</td><td>2020-03-27</td><td>47</td><td>282</td><td>0</td><td>3</td></tr><tr><td>Nordeste</td><td>CE</td><td>2020-03-28</td><td>32</td><td>314</td><td>1</td><td>4</td></tr><tr><td>Nordeste</td><td>CE</td><td>2020-03-29</td><td>34</td><td>348</td><td>1</td><td>5</td></tr><tr><td>Nordeste</td><td>CE</td><td>2020-03-30</td><td>24</td><td>372</td><td>0</td><td>5</td></tr><tr><td>Nordeste</td><td>CE</td><td>2020-03-31</td><td>18</td><td>390</td><td>2</td><td>7</td></tr><tr><td>Nordeste</td><td>CE</td><td>2020-04-01</td><td>54</td><td>444</td><td>1</td><td>8</td></tr><tr><td>Nordeste</td><td>CE</td><td>2020-04-02</td><td>106</td><td>550</td><td>12</td><td>20</td></tr><tr><td>Nordeste</td><td>CE</td><td>2020-04-03</td><td>77</td><td>627</td><td>2</td><td>22</td></tr><tr><td>Nordeste</td><td>CE</td><td>2020-04-04</td><td>103</td><td>730</td><td>0</td><td>22</td></tr><tr><td>Nordeste</td><td>CE</td><td>2020-04-05</td><td>93</td><td>823</td><td>4</td><td>26</td></tr><tr><td>Nordeste</td><td>CE</td><td>2020-04-06</td><td>190</td><td>1013</td><td>3</td><td>29</td></tr><tr><td>Nordeste</td><td>CE</td><td>2020-04-07</td><td>38</td><td>1051</td><td>2</td><td>31</td></tr><tr><td>Nordeste</td><td>CE</td><td>2020-04-08</td><td>240</td><td>1291</td><td>12</td><td>43</td></tr><tr><td>Nordeste</td><td>CE</td><td>2020-04-09</td><td>134</td><td>1425</td><td>12</td><td>55</td></tr><tr><td>Nordeste</td><td>CE</td><td>2020-04-10</td><td>53</td><td>1478</td><td>3</td><td>58</td></tr><tr><td>Nordeste</td><td>CE</td><td>2020-04-11</td><td>104</td><td>1582</td><td>9</td><td>67</td></tr><tr><td>Nordeste</td><td>CE</td><td>2020-04-12</td><td>94</td><td>1676</td><td>7</td><td>74</td></tr><tr><td>Nordeste</td><td>CE</td><td>2020-04-13</td><td>124</td><td>1800</td><td>17</td><td>91</td></tr><tr><td>Nordeste</td><td>CE</td><td>2020-04-14</td><td>205</td><td>2005</td><td>16</td><td>107</td></tr><tr><td>Nordeste</td><td>CE</td><td>2020-04-15</td><td>152</td><td>2157</td><td>9</td><td>116</td></tr><tr><td>Nordeste</td><td>CE</td><td>2020-04-16</td><td>229</td><td>2386</td><td>8</td><td>124</td></tr><tr><td>Nordeste</td><td>CE</td><td>2020-04-17</td><td>298</td><td>2684</td><td>25</td><td>149</td></tr><tr><td>Nordeste</td><td>CE</td><td>2020-04-18</td><td>350</td><td>3034</td><td>27</td><td>176</td></tr><tr><td>Nordeste</td><td>CE</td><td>2020-04-19</td><td>218</td><td>3252</td><td>10</td><td>186</td></tr><tr><td>Nordeste</td><td>CE</td><td>2020-04-20</td><td>230</td><td>3482</td><td>12</td><td>198</td></tr><tr><td>Nordeste</td><td>CE</td><td>2020-04-21</td><td>234</td><td>3716</td><td>17</td><td>215</td></tr><tr><td>Nordeste</td><td>CE</td><td>2020-04-22</td><td>194</td><td>3910</td><td>18</td><td>233</td></tr><tr><td>Nordeste</td><td>CE</td><td>2020-04-23</td><td>688</td><td>4598</td><td>33</td><td>266</td></tr><tr><td>Nordeste</td><td>CE</td><td>2020-04-24</td><td>202</td><td>4800</td><td>18</td><td>284</td></tr><tr><td>Nordeste</td><td>CE</td><td>2020-04-25</td><td>621</td><td>5421</td><td>26</td><td>310</td></tr><tr><td>Sudeste</td><td>SP</td><td>2020-01-30</td><td>0</td><td>0</td><td>0</td><td>0</td></tr><tr><td>Sudeste</td><td>SP</td><td>2020-01-31</td><td>0</td><td>0</td><td>0</td><td>0</td></tr><tr><td>Sudeste</td><td>SP</td><td>2020-02-01</td><td>0</td><td>0</td><td>0</td><td>0</td></tr><tr><td>Sudeste</td><td>SP</td><td>2020-02-02</td><td>0</td><td>0</td><td>0</td><td>0</td></tr><tr><td>Sudeste</td><td>SP</td><td>2020-02-03</td><td>0</td><td>0</td><td>0</td><td>0</td></tr><tr><td>Sudeste</td><td>SP</td><td>2020-02-04</td><td>0</td><td>0</td><td>0</td><td>0</td></tr><tr><td>Sudeste</td><td>SP</td><td>2020-02-05</td><td>0</td><td>0</td><td>0</td><td>0</td></tr><tr><td>Sudeste</td><td>SP</td><td>2020-02-06</td><td>0</td><td>0</td><td>0</td><td>0</td></tr><tr><td>Sudeste</td><td>SP</td><td>2020-02-07</td><td>0</td><td>0</td><td>0</td><td>0</td></tr><tr><td>Sudeste</td><td>SP</td><td>2020-02-08</td><td>0</td><td>0</td><td>0</td><td>0</td></tr><tr><td>Sudeste</td><td>SP</td><td>2020-02-09</td><td>0</td><td>0</td><td>0</td><td>0</td></tr><tr><td>Sudeste</td><td>SP</td><td>2020-02-10</td><td>0</td><td>0</td><td>0</td><td>0</td></tr><tr><td>Sudeste</td><td>SP</td><td>2020-02-11</td><td>0</td><td>0</td><td>0</td><td>0</td></tr><tr><td>Sudeste</td><td>SP</td><td>2020-02-12</td><td>0</td><td>0</td><td>0</td><td>0</td></tr><tr><td>Sudeste</td><td>SP</td><td>2020-02-13</td><td>0</td><td>0</td><td>0</td><td>0</td></tr><tr><td>Sudeste</td><td>SP</td><td>2020-02-14</td><td>0</td><td>0</td><td>0</td><td>0</td></tr><tr><td>Sudeste</td><td>SP</td><td>2020-02-15</td><td>0</td><td>0</td><td>0</td><td>0</td></tr><tr><td>Sudeste</td><td>SP</td><td>2020-02-16</td><td>0</td><td>0</td><td>0</td><td>0</td></tr><tr><td>Sudeste</td><td>SP</td><td>2020-02-17</td><td>0</td><td>0</td><td>0</td><td>0</td></tr><tr><td>Sudeste</td><td>SP</td><td>2020-02-18</td><td>0</td><td>0</td><td>0</td><td>0</td></tr><tr><td>Sudeste</td><td>SP</td><td>2020-02-19</td><td>0</td><td>0</td><td>0</td><td>0</td></tr><tr><td>Sudeste</td><td>SP</td><td>2020-02-20</td><td>0</td><td>0</td><td>0</td><td>0</td></tr><tr><td>Sudeste</td><td>SP</td><td>2020-02-21</td><td>0</td><td>0</td><td>0</td><td>0</td></tr><tr><td>Sudeste</td><td>SP</td><td>2020-02-22</td><td>0</td><td>0</td><td>0</td><td>0</td></tr><tr><td>Sudeste</td><td>SP</td><td>2020-02-23</td><td>0</td><td>0</td><td>0</td><td>0</td></tr><tr><td>Sudeste</td><td>SP</td><td>2020-02-24</td><td>0</td><td>0</td><td>0</td><td>0</td></tr><tr><td>Sudeste</td><td>SP</td><td>2020-02-25</td><td>0</td><td>0</td><td>0</td><td>0</td></tr><tr><td>Sudeste</td><td>SP</td><td>2020-02-26</td><td>1</td><td>1</td><td>0</td><td>0</td></tr><tr><td>Sudeste</td><td>SP</td><td>2020-02-27</td><td>0</td><td>1</td><td>0</td><td>0</td></tr><tr><td>Sudeste</td><td>SP</td><td>2020-02-28</td><td>0</td><td>1</td><td>0</td><td>0</td></tr><tr><td>Sudeste</td><td>SP</td><td>2020-02-29</td><td>1</td><td>2</td><td>0</td><td>0</td></tr><tr><td>Sudeste</td><td>SP</td><td>2020-03-01</td><td>0</td><td>2</td><td>0</td><td>0</td></tr><tr><td>Sudeste</td><td>SP</td><td>2020-03-02</td><td>0</td><td>2</td><td>0</td><td>0</td></tr><tr><td>Sudeste</td><td>SP</td><td>2020-03-03</td><td>0</td><td>2</td><td>0</td><td>0</td></tr><tr><td>Sudeste</td><td>SP</td><td>2020-03-04</td><td>1</td><td>3</td><td>0</td><td>0</td></tr><tr><td>Sudeste</td><td>SP</td><td>2020-03-05</td><td>3</td><td>6</td><td>0</td><td>0</td></tr><tr><td>Sudeste</td><td>SP</td><td>2020-03-06</td><td>4</td><td>10</td><td>0</td><td>0</td></tr><tr><td>Sudeste</td><td>SP</td><td>2020-03-07</td><td>3</td><td>13</td><td>0</td><td>0</td></tr><tr><td>Sudeste</td><td>SP</td><td>2020-03-08</td><td>3</td><td>16</td><td>0</td><td>0</td></tr><tr><td>Sudeste</td><td>SP</td><td>2020-03-09</td><td>0</td><td>16</td><td>0</td><td>0</td></tr><tr><td>Sudeste</td><td>SP</td><td>2020-03-10</td><td>3</td><td>19</td><td>0</td><td>0</td></tr><tr><td>Sudeste</td><td>SP</td><td>2020-03-11</td><td>11</td><td>30</td><td>0</td><td>0</td></tr><tr><td>Sudeste</td><td>SP</td><td>2020-03-12</td><td>12</td><td>42</td><td>0</td><td>0</td></tr><tr><td>Sudeste</td><td>SP</td><td>2020-03-13</td><td>14</td><td>56</td><td>0</td><td>0</td></tr><tr><td>Sudeste</td><td>SP</td><td>2020-03-14</td><td>9</td><td>65</td><td>0</td><td>0</td></tr><tr><td>Sudeste</td><td>SP</td><td>2020-03-15</td><td>71</td><td>136</td><td>0</td><td>0</td></tr><tr><td>Sudeste</td><td>SP</td><td>2020-03-16</td><td>16</td><td>152</td><td>0</td><td>0</td></tr><tr><td>Sudeste</td><td>SP</td><td>2020-03-17</td><td>12</td><td>164</td><td>1</td><td>1</td></tr><tr><td>Sudeste</td><td>SP</td><td>2020-03-18</td><td>76</td><td>240</td><td>3</td><td>4</td></tr><tr><td>Sudeste</td><td>SP</td><td>2020-03-19</td><td>46</td><td>286</td><td>0</td><td>4</td></tr><tr><td>Sudeste</td><td>SP</td><td>2020-03-20</td><td>110</td><td>396</td><td>5</td><td>9</td></tr><tr><td>Sudeste</td><td>SP</td><td>2020-03-21</td><td>63</td><td>459</td><td>6</td><td>15</td></tr><tr><td>Sudeste</td><td>SP</td><td>2020-03-22</td><td>172</td><td>631</td><td>7</td><td>22</td></tr><tr><td>Sudeste</td><td>SP</td><td>2020-03-23</td><td>114</td><td>745</td><td>8</td><td>30</td></tr><tr><td>Sudeste</td><td>SP</td><td>2020-03-24</td><td>65</td><td>810</td><td>10</td><td>40</td></tr><tr><td>Sudeste</td><td>SP</td><td>2020-03-25</td><td>52</td><td>862</td><td>8</td><td>48</td></tr><tr><td>Sudeste</td><td>SP</td><td>2020-03-26</td><td>190</td><td>1052</td><td>10</td><td>58</td></tr><tr><td>Sudeste</td><td>SP</td><td>2020-03-27</td><td>171</td><td>1223</td><td>10</td><td>68</td></tr><tr><td>Sudeste</td><td>SP</td><td>2020-03-28</td><td>183</td><td>1406</td><td>16</td><td>84</td></tr><tr><td>Sudeste</td><td>SP</td><td>2020-03-29</td><td>45</td><td>1451</td><td>14</td><td>98</td></tr><tr><td>Sudeste</td><td>SP</td><td>2020-03-30</td><td>66</td><td>1517</td><td>15</td><td>113</td></tr><tr><td>Sudeste</td><td>SP</td><td>2020-03-31</td><td>822</td><td>2339</td><td>23</td><td>136</td></tr><tr><td>Sudeste</td><td>SP</td><td>2020-04-01</td><td>642</td><td>2981</td><td>28</td><td>164</td></tr><tr><td>Sudeste</td><td>SP</td><td>2020-04-02</td><td>525</td><td>3506</td><td>24</td><td>188</td></tr><tr><td>Sudeste</td><td>SP</td><td>2020-04-03</td><td>542</td><td>4048</td><td>31</td><td>219</td></tr><tr><td>Sudeste</td><td>SP</td><td>2020-04-04</td><td>418</td><td>4466</td><td>41</td><td>260</td></tr><tr><td>Sudeste</td><td>SP</td><td>2020-04-05</td><td>154</td><td>4620</td><td>15</td><td>275</td></tr><tr><td>Sudeste</td><td>SP</td><td>2020-04-06</td><td>246</td><td>4866</td><td>29</td><td>304</td></tr><tr><td>Sudeste</td><td>SP</td><td>2020-04-07</td><td>816</td><td>5682</td><td>67</td><td>371</td></tr><tr><td>Sudeste</td><td>SP</td><td>2020-04-08</td><td>1026</td><td>6708</td><td>57</td><td>428</td></tr><tr><td>Sudeste</td><td>SP</td><td>2020-04-09</td><td>772</td><td>7480</td><td>68</td><td>496</td></tr><tr><td>Sudeste</td><td>SP</td><td>2020-04-10</td><td>736</td><td>8216</td><td>44</td><td>540</td></tr><tr><td>Sudeste</td><td>SP</td><td>2020-04-11</td><td>203</td><td>8419</td><td>20</td><td>560</td></tr><tr><td>Sudeste</td><td>SP</td><td>2020-04-12</td><td>336</td><td>8755</td><td>28</td><td>588</td></tr><tr><td>Sudeste</td><td>SP</td><td>2020-04-13</td><td>140</td><td>8895</td><td>20</td><td>608</td></tr><tr><td>Sudeste</td><td>SP</td><td>2020-04-14</td><td>476</td><td>9371</td><td>87</td><td>695</td></tr><tr><td>Sudeste</td><td>SP</td><td>2020-04-15</td><td>1672</td><td>11043</td><td>83</td><td>778</td></tr><tr><td>Sudeste</td><td>SP</td><td>2020-04-16</td><td>525</td><td>11568</td><td>75</td><td>853</td></tr><tr><td>Sudeste</td><td>SP</td><td>2020-04-17</td><td>1273</td><td>12841</td><td>75</td><td>928</td></tr><tr><td>Sudeste</td><td>SP</td><td>2020-04-18</td><td>1053</td><td>13894</td><td>63</td><td>991</td></tr><tr><td>Sudeste</td><td>SP</td><td>2020-04-19</td><td>373</td><td>14267</td><td>24</td><td>1015</td></tr><tr><td>Sudeste</td><td>SP</td><td>2020-04-20</td><td>313</td><td>14580</td><td>22</td><td>1037</td></tr><tr><td>Sudeste</td><td>SP</td><td>2020-04-21</td><td>805</td><td>15385</td><td>56</td><td>1093</td></tr><tr><td>Sudeste</td><td>SP</td><td>2020-04-22</td><td>529</td><td>15914</td><td>41</td><td>1134</td></tr><tr><td>Sudeste</td><td>SP</td><td>2020-04-23</td><td>826</td><td>16740</td><td>211</td><td>1345</td></tr><tr><td>Sudeste</td><td>SP</td><td>2020-04-24</td><td>1086</td><td>17826</td><td>167</td><td>1512</td></tr><tr><td>Sudeste</td><td>SP</td><td>2020-04-25</td><td>2178</td><td>20004</td><td>155</td><td>1667</td></tr></tbody></table></div>"
      ]
     },
     "metadata": {
      "application/vnd.databricks.v1+output": {
       "addedWidgets": {},
       "aggData": [],
       "aggError": "",
       "aggOverflow": false,
       "aggSchema": [],
       "aggSeriesLimitReached": false,
       "aggType": "",
       "arguments": {},
       "columnCustomDisplayInfos": {},
       "data": [
        [
         "Nordeste",
         "CE",
         "2020-01-30",
         0,
         0,
         0,
         0
        ],
        [
         "Nordeste",
         "CE",
         "2020-01-31",
         0,
         0,
         0,
         0
        ],
        [
         "Nordeste",
         "CE",
         "2020-02-01",
         0,
         0,
         0,
         0
        ],
        [
         "Nordeste",
         "CE",
         "2020-02-02",
         0,
         0,
         0,
         0
        ],
        [
         "Nordeste",
         "CE",
         "2020-02-03",
         0,
         0,
         0,
         0
        ],
        [
         "Nordeste",
         "CE",
         "2020-02-04",
         0,
         0,
         0,
         0
        ],
        [
         "Nordeste",
         "CE",
         "2020-02-05",
         0,
         0,
         0,
         0
        ],
        [
         "Nordeste",
         "CE",
         "2020-02-06",
         0,
         0,
         0,
         0
        ],
        [
         "Nordeste",
         "CE",
         "2020-02-07",
         0,
         0,
         0,
         0
        ],
        [
         "Nordeste",
         "CE",
         "2020-02-08",
         0,
         0,
         0,
         0
        ],
        [
         "Nordeste",
         "CE",
         "2020-02-09",
         0,
         0,
         0,
         0
        ],
        [
         "Nordeste",
         "CE",
         "2020-02-10",
         0,
         0,
         0,
         0
        ],
        [
         "Nordeste",
         "CE",
         "2020-02-11",
         0,
         0,
         0,
         0
        ],
        [
         "Nordeste",
         "CE",
         "2020-02-12",
         0,
         0,
         0,
         0
        ],
        [
         "Nordeste",
         "CE",
         "2020-02-13",
         0,
         0,
         0,
         0
        ],
        [
         "Nordeste",
         "CE",
         "2020-02-14",
         0,
         0,
         0,
         0
        ],
        [
         "Nordeste",
         "CE",
         "2020-02-15",
         0,
         0,
         0,
         0
        ],
        [
         "Nordeste",
         "CE",
         "2020-02-16",
         0,
         0,
         0,
         0
        ],
        [
         "Nordeste",
         "CE",
         "2020-02-17",
         0,
         0,
         0,
         0
        ],
        [
         "Nordeste",
         "CE",
         "2020-02-18",
         0,
         0,
         0,
         0
        ],
        [
         "Nordeste",
         "CE",
         "2020-02-19",
         0,
         0,
         0,
         0
        ],
        [
         "Nordeste",
         "CE",
         "2020-02-20",
         0,
         0,
         0,
         0
        ],
        [
         "Nordeste",
         "CE",
         "2020-02-21",
         0,
         0,
         0,
         0
        ],
        [
         "Nordeste",
         "CE",
         "2020-02-22",
         0,
         0,
         0,
         0
        ],
        [
         "Nordeste",
         "CE",
         "2020-02-23",
         0,
         0,
         0,
         0
        ],
        [
         "Nordeste",
         "CE",
         "2020-02-24",
         0,
         0,
         0,
         0
        ],
        [
         "Nordeste",
         "CE",
         "2020-02-25",
         0,
         0,
         0,
         0
        ],
        [
         "Nordeste",
         "CE",
         "2020-02-26",
         0,
         0,
         0,
         0
        ],
        [
         "Nordeste",
         "CE",
         "2020-02-27",
         0,
         0,
         0,
         0
        ],
        [
         "Nordeste",
         "CE",
         "2020-02-28",
         0,
         0,
         0,
         0
        ],
        [
         "Nordeste",
         "CE",
         "2020-02-29",
         0,
         0,
         0,
         0
        ],
        [
         "Nordeste",
         "CE",
         "2020-03-01",
         0,
         0,
         0,
         0
        ],
        [
         "Nordeste",
         "CE",
         "2020-03-02",
         0,
         0,
         0,
         0
        ],
        [
         "Nordeste",
         "CE",
         "2020-03-03",
         0,
         0,
         0,
         0
        ],
        [
         "Nordeste",
         "CE",
         "2020-03-04",
         0,
         0,
         0,
         0
        ],
        [
         "Nordeste",
         "CE",
         "2020-03-05",
         0,
         0,
         0,
         0
        ],
        [
         "Nordeste",
         "CE",
         "2020-03-06",
         0,
         0,
         0,
         0
        ],
        [
         "Nordeste",
         "CE",
         "2020-03-07",
         0,
         0,
         0,
         0
        ],
        [
         "Nordeste",
         "CE",
         "2020-03-08",
         0,
         0,
         0,
         0
        ],
        [
         "Nordeste",
         "CE",
         "2020-03-09",
         0,
         0,
         0,
         0
        ],
        [
         "Nordeste",
         "CE",
         "2020-03-10",
         0,
         0,
         0,
         0
        ],
        [
         "Nordeste",
         "CE",
         "2020-03-11",
         0,
         0,
         0,
         0
        ],
        [
         "Nordeste",
         "CE",
         "2020-03-12",
         0,
         0,
         0,
         0
        ],
        [
         "Nordeste",
         "CE",
         "2020-03-13",
         0,
         0,
         0,
         0
        ],
        [
         "Nordeste",
         "CE",
         "2020-03-14",
         0,
         0,
         0,
         0
        ],
        [
         "Nordeste",
         "CE",
         "2020-03-15",
         0,
         0,
         0,
         0
        ],
        [
         "Nordeste",
         "CE",
         "2020-03-16",
         0,
         0,
         0,
         0
        ],
        [
         "Nordeste",
         "CE",
         "2020-03-17",
         5,
         5,
         0,
         0
        ],
        [
         "Nordeste",
         "CE",
         "2020-03-18",
         4,
         9,
         0,
         0
        ],
        [
         "Nordeste",
         "CE",
         "2020-03-19",
         11,
         20,
         0,
         0
        ],
        [
         "Nordeste",
         "CE",
         "2020-03-20",
         35,
         55,
         0,
         0
        ],
        [
         "Nordeste",
         "CE",
         "2020-03-21",
         13,
         68,
         0,
         0
        ],
        [
         "Nordeste",
         "CE",
         "2020-03-22",
         44,
         112,
         0,
         0
        ],
        [
         "Nordeste",
         "CE",
         "2020-03-23",
         51,
         163,
         0,
         0
        ],
        [
         "Nordeste",
         "CE",
         "2020-03-24",
         19,
         182,
         0,
         0
        ],
        [
         "Nordeste",
         "CE",
         "2020-03-25",
         18,
         200,
         0,
         0
        ],
        [
         "Nordeste",
         "CE",
         "2020-03-26",
         35,
         235,
         3,
         3
        ],
        [
         "Nordeste",
         "CE",
         "2020-03-27",
         47,
         282,
         0,
         3
        ],
        [
         "Nordeste",
         "CE",
         "2020-03-28",
         32,
         314,
         1,
         4
        ],
        [
         "Nordeste",
         "CE",
         "2020-03-29",
         34,
         348,
         1,
         5
        ],
        [
         "Nordeste",
         "CE",
         "2020-03-30",
         24,
         372,
         0,
         5
        ],
        [
         "Nordeste",
         "CE",
         "2020-03-31",
         18,
         390,
         2,
         7
        ],
        [
         "Nordeste",
         "CE",
         "2020-04-01",
         54,
         444,
         1,
         8
        ],
        [
         "Nordeste",
         "CE",
         "2020-04-02",
         106,
         550,
         12,
         20
        ],
        [
         "Nordeste",
         "CE",
         "2020-04-03",
         77,
         627,
         2,
         22
        ],
        [
         "Nordeste",
         "CE",
         "2020-04-04",
         103,
         730,
         0,
         22
        ],
        [
         "Nordeste",
         "CE",
         "2020-04-05",
         93,
         823,
         4,
         26
        ],
        [
         "Nordeste",
         "CE",
         "2020-04-06",
         190,
         1013,
         3,
         29
        ],
        [
         "Nordeste",
         "CE",
         "2020-04-07",
         38,
         1051,
         2,
         31
        ],
        [
         "Nordeste",
         "CE",
         "2020-04-08",
         240,
         1291,
         12,
         43
        ],
        [
         "Nordeste",
         "CE",
         "2020-04-09",
         134,
         1425,
         12,
         55
        ],
        [
         "Nordeste",
         "CE",
         "2020-04-10",
         53,
         1478,
         3,
         58
        ],
        [
         "Nordeste",
         "CE",
         "2020-04-11",
         104,
         1582,
         9,
         67
        ],
        [
         "Nordeste",
         "CE",
         "2020-04-12",
         94,
         1676,
         7,
         74
        ],
        [
         "Nordeste",
         "CE",
         "2020-04-13",
         124,
         1800,
         17,
         91
        ],
        [
         "Nordeste",
         "CE",
         "2020-04-14",
         205,
         2005,
         16,
         107
        ],
        [
         "Nordeste",
         "CE",
         "2020-04-15",
         152,
         2157,
         9,
         116
        ],
        [
         "Nordeste",
         "CE",
         "2020-04-16",
         229,
         2386,
         8,
         124
        ],
        [
         "Nordeste",
         "CE",
         "2020-04-17",
         298,
         2684,
         25,
         149
        ],
        [
         "Nordeste",
         "CE",
         "2020-04-18",
         350,
         3034,
         27,
         176
        ],
        [
         "Nordeste",
         "CE",
         "2020-04-19",
         218,
         3252,
         10,
         186
        ],
        [
         "Nordeste",
         "CE",
         "2020-04-20",
         230,
         3482,
         12,
         198
        ],
        [
         "Nordeste",
         "CE",
         "2020-04-21",
         234,
         3716,
         17,
         215
        ],
        [
         "Nordeste",
         "CE",
         "2020-04-22",
         194,
         3910,
         18,
         233
        ],
        [
         "Nordeste",
         "CE",
         "2020-04-23",
         688,
         4598,
         33,
         266
        ],
        [
         "Nordeste",
         "CE",
         "2020-04-24",
         202,
         4800,
         18,
         284
        ],
        [
         "Nordeste",
         "CE",
         "2020-04-25",
         621,
         5421,
         26,
         310
        ],
        [
         "Sudeste",
         "SP",
         "2020-01-30",
         0,
         0,
         0,
         0
        ],
        [
         "Sudeste",
         "SP",
         "2020-01-31",
         0,
         0,
         0,
         0
        ],
        [
         "Sudeste",
         "SP",
         "2020-02-01",
         0,
         0,
         0,
         0
        ],
        [
         "Sudeste",
         "SP",
         "2020-02-02",
         0,
         0,
         0,
         0
        ],
        [
         "Sudeste",
         "SP",
         "2020-02-03",
         0,
         0,
         0,
         0
        ],
        [
         "Sudeste",
         "SP",
         "2020-02-04",
         0,
         0,
         0,
         0
        ],
        [
         "Sudeste",
         "SP",
         "2020-02-05",
         0,
         0,
         0,
         0
        ],
        [
         "Sudeste",
         "SP",
         "2020-02-06",
         0,
         0,
         0,
         0
        ],
        [
         "Sudeste",
         "SP",
         "2020-02-07",
         0,
         0,
         0,
         0
        ],
        [
         "Sudeste",
         "SP",
         "2020-02-08",
         0,
         0,
         0,
         0
        ],
        [
         "Sudeste",
         "SP",
         "2020-02-09",
         0,
         0,
         0,
         0
        ],
        [
         "Sudeste",
         "SP",
         "2020-02-10",
         0,
         0,
         0,
         0
        ],
        [
         "Sudeste",
         "SP",
         "2020-02-11",
         0,
         0,
         0,
         0
        ],
        [
         "Sudeste",
         "SP",
         "2020-02-12",
         0,
         0,
         0,
         0
        ],
        [
         "Sudeste",
         "SP",
         "2020-02-13",
         0,
         0,
         0,
         0
        ],
        [
         "Sudeste",
         "SP",
         "2020-02-14",
         0,
         0,
         0,
         0
        ],
        [
         "Sudeste",
         "SP",
         "2020-02-15",
         0,
         0,
         0,
         0
        ],
        [
         "Sudeste",
         "SP",
         "2020-02-16",
         0,
         0,
         0,
         0
        ],
        [
         "Sudeste",
         "SP",
         "2020-02-17",
         0,
         0,
         0,
         0
        ],
        [
         "Sudeste",
         "SP",
         "2020-02-18",
         0,
         0,
         0,
         0
        ],
        [
         "Sudeste",
         "SP",
         "2020-02-19",
         0,
         0,
         0,
         0
        ],
        [
         "Sudeste",
         "SP",
         "2020-02-20",
         0,
         0,
         0,
         0
        ],
        [
         "Sudeste",
         "SP",
         "2020-02-21",
         0,
         0,
         0,
         0
        ],
        [
         "Sudeste",
         "SP",
         "2020-02-22",
         0,
         0,
         0,
         0
        ],
        [
         "Sudeste",
         "SP",
         "2020-02-23",
         0,
         0,
         0,
         0
        ],
        [
         "Sudeste",
         "SP",
         "2020-02-24",
         0,
         0,
         0,
         0
        ],
        [
         "Sudeste",
         "SP",
         "2020-02-25",
         0,
         0,
         0,
         0
        ],
        [
         "Sudeste",
         "SP",
         "2020-02-26",
         1,
         1,
         0,
         0
        ],
        [
         "Sudeste",
         "SP",
         "2020-02-27",
         0,
         1,
         0,
         0
        ],
        [
         "Sudeste",
         "SP",
         "2020-02-28",
         0,
         1,
         0,
         0
        ],
        [
         "Sudeste",
         "SP",
         "2020-02-29",
         1,
         2,
         0,
         0
        ],
        [
         "Sudeste",
         "SP",
         "2020-03-01",
         0,
         2,
         0,
         0
        ],
        [
         "Sudeste",
         "SP",
         "2020-03-02",
         0,
         2,
         0,
         0
        ],
        [
         "Sudeste",
         "SP",
         "2020-03-03",
         0,
         2,
         0,
         0
        ],
        [
         "Sudeste",
         "SP",
         "2020-03-04",
         1,
         3,
         0,
         0
        ],
        [
         "Sudeste",
         "SP",
         "2020-03-05",
         3,
         6,
         0,
         0
        ],
        [
         "Sudeste",
         "SP",
         "2020-03-06",
         4,
         10,
         0,
         0
        ],
        [
         "Sudeste",
         "SP",
         "2020-03-07",
         3,
         13,
         0,
         0
        ],
        [
         "Sudeste",
         "SP",
         "2020-03-08",
         3,
         16,
         0,
         0
        ],
        [
         "Sudeste",
         "SP",
         "2020-03-09",
         0,
         16,
         0,
         0
        ],
        [
         "Sudeste",
         "SP",
         "2020-03-10",
         3,
         19,
         0,
         0
        ],
        [
         "Sudeste",
         "SP",
         "2020-03-11",
         11,
         30,
         0,
         0
        ],
        [
         "Sudeste",
         "SP",
         "2020-03-12",
         12,
         42,
         0,
         0
        ],
        [
         "Sudeste",
         "SP",
         "2020-03-13",
         14,
         56,
         0,
         0
        ],
        [
         "Sudeste",
         "SP",
         "2020-03-14",
         9,
         65,
         0,
         0
        ],
        [
         "Sudeste",
         "SP",
         "2020-03-15",
         71,
         136,
         0,
         0
        ],
        [
         "Sudeste",
         "SP",
         "2020-03-16",
         16,
         152,
         0,
         0
        ],
        [
         "Sudeste",
         "SP",
         "2020-03-17",
         12,
         164,
         1,
         1
        ],
        [
         "Sudeste",
         "SP",
         "2020-03-18",
         76,
         240,
         3,
         4
        ],
        [
         "Sudeste",
         "SP",
         "2020-03-19",
         46,
         286,
         0,
         4
        ],
        [
         "Sudeste",
         "SP",
         "2020-03-20",
         110,
         396,
         5,
         9
        ],
        [
         "Sudeste",
         "SP",
         "2020-03-21",
         63,
         459,
         6,
         15
        ],
        [
         "Sudeste",
         "SP",
         "2020-03-22",
         172,
         631,
         7,
         22
        ],
        [
         "Sudeste",
         "SP",
         "2020-03-23",
         114,
         745,
         8,
         30
        ],
        [
         "Sudeste",
         "SP",
         "2020-03-24",
         65,
         810,
         10,
         40
        ],
        [
         "Sudeste",
         "SP",
         "2020-03-25",
         52,
         862,
         8,
         48
        ],
        [
         "Sudeste",
         "SP",
         "2020-03-26",
         190,
         1052,
         10,
         58
        ],
        [
         "Sudeste",
         "SP",
         "2020-03-27",
         171,
         1223,
         10,
         68
        ],
        [
         "Sudeste",
         "SP",
         "2020-03-28",
         183,
         1406,
         16,
         84
        ],
        [
         "Sudeste",
         "SP",
         "2020-03-29",
         45,
         1451,
         14,
         98
        ],
        [
         "Sudeste",
         "SP",
         "2020-03-30",
         66,
         1517,
         15,
         113
        ],
        [
         "Sudeste",
         "SP",
         "2020-03-31",
         822,
         2339,
         23,
         136
        ],
        [
         "Sudeste",
         "SP",
         "2020-04-01",
         642,
         2981,
         28,
         164
        ],
        [
         "Sudeste",
         "SP",
         "2020-04-02",
         525,
         3506,
         24,
         188
        ],
        [
         "Sudeste",
         "SP",
         "2020-04-03",
         542,
         4048,
         31,
         219
        ],
        [
         "Sudeste",
         "SP",
         "2020-04-04",
         418,
         4466,
         41,
         260
        ],
        [
         "Sudeste",
         "SP",
         "2020-04-05",
         154,
         4620,
         15,
         275
        ],
        [
         "Sudeste",
         "SP",
         "2020-04-06",
         246,
         4866,
         29,
         304
        ],
        [
         "Sudeste",
         "SP",
         "2020-04-07",
         816,
         5682,
         67,
         371
        ],
        [
         "Sudeste",
         "SP",
         "2020-04-08",
         1026,
         6708,
         57,
         428
        ],
        [
         "Sudeste",
         "SP",
         "2020-04-09",
         772,
         7480,
         68,
         496
        ],
        [
         "Sudeste",
         "SP",
         "2020-04-10",
         736,
         8216,
         44,
         540
        ],
        [
         "Sudeste",
         "SP",
         "2020-04-11",
         203,
         8419,
         20,
         560
        ],
        [
         "Sudeste",
         "SP",
         "2020-04-12",
         336,
         8755,
         28,
         588
        ],
        [
         "Sudeste",
         "SP",
         "2020-04-13",
         140,
         8895,
         20,
         608
        ],
        [
         "Sudeste",
         "SP",
         "2020-04-14",
         476,
         9371,
         87,
         695
        ],
        [
         "Sudeste",
         "SP",
         "2020-04-15",
         1672,
         11043,
         83,
         778
        ],
        [
         "Sudeste",
         "SP",
         "2020-04-16",
         525,
         11568,
         75,
         853
        ],
        [
         "Sudeste",
         "SP",
         "2020-04-17",
         1273,
         12841,
         75,
         928
        ],
        [
         "Sudeste",
         "SP",
         "2020-04-18",
         1053,
         13894,
         63,
         991
        ],
        [
         "Sudeste",
         "SP",
         "2020-04-19",
         373,
         14267,
         24,
         1015
        ],
        [
         "Sudeste",
         "SP",
         "2020-04-20",
         313,
         14580,
         22,
         1037
        ],
        [
         "Sudeste",
         "SP",
         "2020-04-21",
         805,
         15385,
         56,
         1093
        ],
        [
         "Sudeste",
         "SP",
         "2020-04-22",
         529,
         15914,
         41,
         1134
        ],
        [
         "Sudeste",
         "SP",
         "2020-04-23",
         826,
         16740,
         211,
         1345
        ],
        [
         "Sudeste",
         "SP",
         "2020-04-24",
         1086,
         17826,
         167,
         1512
        ],
        [
         "Sudeste",
         "SP",
         "2020-04-25",
         2178,
         20004,
         155,
         1667
        ]
       ],
       "datasetInfos": [],
       "dbfsResultPath": null,
       "isJsonSchema": true,
       "metadata": {},
       "overflow": false,
       "plotOptions": {
        "customPlotOptions": {},
        "displayType": "table",
        "pivotAggregation": null,
        "pivotColumns": null,
        "xColumns": null,
        "yColumns": null
       },
       "removedWidgets": [],
       "schema": [
        {
         "metadata": "{}",
         "name": "regiao",
         "type": "\"string\""
        },
        {
         "metadata": "{}",
         "name": "estado",
         "type": "\"string\""
        },
        {
         "metadata": "{\"__detected_date_formats\":\"yyyy-M-d\"}",
         "name": "datasD",
         "type": "\"date\""
        },
        {
         "metadata": "{}",
         "name": "casosNovos",
         "type": "\"integer\""
        },
        {
         "metadata": "{}",
         "name": "casosAcumulados",
         "type": "\"integer\""
        },
        {
         "metadata": "{}",
         "name": "obitosNovos",
         "type": "\"integer\""
        },
        {
         "metadata": "{}",
         "name": "obitosAcumulados",
         "type": "\"integer\""
        }
       ],
       "type": "table"
      }
     },
     "output_type": "display_data"
    }
   ],
   "source": [
    "%sql\n",
    "select * from tabela as t\n",
    "where t.estado in ('SP','CE') ;"
   ]
  },
  {
   "cell_type": "code",
   "execution_count": 0,
   "metadata": {
    "application/vnd.databricks.v1+cell": {
     "cellMetadata": {
      "byteLimit": 2048000,
      "implicitDf": true,
      "rowLimit": 10000
     },
     "inputWidgets": {},
     "nuid": "28317efb-d44e-415e-a52b-f0d520075730",
     "showTitle": false,
     "title": ""
    }
   },
   "outputs": [
    {
     "output_type": "display_data",
     "data": {
      "text/html": [
       "<style scoped>\n",
       "  .table-result-container {\n",
       "    max-height: 300px;\n",
       "    overflow: auto;\n",
       "  }\n",
       "  table, th, td {\n",
       "    border: 1px solid black;\n",
       "    border-collapse: collapse;\n",
       "  }\n",
       "  th, td {\n",
       "    padding: 5px;\n",
       "  }\n",
       "  th {\n",
       "    text-align: left;\n",
       "  }\n",
       "</style><div class='table-result-container'><table class='table-result'><thead style='background-color: white'><tr><th>estado</th></tr></thead><tbody><tr><td>SC</td></tr><tr><td>RO</td></tr><tr><td>PI</td></tr><tr><td>AM</td></tr><tr><td>RR</td></tr><tr><td>GO</td></tr><tr><td>TO</td></tr><tr><td>MT</td></tr><tr><td>SP</td></tr><tr><td>PB</td></tr><tr><td>ES</td></tr><tr><td>RS</td></tr><tr><td>MS</td></tr><tr><td>AL</td></tr><tr><td>MG</td></tr><tr><td>PA</td></tr><tr><td>BA</td></tr><tr><td>SE</td></tr><tr><td>PE</td></tr><tr><td>CE</td></tr><tr><td>RN</td></tr><tr><td>RJ</td></tr><tr><td>MA</td></tr><tr><td>AC</td></tr><tr><td>DF</td></tr><tr><td>PR</td></tr><tr><td>AP</td></tr></tbody></table></div>"
      ]
     },
     "metadata": {
      "application/vnd.databricks.v1+output": {
       "addedWidgets": {},
       "aggData": [],
       "aggError": "",
       "aggOverflow": false,
       "aggSchema": [],
       "aggSeriesLimitReached": false,
       "aggType": "",
       "arguments": {},
       "columnCustomDisplayInfos": {},
       "data": [
        [
         "SC"
        ],
        [
         "RO"
        ],
        [
         "PI"
        ],
        [
         "AM"
        ],
        [
         "RR"
        ],
        [
         "GO"
        ],
        [
         "TO"
        ],
        [
         "MT"
        ],
        [
         "SP"
        ],
        [
         "PB"
        ],
        [
         "ES"
        ],
        [
         "RS"
        ],
        [
         "MS"
        ],
        [
         "AL"
        ],
        [
         "MG"
        ],
        [
         "PA"
        ],
        [
         "BA"
        ],
        [
         "SE"
        ],
        [
         "PE"
        ],
        [
         "CE"
        ],
        [
         "RN"
        ],
        [
         "RJ"
        ],
        [
         "MA"
        ],
        [
         "AC"
        ],
        [
         "DF"
        ],
        [
         "PR"
        ],
        [
         "AP"
        ]
       ],
       "datasetInfos": [],
       "dbfsResultPath": null,
       "isJsonSchema": true,
       "metadata": {},
       "overflow": false,
       "plotOptions": {
        "customPlotOptions": {},
        "displayType": "table",
        "pivotAggregation": null,
        "pivotColumns": null,
        "xColumns": null,
        "yColumns": null
       },
       "removedWidgets": [],
       "schema": [
        {
         "metadata": "{}",
         "name": "estado",
         "type": "\"string\""
        }
       ],
       "type": "table"
      }
     },
     "output_type": "display_data"
    }
   ],
   "source": [
    "%sql\n",
    "select distinct(t.estado) from tabela as t;"
   ]
  },
  {
   "cell_type": "code",
   "execution_count": 0,
   "metadata": {
    "application/vnd.databricks.v1+cell": {
     "cellMetadata": {
      "byteLimit": 2048000,
      "rowLimit": 10000
     },
     "inputWidgets": {},
     "nuid": "742435b6-88eb-42cc-9e50-a1d8439b15d2",
     "showTitle": false,
     "title": ""
    }
   },
   "outputs": [
    {
     "output_type": "display_data",
     "data": {
      "text/html": [
       "<style scoped>\n",
       "  .table-result-container {\n",
       "    max-height: 300px;\n",
       "    overflow: auto;\n",
       "  }\n",
       "  table, th, td {\n",
       "    border: 1px solid black;\n",
       "    border-collapse: collapse;\n",
       "  }\n",
       "  th, td {\n",
       "    padding: 5px;\n",
       "  }\n",
       "  th {\n",
       "    text-align: left;\n",
       "  }\n",
       "</style><div class='table-result-container'><table class='table-result'><thead style='background-color: white'><tr><th>path</th><th>name</th><th>size</th><th>modificationTime</th></tr></thead><tbody><tr><td>dbfs:/FileStore/tables/Aprendendo.sql</td><td>Aprendendo.sql</td><td>744</td><td>1711065486000</td></tr><tr><td>dbfs:/FileStore/tables/arquivo_geral-1.csv</td><td>arquivo_geral-1.csv</td><td>73827</td><td>1710894662000</td></tr><tr><td>dbfs:/FileStore/tables/arquivo_geral-2.csv</td><td>arquivo_geral-2.csv</td><td>73827</td><td>1710965983000</td></tr><tr><td>dbfs:/FileStore/tables/arquivo_geral-3.csv</td><td>arquivo_geral-3.csv</td><td>73827</td><td>1710979980000</td></tr><tr><td>dbfs:/FileStore/tables/arquivo_geral-4.csv</td><td>arquivo_geral-4.csv</td><td>73827</td><td>1711042031000</td></tr><tr><td>dbfs:/FileStore/tables/arquivo_geral-5.csv</td><td>arquivo_geral-5.csv</td><td>73827</td><td>1711042984000</td></tr><tr><td>dbfs:/FileStore/tables/arquivo_geral-6.csv</td><td>arquivo_geral-6.csv</td><td>73827</td><td>1711065497000</td></tr><tr><td>dbfs:/FileStore/tables/arquivo_geral-7.csv</td><td>arquivo_geral-7.csv</td><td>73827</td><td>1711110472000</td></tr><tr><td>dbfs:/FileStore/tables/arquivo_geral.csv</td><td>arquivo_geral.csv</td><td>73827</td><td>1710894427000</td></tr><tr><td>dbfs:/FileStore/tables/diabetes_prediction_dataset.csv</td><td>diabetes_prediction_dataset.csv</td><td>3810356</td><td>1698521796000</td></tr></tbody></table></div>"
      ]
     },
     "metadata": {
      "application/vnd.databricks.v1+output": {
       "addedWidgets": {},
       "aggData": [],
       "aggError": "",
       "aggOverflow": false,
       "aggSchema": [],
       "aggSeriesLimitReached": false,
       "aggType": "",
       "arguments": {},
       "columnCustomDisplayInfos": {},
       "data": [
        [
         "dbfs:/FileStore/tables/Aprendendo.sql",
         "Aprendendo.sql",
         744,
         1711065486000
        ],
        [
         "dbfs:/FileStore/tables/arquivo_geral-1.csv",
         "arquivo_geral-1.csv",
         73827,
         1710894662000
        ],
        [
         "dbfs:/FileStore/tables/arquivo_geral-2.csv",
         "arquivo_geral-2.csv",
         73827,
         1710965983000
        ],
        [
         "dbfs:/FileStore/tables/arquivo_geral-3.csv",
         "arquivo_geral-3.csv",
         73827,
         1710979980000
        ],
        [
         "dbfs:/FileStore/tables/arquivo_geral-4.csv",
         "arquivo_geral-4.csv",
         73827,
         1711042031000
        ],
        [
         "dbfs:/FileStore/tables/arquivo_geral-5.csv",
         "arquivo_geral-5.csv",
         73827,
         1711042984000
        ],
        [
         "dbfs:/FileStore/tables/arquivo_geral-6.csv",
         "arquivo_geral-6.csv",
         73827,
         1711065497000
        ],
        [
         "dbfs:/FileStore/tables/arquivo_geral-7.csv",
         "arquivo_geral-7.csv",
         73827,
         1711110472000
        ],
        [
         "dbfs:/FileStore/tables/arquivo_geral.csv",
         "arquivo_geral.csv",
         73827,
         1710894427000
        ],
        [
         "dbfs:/FileStore/tables/diabetes_prediction_dataset.csv",
         "diabetes_prediction_dataset.csv",
         3810356,
         1698521796000
        ]
       ],
       "datasetInfos": [],
       "dbfsResultPath": null,
       "isJsonSchema": true,
       "metadata": {
        "isDbfsCommandResult": false
       },
       "overflow": false,
       "plotOptions": {
        "customPlotOptions": {},
        "displayType": "table",
        "pivotAggregation": null,
        "pivotColumns": null,
        "xColumns": null,
        "yColumns": null
       },
       "removedWidgets": [],
       "schema": [
        {
         "metadata": "{}",
         "name": "path",
         "type": "\"string\""
        },
        {
         "metadata": "{}",
         "name": "name",
         "type": "\"string\""
        },
        {
         "metadata": "{}",
         "name": "size",
         "type": "\"long\""
        },
        {
         "metadata": "{}",
         "name": "modificationTime",
         "type": "\"long\""
        }
       ],
       "type": "table"
      }
     },
     "output_type": "display_data"
    }
   ],
   "source": [
    "%fs ls \"FileStore/tables/\""
   ]
  },
  {
   "cell_type": "markdown",
   "metadata": {
    "application/vnd.databricks.v1+cell": {
     "cellMetadata": {},
     "inputWidgets": {},
     "nuid": "40477967-49bd-457d-8a60-82a316eb6e8f",
     "showTitle": false,
     "title": ""
    }
   },
   "source": [
    "## Joins"
   ]
  },
  {
   "cell_type": "code",
   "execution_count": 0,
   "metadata": {
    "application/vnd.databricks.v1+cell": {
     "cellMetadata": {
      "byteLimit": 2048000,
      "rowLimit": 10000
     },
     "inputWidgets": {},
     "nuid": "72a1b66c-0a44-42ee-919d-ddd496341c37",
     "showTitle": false,
     "title": ""
    }
   },
   "outputs": [],
   "source": [
    "data = [\n",
    "    (1, \"Anderson\", 10000),\n",
    "    (2, \"Kenedy\", 20000),\n",
    "    (3, \"Billy\", 23000),\n",
    "    (4, \"Andy\", 23000),\n",
    "    (5, \"Mary\", 24000),\n",
    "    (6, \"Eduardo\", 19000),\n",
    "    (7, \"Mendes\", 15000),\n",
    "    (8, \"Keyth\", 18000),\n",
    "    (9, \"Truman\", 21000),\n",
    "]\n",
    "\n",
    "schema = [\"id\", \"name\", \"salary\"]\n",
    "df1 = spark.createDataFrame(data=data, schema=schema)\n",
    "\n",
    "data = [\n",
    "    (1, \"Delhi\", \"India\"),\n",
    "    (2, \"Tamil nadu\", \"India\"),\n",
    "    (3, \"London\", \"UK\"),\n",
    "    (4, \"Sydney\", \"Australia\"),\n",
    "    (8, \"New York\", \"USA\"),\n",
    "    (9, \"California\", \"USA\"),\n",
    "    (10, \"New Jersey\", \"USA\"),\n",
    "    (11, \"Texas\", \"USA\"),\n",
    "    (12, \"Chicago\", \"USA\"),\n",
    "]\n",
    "\n",
    "schema = [\"id\", \"place\", \"country\"]\n",
    "df2 = spark.createDataFrame(data=data, schema=schema)\n",
    "\n",
    "\n",
    "df1.createOrReplaceTempView('tabelaI')\n",
    "df2.createOrReplaceTempView('tabelaII')"
   ]
  },
  {
   "cell_type": "code",
   "execution_count": 0,
   "metadata": {
    "application/vnd.databricks.v1+cell": {
     "cellMetadata": {
      "byteLimit": 2048000,
      "implicitDf": true,
      "rowLimit": 10000
     },
     "inputWidgets": {},
     "nuid": "b016f5a9-0cf4-49fa-903d-1cde2ee0f239",
     "showTitle": false,
     "title": ""
    }
   },
   "outputs": [
    {
     "output_type": "display_data",
     "data": {
      "text/html": [
       "<style scoped>\n",
       "  .table-result-container {\n",
       "    max-height: 300px;\n",
       "    overflow: auto;\n",
       "  }\n",
       "  table, th, td {\n",
       "    border: 1px solid black;\n",
       "    border-collapse: collapse;\n",
       "  }\n",
       "  th, td {\n",
       "    padding: 5px;\n",
       "  }\n",
       "  th {\n",
       "    text-align: left;\n",
       "  }\n",
       "</style><div class='table-result-container'><table class='table-result'><thead style='background-color: white'><tr><th>id</th><th>name</th><th>salary</th></tr></thead><tbody><tr><td>1</td><td>Anderson</td><td>10000</td></tr><tr><td>2</td><td>Kenedy</td><td>20000</td></tr></tbody></table></div>"
      ]
     },
     "metadata": {
      "application/vnd.databricks.v1+output": {
       "addedWidgets": {},
       "aggData": [],
       "aggError": "",
       "aggOverflow": false,
       "aggSchema": [],
       "aggSeriesLimitReached": false,
       "aggType": "",
       "arguments": {},
       "columnCustomDisplayInfos": {},
       "data": [
        [
         1,
         "Anderson",
         10000
        ],
        [
         2,
         "Kenedy",
         20000
        ]
       ],
       "datasetInfos": [],
       "dbfsResultPath": null,
       "isJsonSchema": true,
       "metadata": {},
       "overflow": false,
       "plotOptions": {
        "customPlotOptions": {},
        "displayType": "table",
        "pivotAggregation": null,
        "pivotColumns": null,
        "xColumns": null,
        "yColumns": null
       },
       "removedWidgets": [],
       "schema": [
        {
         "metadata": "{}",
         "name": "id",
         "type": "\"long\""
        },
        {
         "metadata": "{}",
         "name": "name",
         "type": "\"string\""
        },
        {
         "metadata": "{}",
         "name": "salary",
         "type": "\"long\""
        }
       ],
       "type": "table"
      }
     },
     "output_type": "display_data"
    }
   ],
   "source": [
    "%sql\n",
    "select * from tabelaI limit 2;"
   ]
  },
  {
   "cell_type": "code",
   "execution_count": 0,
   "metadata": {
    "application/vnd.databricks.v1+cell": {
     "cellMetadata": {
      "byteLimit": 2048000,
      "implicitDf": true,
      "rowLimit": 10000
     },
     "inputWidgets": {},
     "nuid": "12721903-0146-4aef-8b2f-3739129e25ab",
     "showTitle": false,
     "title": ""
    }
   },
   "outputs": [
    {
     "output_type": "display_data",
     "data": {
      "text/html": [
       "<style scoped>\n",
       "  .table-result-container {\n",
       "    max-height: 300px;\n",
       "    overflow: auto;\n",
       "  }\n",
       "  table, th, td {\n",
       "    border: 1px solid black;\n",
       "    border-collapse: collapse;\n",
       "  }\n",
       "  th, td {\n",
       "    padding: 5px;\n",
       "  }\n",
       "  th {\n",
       "    text-align: left;\n",
       "  }\n",
       "</style><div class='table-result-container'><table class='table-result'><thead style='background-color: white'><tr><th>id</th><th>place</th><th>country</th></tr></thead><tbody><tr><td>1</td><td>Delhi</td><td>India</td></tr><tr><td>2</td><td>Tamil nadu</td><td>India</td></tr></tbody></table></div>"
      ]
     },
     "metadata": {
      "application/vnd.databricks.v1+output": {
       "addedWidgets": {},
       "aggData": [],
       "aggError": "",
       "aggOverflow": false,
       "aggSchema": [],
       "aggSeriesLimitReached": false,
       "aggType": "",
       "arguments": {},
       "columnCustomDisplayInfos": {},
       "data": [
        [
         1,
         "Delhi",
         "India"
        ],
        [
         2,
         "Tamil nadu",
         "India"
        ]
       ],
       "datasetInfos": [],
       "dbfsResultPath": null,
       "isJsonSchema": true,
       "metadata": {},
       "overflow": false,
       "plotOptions": {
        "customPlotOptions": {},
        "displayType": "table",
        "pivotAggregation": null,
        "pivotColumns": null,
        "xColumns": null,
        "yColumns": null
       },
       "removedWidgets": [],
       "schema": [
        {
         "metadata": "{}",
         "name": "id",
         "type": "\"long\""
        },
        {
         "metadata": "{}",
         "name": "place",
         "type": "\"string\""
        },
        {
         "metadata": "{}",
         "name": "country",
         "type": "\"string\""
        }
       ],
       "type": "table"
      }
     },
     "output_type": "display_data"
    }
   ],
   "source": [
    "%sql\n",
    "select * from tabelaII limit 2;"
   ]
  },
  {
   "cell_type": "code",
   "execution_count": 0,
   "metadata": {
    "application/vnd.databricks.v1+cell": {
     "cellMetadata": {
      "byteLimit": 2048000,
      "implicitDf": true,
      "rowLimit": 10000
     },
     "inputWidgets": {},
     "nuid": "15c50861-503a-48fb-82c4-0f41983fea93",
     "showTitle": false,
     "title": ""
    }
   },
   "outputs": [
    {
     "output_type": "display_data",
     "data": {
      "text/html": [
       "<style scoped>\n",
       "  .table-result-container {\n",
       "    max-height: 300px;\n",
       "    overflow: auto;\n",
       "  }\n",
       "  table, th, td {\n",
       "    border: 1px solid black;\n",
       "    border-collapse: collapse;\n",
       "  }\n",
       "  th, td {\n",
       "    padding: 5px;\n",
       "  }\n",
       "  th {\n",
       "    text-align: left;\n",
       "  }\n",
       "</style><div class='table-result-container'><table class='table-result'><thead style='background-color: white'><tr><th>id</th><th>name</th><th>salary</th><th>id</th><th>place</th><th>country</th></tr></thead><tbody><tr><td>1</td><td>Anderson</td><td>10000</td><td>1</td><td>Delhi</td><td>India</td></tr><tr><td>2</td><td>Kenedy</td><td>20000</td><td>2</td><td>Tamil nadu</td><td>India</td></tr><tr><td>3</td><td>Billy</td><td>23000</td><td>3</td><td>London</td><td>UK</td></tr><tr><td>4</td><td>Andy</td><td>23000</td><td>4</td><td>Sydney</td><td>Australia</td></tr><tr><td>8</td><td>Keyth</td><td>18000</td><td>8</td><td>New York</td><td>USA</td></tr><tr><td>9</td><td>Truman</td><td>21000</td><td>9</td><td>California</td><td>USA</td></tr></tbody></table></div>"
      ]
     },
     "metadata": {
      "application/vnd.databricks.v1+output": {
       "addedWidgets": {},
       "aggData": [],
       "aggError": "",
       "aggOverflow": false,
       "aggSchema": [],
       "aggSeriesLimitReached": false,
       "aggType": "",
       "arguments": {},
       "columnCustomDisplayInfos": {},
       "data": [
        [
         1,
         "Anderson",
         10000,
         1,
         "Delhi",
         "India"
        ],
        [
         2,
         "Kenedy",
         20000,
         2,
         "Tamil nadu",
         "India"
        ],
        [
         3,
         "Billy",
         23000,
         3,
         "London",
         "UK"
        ],
        [
         4,
         "Andy",
         23000,
         4,
         "Sydney",
         "Australia"
        ],
        [
         8,
         "Keyth",
         18000,
         8,
         "New York",
         "USA"
        ],
        [
         9,
         "Truman",
         21000,
         9,
         "California",
         "USA"
        ]
       ],
       "datasetInfos": [],
       "dbfsResultPath": null,
       "isJsonSchema": true,
       "metadata": {},
       "overflow": false,
       "plotOptions": {
        "customPlotOptions": {},
        "displayType": "table",
        "pivotAggregation": null,
        "pivotColumns": null,
        "xColumns": null,
        "yColumns": null
       },
       "removedWidgets": [],
       "schema": [
        {
         "metadata": "{}",
         "name": "id",
         "type": "\"long\""
        },
        {
         "metadata": "{}",
         "name": "name",
         "type": "\"string\""
        },
        {
         "metadata": "{}",
         "name": "salary",
         "type": "\"long\""
        },
        {
         "metadata": "{}",
         "name": "id",
         "type": "\"long\""
        },
        {
         "metadata": "{}",
         "name": "place",
         "type": "\"string\""
        },
        {
         "metadata": "{}",
         "name": "country",
         "type": "\"string\""
        }
       ],
       "type": "table"
      }
     },
     "output_type": "display_data"
    }
   ],
   "source": [
    "%sql\n",
    "select * from tabelaI as t1\n",
    "inner join tabelaII  as t2\n",
    "on t1.id = t2.id;"
   ]
  },
  {
   "cell_type": "code",
   "execution_count": 0,
   "metadata": {
    "application/vnd.databricks.v1+cell": {
     "cellMetadata": {
      "byteLimit": 2048000,
      "implicitDf": true,
      "rowLimit": 10000
     },
     "inputWidgets": {},
     "nuid": "01d504a1-e1d8-4d50-b525-9e5c08663dd1",
     "showTitle": false,
     "title": ""
    }
   },
   "outputs": [
    {
     "output_type": "display_data",
     "data": {
      "text/html": [
       "<style scoped>\n",
       "  .table-result-container {\n",
       "    max-height: 300px;\n",
       "    overflow: auto;\n",
       "  }\n",
       "  table, th, td {\n",
       "    border: 1px solid black;\n",
       "    border-collapse: collapse;\n",
       "  }\n",
       "  th, td {\n",
       "    padding: 5px;\n",
       "  }\n",
       "  th {\n",
       "    text-align: left;\n",
       "  }\n",
       "</style><div class='table-result-container'><table class='table-result'><thead style='background-color: white'><tr><th>id</th><th>name</th><th>salary</th><th>id</th><th>place</th><th>country</th></tr></thead><tbody><tr><td>5</td><td>Mary</td><td>24000</td><td>null</td><td>null</td><td>null</td></tr><tr><td>6</td><td>Eduardo</td><td>19000</td><td>null</td><td>null</td><td>null</td></tr><tr><td>7</td><td>Mendes</td><td>15000</td><td>null</td><td>null</td><td>null</td></tr></tbody></table></div>"
      ]
     },
     "metadata": {
      "application/vnd.databricks.v1+output": {
       "addedWidgets": {},
       "aggData": [],
       "aggError": "",
       "aggOverflow": false,
       "aggSchema": [],
       "aggSeriesLimitReached": false,
       "aggType": "",
       "arguments": {},
       "columnCustomDisplayInfos": {},
       "data": [
        [
         5,
         "Mary",
         24000,
         null,
         null,
         null
        ],
        [
         6,
         "Eduardo",
         19000,
         null,
         null,
         null
        ],
        [
         7,
         "Mendes",
         15000,
         null,
         null,
         null
        ]
       ],
       "datasetInfos": [],
       "dbfsResultPath": null,
       "isJsonSchema": true,
       "metadata": {},
       "overflow": false,
       "plotOptions": {
        "customPlotOptions": {},
        "displayType": "table",
        "pivotAggregation": null,
        "pivotColumns": null,
        "xColumns": null,
        "yColumns": null
       },
       "removedWidgets": [],
       "schema": [
        {
         "metadata": "{}",
         "name": "id",
         "type": "\"long\""
        },
        {
         "metadata": "{}",
         "name": "name",
         "type": "\"string\""
        },
        {
         "metadata": "{}",
         "name": "salary",
         "type": "\"long\""
        },
        {
         "metadata": "{}",
         "name": "id",
         "type": "\"long\""
        },
        {
         "metadata": "{}",
         "name": "place",
         "type": "\"string\""
        },
        {
         "metadata": "{}",
         "name": "country",
         "type": "\"string\""
        }
       ],
       "type": "table"
      }
     },
     "output_type": "display_data"
    }
   ],
   "source": [
    "%sql\n",
    "select * from tabelaI as t1\n",
    "left join tabelaII  as t2\n",
    "on t1.id = t2.id\n",
    "where t2.id is null;"
   ]
  },
  {
   "cell_type": "code",
   "execution_count": 0,
   "metadata": {
    "application/vnd.databricks.v1+cell": {
     "cellMetadata": {
      "byteLimit": 2048000,
      "implicitDf": true,
      "rowLimit": 10000
     },
     "inputWidgets": {},
     "nuid": "93e60c86-876a-4920-9f5d-50b2bcdb0610",
     "showTitle": false,
     "title": ""
    }
   },
   "outputs": [
    {
     "output_type": "display_data",
     "data": {
      "text/html": [
       "<style scoped>\n",
       "  .table-result-container {\n",
       "    max-height: 300px;\n",
       "    overflow: auto;\n",
       "  }\n",
       "  table, th, td {\n",
       "    border: 1px solid black;\n",
       "    border-collapse: collapse;\n",
       "  }\n",
       "  th, td {\n",
       "    padding: 5px;\n",
       "  }\n",
       "  th {\n",
       "    text-align: left;\n",
       "  }\n",
       "</style><div class='table-result-container'><table class='table-result'><thead style='background-color: white'><tr><th>id</th><th>place</th><th>country</th></tr></thead><tbody><tr><td>1</td><td>Delhi</td><td>India</td></tr><tr><td>2</td><td>Tamil nadu</td><td>India</td></tr><tr><td>3</td><td>London</td><td>UK</td></tr><tr><td>4</td><td>Sydney</td><td>Australia</td></tr><tr><td>8</td><td>New York</td><td>USA</td></tr><tr><td>9</td><td>California</td><td>USA</td></tr><tr><td>10</td><td>New Jersey</td><td>USA</td></tr><tr><td>11</td><td>Texas</td><td>USA</td></tr><tr><td>12</td><td>Chicago</td><td>USA</td></tr></tbody></table></div>"
      ]
     },
     "metadata": {
      "application/vnd.databricks.v1+output": {
       "addedWidgets": {},
       "aggData": [],
       "aggError": "",
       "aggOverflow": false,
       "aggSchema": [],
       "aggSeriesLimitReached": false,
       "aggType": "",
       "arguments": {},
       "columnCustomDisplayInfos": {},
       "data": [
        [
         1,
         "Delhi",
         "India"
        ],
        [
         2,
         "Tamil nadu",
         "India"
        ],
        [
         3,
         "London",
         "UK"
        ],
        [
         4,
         "Sydney",
         "Australia"
        ],
        [
         8,
         "New York",
         "USA"
        ],
        [
         9,
         "California",
         "USA"
        ],
        [
         10,
         "New Jersey",
         "USA"
        ],
        [
         11,
         "Texas",
         "USA"
        ],
        [
         12,
         "Chicago",
         "USA"
        ]
       ],
       "datasetInfos": [],
       "dbfsResultPath": null,
       "isJsonSchema": true,
       "metadata": {},
       "overflow": false,
       "plotOptions": {
        "customPlotOptions": {},
        "displayType": "table",
        "pivotAggregation": null,
        "pivotColumns": null,
        "xColumns": null,
        "yColumns": null
       },
       "removedWidgets": [],
       "schema": [
        {
         "metadata": "{}",
         "name": "id",
         "type": "\"long\""
        },
        {
         "metadata": "{}",
         "name": "place",
         "type": "\"string\""
        },
        {
         "metadata": "{}",
         "name": "country",
         "type": "\"string\""
        }
       ],
       "type": "table"
      }
     },
     "output_type": "display_data"
    }
   ],
   "source": [
    "%sql \n",
    "select * from tabelaII;"
   ]
  },
  {
   "cell_type": "code",
   "execution_count": 0,
   "metadata": {
    "application/vnd.databricks.v1+cell": {
     "cellMetadata": {
      "byteLimit": 2048000,
      "implicitDf": true,
      "rowLimit": 10000
     },
     "inputWidgets": {},
     "nuid": "acb85b7c-88e0-43af-b2c9-b572c5424041",
     "showTitle": false,
     "title": ""
    }
   },
   "outputs": [
    {
     "output_type": "display_data",
     "data": {
      "text/html": [
       "<style scoped>\n",
       "  .table-result-container {\n",
       "    max-height: 300px;\n",
       "    overflow: auto;\n",
       "  }\n",
       "  table, th, td {\n",
       "    border: 1px solid black;\n",
       "    border-collapse: collapse;\n",
       "  }\n",
       "  th, td {\n",
       "    padding: 5px;\n",
       "  }\n",
       "  th {\n",
       "    text-align: left;\n",
       "  }\n",
       "</style><div class='table-result-container'><table class='table-result'><thead style='background-color: white'><tr><th>id</th><th>country</th><th>colunaIndiano</th></tr></thead><tbody><tr><td>1</td><td>India</td><td>indiano</td></tr><tr><td>2</td><td>India</td><td>indiano</td></tr><tr><td>3</td><td>UK</td><td>não indiano</td></tr><tr><td>4</td><td>Australia</td><td>não indiano</td></tr><tr><td>8</td><td>USA</td><td>não indiano</td></tr><tr><td>9</td><td>USA</td><td>não indiano</td></tr><tr><td>10</td><td>USA</td><td>não indiano</td></tr><tr><td>11</td><td>USA</td><td>não indiano</td></tr><tr><td>12</td><td>USA</td><td>não indiano</td></tr></tbody></table></div>"
      ]
     },
     "metadata": {
      "application/vnd.databricks.v1+output": {
       "addedWidgets": {},
       "aggData": [],
       "aggError": "",
       "aggOverflow": false,
       "aggSchema": [],
       "aggSeriesLimitReached": false,
       "aggType": "",
       "arguments": {},
       "columnCustomDisplayInfos": {},
       "data": [
        [
         1,
         "India",
         "indiano"
        ],
        [
         2,
         "India",
         "indiano"
        ],
        [
         3,
         "UK",
         "não indiano"
        ],
        [
         4,
         "Australia",
         "não indiano"
        ],
        [
         8,
         "USA",
         "não indiano"
        ],
        [
         9,
         "USA",
         "não indiano"
        ],
        [
         10,
         "USA",
         "não indiano"
        ],
        [
         11,
         "USA",
         "não indiano"
        ],
        [
         12,
         "USA",
         "não indiano"
        ]
       ],
       "datasetInfos": [],
       "dbfsResultPath": null,
       "isJsonSchema": true,
       "metadata": {},
       "overflow": false,
       "plotOptions": {
        "customPlotOptions": {},
        "displayType": "table",
        "pivotAggregation": null,
        "pivotColumns": null,
        "xColumns": null,
        "yColumns": null
       },
       "removedWidgets": [],
       "schema": [
        {
         "metadata": "{}",
         "name": "id",
         "type": "\"long\""
        },
        {
         "metadata": "{}",
         "name": "country",
         "type": "\"string\""
        },
        {
         "metadata": "{}",
         "name": "colunaIndiano",
         "type": "\"string\""
        }
       ],
       "type": "table"
      }
     },
     "output_type": "display_data"
    }
   ],
   "source": [
    "%sql\n",
    "select id,country,\n",
    "case \n",
    "    when country = 'India' then 'indiano'\n",
    "    else 'não indiano'\n",
    "end as colunaIndiano\n",
    "from tabelaII;"
   ]
  }
 ],
 "metadata": {
  "application/vnd.databricks.v1+notebook": {
   "dashboards": [],
   "language": "python",
   "notebookMetadata": {
    "mostRecentlyExecutedCommandWithImplicitDF": {
     "commandId": 4289587084512576,
     "dataframes": [
      "_sqldf"
     ]
    },
    "pythonIndentUnit": 4
   },
   "notebookName": "SparkSql",
   "widgets": {}
  }
 },
 "nbformat": 4,
 "nbformat_minor": 0
}
