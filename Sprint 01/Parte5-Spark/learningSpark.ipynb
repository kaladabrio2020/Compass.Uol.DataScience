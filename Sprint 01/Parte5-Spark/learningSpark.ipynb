{
 "cells": [
  {
   "cell_type": "code",
   "execution_count": 8,
   "metadata": {},
   "outputs": [
    {
     "data": {
      "text/html": [
       "\n",
       "            <div>\n",
       "                <p><b>SparkSession - in-memory</b></p>\n",
       "                \n",
       "        <div>\n",
       "            <p><b>SparkContext</b></p>\n",
       "\n",
       "            <p><a href=\"http://fedorahome:4041\">Spark UI</a></p>\n",
       "\n",
       "            <dl>\n",
       "              <dt>Version</dt>\n",
       "                <dd><code>v3.5.1</code></dd>\n",
       "              <dt>Master</dt>\n",
       "                <dd><code>local</code></dd>\n",
       "              <dt>AppName</dt>\n",
       "                <dd><code>AprendendoSpark</code></dd>\n",
       "            </dl>\n",
       "        </div>\n",
       "        \n",
       "            </div>\n",
       "        "
      ],
      "text/plain": [
       "<pyspark.sql.session.SparkSession at 0x7fd792140cd0>"
      ]
     },
     "execution_count": 8,
     "metadata": {},
     "output_type": "execute_result"
    }
   ],
   "source": [
    "import pyspark\n",
    "from   pyspark.sql import SparkSession, dataframe\n",
    "from   pyspark.sql import functions as f\n",
    "\n",
    "spark:SparkSession = (\n",
    "    SparkSession.builder.master(\"local\")\n",
    "    .appName('AprendendoSpark')             \n",
    "    .getOrCreate()\n",
    "    )\n",
    "spark"
   ]
  },
  {
   "cell_type": "code",
   "execution_count": 23,
   "metadata": {},
   "outputs": [
    {
     "name": "stdout",
     "output_type": "stream",
     "text": [
      "+------+------+----------+----------+---------------+-----------+----------------+\n",
      "|regiao|estado|      data|casosNovos|casosAcumulados|obitosNovos|obitosAcumulados|\n",
      "+------+------+----------+----------+---------------+-----------+----------------+\n",
      "| Norte|    RO|2020-01-30|         0|              0|          0|               0|\n",
      "| Norte|    RO|2020-01-31|         0|              0|          0|               0|\n",
      "| Norte|    RO|2020-02-01|         0|              0|          0|               0|\n",
      "+------+------+----------+----------+---------------+-----------+----------------+\n",
      "only showing top 3 rows\n",
      "\n"
     ]
    }
   ],
   "source": [
    "data = (\n",
    "    spark.read\n",
    "    .format(\"csv\")\n",
    "    .option('header',\"True\")\n",
    "    .option('inferschema','True')\n",
    "    .option(\"delimiter\",';')\n",
    "    .load('dataset/arquivo_geral.csv')\n",
    ")\n",
    "data.show(3)"
   ]
  },
  {
   "cell_type": "code",
   "execution_count": 29,
   "metadata": {},
   "outputs": [
    {
     "name": "stdout",
     "output_type": "stream",
     "text": [
      "+----------------------------------------------+\n",
      "|count(CASE WHEN (estado = RO) THEN estado END)|\n",
      "+----------------------------------------------+\n",
      "|                                            87|\n",
      "+----------------------------------------------+\n",
      "\n"
     ]
    }
   ],
   "source": [
    "data.select(\n",
    "    f.count(\n",
    "        f.when( f.col('estado') == 'RO',f.col('estado'))\n",
    "    )\n",
    ").show()"
   ]
  },
  {
   "cell_type": "code",
   "execution_count": 51,
   "metadata": {},
   "outputs": [
    {
     "name": "stdout",
     "output_type": "stream",
     "text": [
      "+------+-----+\n",
      "|estado|count|\n",
      "+------+-----+\n",
      "|    RO|   87|\n",
      "+------+-----+\n",
      "\n"
     ]
    }
   ],
   "source": [
    "data.select( \n",
    "    f.col('estado')\n",
    "    )\\\n",
    "    .groupBy( f.col('estado') )\\\n",
    "    .count()\\\n",
    "    .where(f.col('estado')=='RO').show()"
   ]
  },
  {
   "cell_type": "code",
   "execution_count": 47,
   "metadata": {},
   "outputs": [
    {
     "name": "stdout",
     "output_type": "stream",
     "text": [
      "+------+-------------+\n",
      "|estado|count(estado)|\n",
      "+------+-------------+\n",
      "|    RO|           87|\n",
      "+------+-------------+\n",
      "\n"
     ]
    }
   ],
   "source": [
    "data.createOrReplaceTempView('a')\n",
    "spark.sql(\n",
    "    '''\n",
    "select estado, count(estado) from a\n",
    "group by estado\n",
    "having estado = 'RO'\n",
    "'''\n",
    ").show()"
   ]
  }
 ],
 "metadata": {
  "kernelspec": {
   "display_name": "venvGlobal",
   "language": "python",
   "name": "python3"
  },
  "language_info": {
   "codemirror_mode": {
    "name": "ipython",
    "version": 3
   },
   "file_extension": ".py",
   "mimetype": "text/x-python",
   "name": "python",
   "nbconvert_exporter": "python",
   "pygments_lexer": "ipython3",
   "version": "3.11.8"
  }
 },
 "nbformat": 4,
 "nbformat_minor": 2
}
