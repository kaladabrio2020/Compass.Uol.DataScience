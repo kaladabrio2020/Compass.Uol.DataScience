{
 "cells": [
  {
   "cell_type": "code",
   "execution_count": 18,
   "metadata": {},
   "outputs": [],
   "source": [
    "import pyspark\n",
    "from   pyspark.sql import SparkSession ,dataframe\n",
    "from   pyspark.sql import functions as f\n",
    "spark:SparkSession = (\n",
    "    SparkSession.builder.master(\"local\")\n",
    "    .appName('AprendendoSpark')             \n",
    "    .getOrCreate()\n",
    "    )\n",
    "spark\n",
    "data:dataframe = (\n",
    "    spark.read\n",
    "    .format(\"csv\")\n",
    "    .option('header',\"True\")\n",
    "    .option('inferschema','True')\n",
    "    .option(\"delimiter\",';')\n",
    "    .load('dataset/arquivo_geral.csv')\n",
    ")\n",
    "data = data.withColumnRenamed('data','datasD')\n",
    "\n",
    "data.createOrReplaceTempView('tabela')"
   ]
  },
  {
   "cell_type": "code",
   "execution_count": 20,
   "metadata": {},
   "outputs": [],
   "source": [
    "tabela1 = spark.sql(\n",
    "    'select * from tabela limit 10'\n",
    ")"
   ]
  },
  {
   "cell_type": "code",
   "execution_count": 21,
   "metadata": {},
   "outputs": [
    {
     "name": "stdout",
     "output_type": "stream",
     "text": [
      "+------+------+----------+----------+---------------+-----------+----------------+\n",
      "|regiao|estado|    datasD|casosNovos|casosAcumulados|obitosNovos|obitosAcumulados|\n",
      "+------+------+----------+----------+---------------+-----------+----------------+\n",
      "| Norte|    RO|2020-01-30|         0|              0|          0|               0|\n",
      "| Norte|    RO|2020-01-31|         0|              0|          0|               0|\n",
      "| Norte|    RO|2020-02-01|         0|              0|          0|               0|\n",
      "| Norte|    RO|2020-02-02|         0|              0|          0|               0|\n",
      "| Norte|    RO|2020-02-03|         0|              0|          0|               0|\n",
      "| Norte|    RO|2020-02-04|         0|              0|          0|               0|\n",
      "| Norte|    RO|2020-02-05|         0|              0|          0|               0|\n",
      "| Norte|    RO|2020-02-06|         0|              0|          0|               0|\n",
      "| Norte|    RO|2020-02-07|         0|              0|          0|               0|\n",
      "| Norte|    RO|2020-02-08|         0|              0|          0|               0|\n",
      "+------+------+----------+----------+---------------+-----------+----------------+\n",
      "\n"
     ]
    }
   ],
   "source": [
    "tabela1.show()"
   ]
  },
  {
   "cell_type": "code",
   "execution_count": 22,
   "metadata": {},
   "outputs": [
    {
     "data": {
      "text/plain": [
       "1.25"
      ]
     },
     "execution_count": 22,
     "metadata": {},
     "output_type": "execute_result"
    }
   ],
   "source": [
    "5/4"
   ]
  },
  {
   "cell_type": "markdown",
   "metadata": {},
   "source": []
  }
 ],
 "metadata": {
  "kernelspec": {
   "display_name": "venvGlobal",
   "language": "python",
   "name": "python3"
  },
  "language_info": {
   "codemirror_mode": {
    "name": "ipython",
    "version": 3
   },
   "file_extension": ".py",
   "mimetype": "text/x-python",
   "name": "python",
   "nbconvert_exporter": "python",
   "pygments_lexer": "ipython3",
   "version": "3.11.8"
  }
 },
 "nbformat": 4,
 "nbformat_minor": 2
}
