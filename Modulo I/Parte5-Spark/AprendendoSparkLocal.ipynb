{
 "cells": [
  {
   "cell_type": "code",
   "execution_count": 2,
   "metadata": {},
   "outputs": [],
   "source": [
    "import pyspark\n",
    "from   pyspark.sql import SparkSession, dataframe\n",
    "from   pyspark.sql import functions as F"
   ]
  },
  {
   "cell_type": "markdown",
   "metadata": {},
   "source": [
    "### Criando Seção Spark"
   ]
  },
  {
   "cell_type": "code",
   "execution_count": 3,
   "metadata": {},
   "outputs": [
    {
     "name": "stderr",
     "output_type": "stream",
     "text": [
      "Setting default log level to \"WARN\".\n",
      "To adjust logging level use sc.setLogLevel(newLevel). For SparkR, use setLogLevel(newLevel).\n",
      "24/03/20 18:35:51 WARN NativeCodeLoader: Unable to load native-hadoop library for your platform... using builtin-java classes where applicable\n"
     ]
    },
    {
     "data": {
      "text/html": [
       "\n",
       "            <div>\n",
       "                <p><b>SparkSession - in-memory</b></p>\n",
       "                \n",
       "        <div>\n",
       "            <p><b>SparkContext</b></p>\n",
       "\n",
       "            <p><a href=\"http://fedorahome:4040\">Spark UI</a></p>\n",
       "\n",
       "            <dl>\n",
       "              <dt>Version</dt>\n",
       "                <dd><code>v3.5.1</code></dd>\n",
       "              <dt>Master</dt>\n",
       "                <dd><code>local</code></dd>\n",
       "              <dt>AppName</dt>\n",
       "                <dd><code>AprendendoSpark</code></dd>\n",
       "            </dl>\n",
       "        </div>\n",
       "        \n",
       "            </div>\n",
       "        "
      ],
      "text/plain": [
       "<pyspark.sql.session.SparkSession at 0x7fe654350ed0>"
      ]
     },
     "execution_count": 3,
     "metadata": {},
     "output_type": "execute_result"
    }
   ],
   "source": [
    "spark:SparkSession = (\n",
    "    SparkSession.builder.master(\"local\")\n",
    "    .appName('AprendendoSpark')             \n",
    "    .getOrCreate()\n",
    "    )\n",
    "spark"
   ]
  },
  {
   "cell_type": "markdown",
   "metadata": {},
   "source": [
    "#### Lendo Csv"
   ]
  },
  {
   "cell_type": "code",
   "execution_count": 4,
   "metadata": {},
   "outputs": [],
   "source": [
    "data:dataframe = (\n",
    "    spark.read\n",
    "    .format(\"csv\")\n",
    "    .option('header',\"True\")\n",
    "    .option('inferschema','True')\n",
    "    .option(\"delimiter\",';')\n",
    "    .load('dataset/arquivo_geral.csv')\n",
    "    )"
   ]
  },
  {
   "cell_type": "code",
   "execution_count": 5,
   "metadata": {},
   "outputs": [
    {
     "name": "stdout",
     "output_type": "stream",
     "text": [
      "+------+------+----------+----------+---------------+-----------+----------------+\n",
      "|regiao|estado|      data|casosNovos|casosAcumulados|obitosNovos|obitosAcumulados|\n",
      "+------+------+----------+----------+---------------+-----------+----------------+\n",
      "| Norte|    RO|2020-01-30|         0|              0|          0|               0|\n",
      "| Norte|    RO|2020-01-31|         0|              0|          0|               0|\n",
      "| Norte|    RO|2020-02-01|         0|              0|          0|               0|\n",
      "+------+------+----------+----------+---------------+-----------+----------------+\n",
      "only showing top 3 rows\n",
      "\n"
     ]
    }
   ],
   "source": [
    "data.show(3)"
   ]
  },
  {
   "cell_type": "code",
   "execution_count": 6,
   "metadata": {},
   "outputs": [
    {
     "name": "stdout",
     "output_type": "stream",
     "text": [
      "root\n",
      " |-- regiao: string (nullable = true)\n",
      " |-- estado: string (nullable = true)\n",
      " |-- data: date (nullable = true)\n",
      " |-- casosNovos: integer (nullable = true)\n",
      " |-- casosAcumulados: integer (nullable = true)\n",
      " |-- obitosNovos: integer (nullable = true)\n",
      " |-- obitosAcumulados: integer (nullable = true)\n",
      "\n"
     ]
    }
   ],
   "source": [
    "#### me informa o tipo das colunas\n",
    "data.printSchema()"
   ]
  },
  {
   "cell_type": "markdown",
   "metadata": {},
   "source": [
    "#### select"
   ]
  },
  {
   "cell_type": "code",
   "execution_count": 7,
   "metadata": {},
   "outputs": [
    {
     "name": "stdout",
     "output_type": "stream",
     "text": [
      "+---------------+------+----------+\n",
      "|casosAcumulados|regiao|      data|\n",
      "+---------------+------+----------+\n",
      "|              0| Norte|2020-01-30|\n",
      "|              0| Norte|2020-01-31|\n",
      "|              0| Norte|2020-02-01|\n",
      "+---------------+------+----------+\n",
      "only showing top 3 rows\n",
      "\n"
     ]
    }
   ],
   "source": [
    "data.select('casosAcumulados','regiao','data').show(3)"
   ]
  },
  {
   "cell_type": "markdown",
   "metadata": {},
   "source": [
    "### filter"
   ]
  },
  {
   "cell_type": "code",
   "execution_count": 8,
   "metadata": {},
   "outputs": [
    {
     "name": "stdout",
     "output_type": "stream",
     "text": [
      "+---------------+------+----------+\n",
      "|casosAcumulados|regiao|      data|\n",
      "+---------------+------+----------+\n",
      "|              3| Norte|2020-03-22|\n",
      "|              3| Norte|2020-03-23|\n",
      "|              3| Norte|2020-03-24|\n",
      "+---------------+------+----------+\n",
      "only showing top 3 rows\n",
      "\n"
     ]
    }
   ],
   "source": [
    "data.select('casosAcumulados','regiao','data')\\\n",
    "    .filter(\n",
    "            (F.col(\"regiao\")==\"Norte\") &\n",
    "            (F.col('casosAcumulados') > 1)\n",
    "    ).show(3)"
   ]
  },
  {
   "cell_type": "code",
   "execution_count": 9,
   "metadata": {},
   "outputs": [
    {
     "name": "stdout",
     "output_type": "stream",
     "text": [
      "+---------------+------+----------+\n",
      "|casosAcumulados|regiao|      data|\n",
      "+---------------+------+----------+\n",
      "|              0| Norte|2020-01-30|\n",
      "|              0| Norte|2020-01-31|\n",
      "|              0| Norte|2020-02-01|\n",
      "+---------------+------+----------+\n",
      "only showing top 3 rows\n",
      "\n"
     ]
    }
   ],
   "source": [
    "data.select('casosAcumulados','regiao','data')\\\n",
    "    .filter(data[\"regiao\"] == \"Norte\").show(3)"
   ]
  },
  {
   "cell_type": "code",
   "execution_count": 10,
   "metadata": {},
   "outputs": [
    {
     "name": "stdout",
     "output_type": "stream",
     "text": [
      "+---------------+------+----------+\n",
      "|casosAcumulados|regiao|      data|\n",
      "+---------------+------+----------+\n",
      "|              0| Norte|2020-01-30|\n",
      "|              0| Norte|2020-01-31|\n",
      "|              0| Norte|2020-02-01|\n",
      "+---------------+------+----------+\n",
      "only showing top 3 rows\n",
      "\n"
     ]
    }
   ],
   "source": [
    "# melhor usar essa opção\n",
    "data.select('casosAcumulados','regiao','data')\\\n",
    "    .filter(\"regiao = 'Norte'\").show(3)"
   ]
  },
  {
   "cell_type": "markdown",
   "metadata": {},
   "source": [
    "> Depende de qual\n",
    ">    * mais pratico"
   ]
  },
  {
   "cell_type": "code",
   "execution_count": 11,
   "metadata": {},
   "outputs": [
    {
     "name": "stdout",
     "output_type": "stream",
     "text": [
      "+---------------+-------+----------+\n",
      "|casosAcumulados| regiao|      data|\n",
      "+---------------+-------+----------+\n",
      "|              2|Sudeste|2020-03-13|\n",
      "|              2|Sudeste|2020-03-14|\n",
      "|              2|Sudeste|2020-03-15|\n",
      "|              5|Sudeste|2020-03-16|\n",
      "|              7|Sudeste|2020-03-17|\n",
      "|             15|Sudeste|2020-03-18|\n",
      "|             29|Sudeste|2020-03-19|\n",
      "|             35|Sudeste|2020-03-20|\n",
      "|             38|Sudeste|2020-03-21|\n",
      "|             83|Sudeste|2020-03-22|\n",
      "+---------------+-------+----------+\n",
      "only showing top 10 rows\n",
      "\n"
     ]
    }
   ],
   "source": [
    "# melhor usar essa opção\n",
    "data.select('casosAcumulados','regiao','data')\\\n",
    "    .filter(\"regiao like 'S%' and casosAcumulados > 1 \").show(10)"
   ]
  },
  {
   "cell_type": "code",
   "execution_count": 12,
   "metadata": {},
   "outputs": [
    {
     "name": "stdout",
     "output_type": "stream",
     "text": [
      "+-------+------+----------+----------+---------------+-----------+----------------+\n",
      "| regiao|estado|      data|casosNovos|casosAcumulados|obitosNovos|obitosAcumulados|\n",
      "+-------+------+----------+----------+---------------+-----------+----------------+\n",
      "|Sudeste|    MG|2020-01-30|         0|              0|          0|               0|\n",
      "|Sudeste|    MG|2020-01-31|         0|              0|          0|               0|\n",
      "|Sudeste|    MG|2020-02-01|         0|              0|          0|               0|\n",
      "|Sudeste|    MG|2020-02-02|         0|              0|          0|               0|\n",
      "+-------+------+----------+----------+---------------+-----------+----------------+\n",
      "only showing top 4 rows\n",
      "\n"
     ]
    }
   ],
   "source": [
    "data.filter(\n",
    "    (F.col('regiao').isin(*['Sul','Sudeste'])) & (F.col(\"estado\")== 'MG')).show(4)"
   ]
  },
  {
   "cell_type": "code",
   "execution_count": 13,
   "metadata": {},
   "outputs": [
    {
     "name": "stdout",
     "output_type": "stream",
     "text": [
      "+-------+------+----------+----------+---------------+-----------+----------------+\n",
      "| regiao|estado|      data|casosNovos|casosAcumulados|obitosNovos|obitosAcumulados|\n",
      "+-------+------+----------+----------+---------------+-----------+----------------+\n",
      "|Sudeste|    MG|2020-01-30|         0|              0|          0|               0|\n",
      "|Sudeste|    MG|2020-01-31|         0|              0|          0|               0|\n",
      "|Sudeste|    MG|2020-02-01|         0|              0|          0|               0|\n",
      "|Sudeste|    MG|2020-02-02|         0|              0|          0|               0|\n",
      "+-------+------+----------+----------+---------------+-----------+----------------+\n",
      "only showing top 4 rows\n",
      "\n"
     ]
    }
   ],
   "source": [
    "data.filter(\n",
    "    (F.col('regiao').isin(*['Sul','Sudeste'])) & (F.col(\"estado\").like('M%'))).show(4)"
   ]
  },
  {
   "cell_type": "code",
   "execution_count": 14,
   "metadata": {},
   "outputs": [
    {
     "data": {
      "text/plain": [
       "2349"
      ]
     },
     "execution_count": 14,
     "metadata": {},
     "output_type": "execute_result"
    }
   ],
   "source": [
    "data.count()"
   ]
  },
  {
   "cell_type": "markdown",
   "metadata": {},
   "source": [
    "&nbsp;"
   ]
  },
  {
   "cell_type": "markdown",
   "metadata": {},
   "source": [
    "#### Adicionar novas colunas"
   ]
  },
  {
   "cell_type": "code",
   "execution_count": 15,
   "metadata": {},
   "outputs": [
    {
     "name": "stdout",
     "output_type": "stream",
     "text": [
      "+------+------+----------+----------+---------------+-----------+----------------+-----+\n",
      "|regiao|estado|      data|casosNovos|casosAcumulados|obitosNovos|obitosAcumulados|Total|\n",
      "+------+------+----------+----------+---------------+-----------+----------------+-----+\n",
      "| Norte|    RO|2020-01-30|         0|              0|          0|               0|    0|\n",
      "| Norte|    RO|2020-01-31|         0|              0|          0|               0|    0|\n",
      "| Norte|    RO|2020-02-01|         0|              0|          0|               0|    0|\n",
      "+------+------+----------+----------+---------------+-----------+----------------+-----+\n",
      "only showing top 3 rows\n",
      "\n"
     ]
    }
   ],
   "source": [
    "# adcionado nova coluna\n",
    "data.select('*').withColumn('Total',\n",
    "        F.col('casosNovos')+F.col('casosAcumulados')\n",
    "    ).show(3)"
   ]
  },
  {
   "cell_type": "code",
   "execution_count": 16,
   "metadata": {},
   "outputs": [
    {
     "name": "stdout",
     "output_type": "stream",
     "text": [
      "+------+------+----------+----------+---------------+-----------+----------------+-------+\n",
      "|regiao|estado|      data|casosNovos|casosAcumulados|obitosNovos|obitosAcumulados| Status|\n",
      "+------+------+----------+----------+---------------+-----------+----------------+-------+\n",
      "| Norte|    RO|2020-01-30|         0|              0|          0|               0|Não tem|\n",
      "| Norte|    RO|2020-01-31|         0|              0|          0|               0|Não tem|\n",
      "| Norte|    RO|2020-02-01|         0|              0|          0|               0|Não tem|\n",
      "+------+------+----------+----------+---------------+-----------+----------------+-------+\n",
      "only showing top 3 rows\n",
      "\n"
     ]
    }
   ],
   "source": [
    "data.withColumn('Status',\n",
    "                F.when(F.col('casosNovos') > 0, 'Tem Novos Casos')\\\n",
    "                .otherwise('Não tem')).show(3)"
   ]
  },
  {
   "cell_type": "code",
   "execution_count": 17,
   "metadata": {},
   "outputs": [
    {
     "name": "stdout",
     "output_type": "stream",
     "text": [
      "+----------+---+---+----+\n",
      "|      data|dia|mes| ano|\n",
      "+----------+---+---+----+\n",
      "|2020-01-30|  3| 01|2020|\n",
      "|2020-01-31|  3| 01|2020|\n",
      "+----------+---+---+----+\n",
      "only showing top 2 rows\n",
      "\n"
     ]
    }
   ],
   "source": [
    "data.select('data').\\\n",
    "     withColumn('dia',F.substring('data',9,1).cast('integer'))\\\n",
    "    .withColumn('mes',F.substring('data',6,2).cast('string'))\\\n",
    "    .withColumn('ano',F.substring('data',1,4).cast('integer')).show(2)"
   ]
  },
  {
   "cell_type": "code",
   "execution_count": 18,
   "metadata": {},
   "outputs": [],
   "source": [
    "data:dataframe = (\n",
    "    spark.read\n",
    "    .format(\"csv\")\n",
    "    .option('header',\"False\")\n",
    "    .option('inferschema','True')\n",
    "    .option(\"delimiter\",';')\n",
    "    .load('dataset/arquivo_geral.csv')\n",
    "    )"
   ]
  },
  {
   "cell_type": "code",
   "execution_count": 19,
   "metadata": {},
   "outputs": [
    {
     "name": "stdout",
     "output_type": "stream",
     "text": [
      "root\n",
      " |-- _c0: string (nullable = true)\n",
      " |-- _c1: string (nullable = true)\n",
      " |-- _c2: string (nullable = true)\n",
      " |-- _c3: string (nullable = true)\n",
      " |-- _c4: string (nullable = true)\n",
      " |-- _c5: string (nullable = true)\n",
      " |-- _c6: string (nullable = true)\n",
      "\n"
     ]
    }
   ],
   "source": [
    "data.printSchema()"
   ]
  },
  {
   "cell_type": "code",
   "execution_count": 20,
   "metadata": {},
   "outputs": [
    {
     "data": {
      "text/plain": [
       "Row(_c0='regiao', _c1='estado', _c2='data', _c3='casosNovos', _c4='casosAcumulados', _c5='obitosNovos', _c6='obitosAcumulados')"
      ]
     },
     "execution_count": 20,
     "metadata": {},
     "output_type": "execute_result"
    }
   ],
   "source": [
    "data.head()"
   ]
  },
  {
   "cell_type": "code",
   "execution_count": 21,
   "metadata": {},
   "outputs": [
    {
     "data": {
      "text/plain": [
       "DataFrame[_c0: string, _c1: string, _c2: string, _c3: string, _c4: string, _c5: string, _c6: string]"
      ]
     },
     "metadata": {},
     "output_type": "display_data"
    }
   ],
   "source": [
    "display(data)"
   ]
  },
  {
   "cell_type": "code",
   "execution_count": 22,
   "metadata": {},
   "outputs": [
    {
     "name": "stdout",
     "output_type": "stream",
     "text": [
      "+------+------+----------+----------+---------------+-----------+----------------+\n",
      "|   _c0|   _c1|       _c2|       _c3|            _c4|        _c5|             _c6|\n",
      "+------+------+----------+----------+---------------+-----------+----------------+\n",
      "|regiao|estado|      data|casosNovos|casosAcumulados|obitosNovos|obitosAcumulados|\n",
      "| Norte|    RO|2020-01-30|         0|              0|          0|               0|\n",
      "+------+------+----------+----------+---------------+-----------+----------------+\n",
      "only showing top 2 rows\n",
      "\n"
     ]
    }
   ],
   "source": [
    "data.show(2)"
   ]
  },
  {
   "cell_type": "markdown",
   "metadata": {},
   "source": [
    "&nbsp;"
   ]
  },
  {
   "cell_type": "markdown",
   "metadata": {},
   "source": [
    "# Particionamento de dados"
   ]
  },
  {
   "cell_type": "code",
   "execution_count": 24,
   "metadata": {},
   "outputs": [
    {
     "data": {
      "text/plain": [
       "ParallelCollectionRDD[78] at readRDDFromFile at PythonRDD.scala:289"
      ]
     },
     "execution_count": 24,
     "metadata": {},
     "output_type": "execute_result"
    }
   ],
   "source": [
    "data = [1,2,3,4,5,6,7,8]\n",
    "spark.sparkContext.parallelize(data)"
   ]
  },
  {
   "cell_type": "code",
   "execution_count": null,
   "metadata": {},
   "outputs": [],
   "source": []
  }
 ],
 "metadata": {
  "kernelspec": {
   "display_name": "venvGlobal",
   "language": "python",
   "name": "python3"
  },
  "language_info": {
   "codemirror_mode": {
    "name": "ipython",
    "version": 3
   },
   "file_extension": ".py",
   "mimetype": "text/x-python",
   "name": "python",
   "nbconvert_exporter": "python",
   "pygments_lexer": "ipython3",
   "version": "3.11.8"
  }
 },
 "nbformat": 4,
 "nbformat_minor": 2
}
