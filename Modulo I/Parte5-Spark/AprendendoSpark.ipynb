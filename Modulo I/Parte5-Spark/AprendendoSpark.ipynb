{
 "cells": [
  {
   "cell_type": "code",
   "execution_count": 38,
   "metadata": {},
   "outputs": [],
   "source": [
    "import pyspark\n",
    "from   pyspark.sql import SparkSession, dataframe\n",
    "from   pyspark.sql import functions as F"
   ]
  },
  {
   "cell_type": "markdown",
   "metadata": {},
   "source": [
    "### Criando Seção Spark"
   ]
  },
  {
   "cell_type": "code",
   "execution_count": 3,
   "metadata": {},
   "outputs": [
    {
     "name": "stderr",
     "output_type": "stream",
     "text": [
      "Setting default log level to \"WARN\".\n",
      "To adjust logging level use sc.setLogLevel(newLevel). For SparkR, use setLogLevel(newLevel).\n",
      "24/03/19 20:51:41 WARN NativeCodeLoader: Unable to load native-hadoop library for your platform... using builtin-java classes where applicable\n",
      "24/03/19 20:51:42 WARN Utils: Service 'SparkUI' could not bind on port 4040. Attempting port 4041.\n"
     ]
    },
    {
     "data": {
      "text/html": [
       "\n",
       "            <div>\n",
       "                <p><b>SparkSession - in-memory</b></p>\n",
       "                \n",
       "        <div>\n",
       "            <p><b>SparkContext</b></p>\n",
       "\n",
       "            <p><a href=\"http://fedorahome:4041\">Spark UI</a></p>\n",
       "\n",
       "            <dl>\n",
       "              <dt>Version</dt>\n",
       "                <dd><code>v3.5.1</code></dd>\n",
       "              <dt>Master</dt>\n",
       "                <dd><code>local</code></dd>\n",
       "              <dt>AppName</dt>\n",
       "                <dd><code>AprendendoSpark</code></dd>\n",
       "            </dl>\n",
       "        </div>\n",
       "        \n",
       "            </div>\n",
       "        "
      ],
      "text/plain": [
       "<pyspark.sql.session.SparkSession at 0x7f9170736590>"
      ]
     },
     "execution_count": 3,
     "metadata": {},
     "output_type": "execute_result"
    }
   ],
   "source": [
    "spark = (\n",
    "    SparkSession.builder.master(\"local\")\n",
    "    .appName('AprendendoSpark')             \n",
    "    .getOrCreate()\n",
    "    )\n",
    "spark"
   ]
  },
  {
   "cell_type": "markdown",
   "metadata": {},
   "source": [
    "#### Lendo Csv"
   ]
  },
  {
   "cell_type": "code",
   "execution_count": 83,
   "metadata": {},
   "outputs": [],
   "source": [
    "data:dataframe = (\n",
    "    spark.read\n",
    "    .format(\"csv\")\n",
    "    .option('header',\"True\")\n",
    "    .option('inferschema','True')\n",
    "    .option(\"delimiter\",';')\n",
    "    .load('dataset/arquivo_geral.csv')\n",
    "    )"
   ]
  },
  {
   "cell_type": "code",
   "execution_count": 84,
   "metadata": {},
   "outputs": [
    {
     "name": "stdout",
     "output_type": "stream",
     "text": [
      "+------+------+----------+----------+---------------+-----------+----------------+\n",
      "|regiao|estado|      data|casosNovos|casosAcumulados|obitosNovos|obitosAcumulados|\n",
      "+------+------+----------+----------+---------------+-----------+----------------+\n",
      "| Norte|    RO|2020-01-30|         0|              0|          0|               0|\n",
      "| Norte|    RO|2020-01-31|         0|              0|          0|               0|\n",
      "| Norte|    RO|2020-02-01|         0|              0|          0|               0|\n",
      "+------+------+----------+----------+---------------+-----------+----------------+\n",
      "only showing top 3 rows\n",
      "\n"
     ]
    }
   ],
   "source": [
    "data.show(3)"
   ]
  },
  {
   "cell_type": "code",
   "execution_count": 85,
   "metadata": {},
   "outputs": [
    {
     "name": "stdout",
     "output_type": "stream",
     "text": [
      "root\n",
      " |-- regiao: string (nullable = true)\n",
      " |-- estado: string (nullable = true)\n",
      " |-- data: date (nullable = true)\n",
      " |-- casosNovos: integer (nullable = true)\n",
      " |-- casosAcumulados: integer (nullable = true)\n",
      " |-- obitosNovos: integer (nullable = true)\n",
      " |-- obitosAcumulados: integer (nullable = true)\n",
      "\n"
     ]
    }
   ],
   "source": [
    "#### me informa o tipo das colunas\n",
    "data.printSchema()"
   ]
  },
  {
   "cell_type": "markdown",
   "metadata": {},
   "source": [
    "#### select"
   ]
  },
  {
   "cell_type": "code",
   "execution_count": 29,
   "metadata": {},
   "outputs": [
    {
     "name": "stdout",
     "output_type": "stream",
     "text": [
      "+---------------+------+----------+\n",
      "|casosAcumulados|regiao|      data|\n",
      "+---------------+------+----------+\n",
      "|              0| Norte|2020-01-30|\n",
      "|              0| Norte|2020-01-31|\n",
      "|              0| Norte|2020-02-01|\n",
      "+---------------+------+----------+\n",
      "only showing top 3 rows\n",
      "\n"
     ]
    }
   ],
   "source": [
    "data.select('casosAcumulados','regiao','data').show(3)"
   ]
  },
  {
   "cell_type": "markdown",
   "metadata": {},
   "source": [
    "### filter"
   ]
  },
  {
   "cell_type": "code",
   "execution_count": 39,
   "metadata": {},
   "outputs": [
    {
     "name": "stdout",
     "output_type": "stream",
     "text": [
      "+---------------+------+----------+\n",
      "|casosAcumulados|regiao|      data|\n",
      "+---------------+------+----------+\n",
      "|              0| Norte|2020-01-30|\n",
      "|              0| Norte|2020-01-31|\n",
      "|              0| Norte|2020-02-01|\n",
      "+---------------+------+----------+\n",
      "only showing top 3 rows\n",
      "\n"
     ]
    }
   ],
   "source": [
    "data.select('casosAcumulados','regiao','data').filter(F.col(\"regiao\")==\"Norte\").show(3)"
   ]
  },
  {
   "cell_type": "code",
   "execution_count": 53,
   "metadata": {},
   "outputs": [
    {
     "name": "stdout",
     "output_type": "stream",
     "text": [
      "+---------------+------+----------+\n",
      "|casosAcumulados|regiao|      data|\n",
      "+---------------+------+----------+\n",
      "|              0| Norte|2020-01-30|\n",
      "|              0| Norte|2020-01-31|\n",
      "|              0| Norte|2020-02-01|\n",
      "+---------------+------+----------+\n",
      "only showing top 3 rows\n",
      "\n"
     ]
    }
   ],
   "source": [
    "data.select('casosAcumulados','regiao','data')\\\n",
    "    .filter(data[\"regiao\"] == \"Norte\").show(3)"
   ]
  },
  {
   "cell_type": "code",
   "execution_count": 55,
   "metadata": {},
   "outputs": [
    {
     "name": "stdout",
     "output_type": "stream",
     "text": [
      "+---------------+------+----------+\n",
      "|casosAcumulados|regiao|      data|\n",
      "+---------------+------+----------+\n",
      "|              0| Norte|2020-01-30|\n",
      "|              0| Norte|2020-01-31|\n",
      "|              0| Norte|2020-02-01|\n",
      "+---------------+------+----------+\n",
      "only showing top 3 rows\n",
      "\n"
     ]
    }
   ],
   "source": [
    "# melhor usar essa opção\n",
    "data.select('casosAcumulados','regiao','data','')\\\n",
    "    .filter(\"regiao = 'Norte'\").show(3)"
   ]
  },
  {
   "cell_type": "markdown",
   "metadata": {},
   "source": [
    "> Depende de qual\n",
    ">    * mais pratico"
   ]
  },
  {
   "cell_type": "code",
   "execution_count": 63,
   "metadata": {},
   "outputs": [
    {
     "name": "stdout",
     "output_type": "stream",
     "text": [
      "+---------------+-------+----------+\n",
      "|casosAcumulados| regiao|      data|\n",
      "+---------------+-------+----------+\n",
      "|              2|Sudeste|2020-03-13|\n",
      "|              2|Sudeste|2020-03-14|\n",
      "|              2|Sudeste|2020-03-15|\n",
      "|              5|Sudeste|2020-03-16|\n",
      "|              7|Sudeste|2020-03-17|\n",
      "|             15|Sudeste|2020-03-18|\n",
      "|             29|Sudeste|2020-03-19|\n",
      "|             35|Sudeste|2020-03-20|\n",
      "|             38|Sudeste|2020-03-21|\n",
      "|             83|Sudeste|2020-03-22|\n",
      "+---------------+-------+----------+\n",
      "only showing top 10 rows\n",
      "\n"
     ]
    }
   ],
   "source": [
    "# melhor usar essa opção\n",
    "data.select('casosAcumulados','regiao','data')\\\n",
    "    .filter(\"regiao like 'S%' and casosAcumulados > 1 \").show(10)"
   ]
  },
  {
   "cell_type": "code",
   "execution_count": 77,
   "metadata": {},
   "outputs": [
    {
     "name": "stdout",
     "output_type": "stream",
     "text": [
      "+-------+------+----------+----------+---------------+-----------+----------------+\n",
      "| regiao|estado|      data|casosNovos|casosAcumulados|obitosNovos|obitosAcumulados|\n",
      "+-------+------+----------+----------+---------------+-----------+----------------+\n",
      "|Sudeste|    MG|2020-01-30|         0|              0|          0|               0|\n",
      "|Sudeste|    MG|2020-01-31|         0|              0|          0|               0|\n",
      "|Sudeste|    MG|2020-02-01|         0|              0|          0|               0|\n",
      "|Sudeste|    MG|2020-02-02|         0|              0|          0|               0|\n",
      "+-------+------+----------+----------+---------------+-----------+----------------+\n",
      "only showing top 4 rows\n",
      "\n"
     ]
    }
   ],
   "source": [
    "data.filter(\n",
    "    (F.col('regiao').isin(*['Sul','Sudeste'])) & (F.col(\"estado\")== 'MG')).show(4)"
   ]
  },
  {
   "cell_type": "code",
   "execution_count": 82,
   "metadata": {},
   "outputs": [
    {
     "name": "stdout",
     "output_type": "stream",
     "text": [
      "+-------+------+----------+----------+---------------+-----------+----------------+\n",
      "| regiao|estado|      data|casosNovos|casosAcumulados|obitosNovos|obitosAcumulados|\n",
      "+-------+------+----------+----------+---------------+-----------+----------------+\n",
      "|Sudeste|    MG|2020-01-30|         0|              0|          0|               0|\n",
      "|Sudeste|    MG|2020-01-31|         0|              0|          0|               0|\n",
      "|Sudeste|    MG|2020-02-01|         0|              0|          0|               0|\n",
      "|Sudeste|    MG|2020-02-02|         0|              0|          0|               0|\n",
      "+-------+------+----------+----------+---------------+-----------+----------------+\n",
      "only showing top 4 rows\n",
      "\n"
     ]
    }
   ],
   "source": [
    "data.filter(\n",
    "    (F.col('regiao').isin(*['Sul','Sudeste'])) & (F.col(\"estado\").like('M%'))).show(4)"
   ]
  },
  {
   "cell_type": "code",
   "execution_count": null,
   "metadata": {},
   "outputs": [],
   "source": []
  }
 ],
 "metadata": {
  "kernelspec": {
   "display_name": "venvGlobal",
   "language": "python",
   "name": "python3"
  },
  "language_info": {
   "codemirror_mode": {
    "name": "ipython",
    "version": 3
   },
   "file_extension": ".py",
   "mimetype": "text/x-python",
   "name": "python",
   "nbconvert_exporter": "python",
   "pygments_lexer": "ipython3",
   "version": "3.11.8"
  }
 },
 "nbformat": 4,
 "nbformat_minor": 2
}
